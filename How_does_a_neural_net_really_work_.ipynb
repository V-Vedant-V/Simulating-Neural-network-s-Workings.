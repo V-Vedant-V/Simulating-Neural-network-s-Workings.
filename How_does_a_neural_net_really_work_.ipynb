{
  "metadata": {
    "kernelspec": {
      "display_name": "Python 3",
      "name": "python3"
    },
    "language_info": {
      "pygments_lexer": "ipython3",
      "nbconvert_exporter": "python",
      "version": "3.6.4",
      "file_extension": ".py",
      "codemirror_mode": {
        "name": "ipython",
        "version": 3
      },
      "name": "python",
      "mimetype": "text/x-python"
    },
    "colab": {
      "name": "How does a neural net really work?",
      "provenance": [],
      "gpuType": "T4"
    },
    "accelerator": "GPU",
    "widgets": {
      "application/vnd.jupyter.widget-state+json": {
        "20754c7b226d4205973295f2bd78f893": {
          "model_module": "@jupyter-widgets/controls",
          "model_name": "VBoxModel",
          "model_module_version": "1.5.0",
          "state": {
            "_dom_classes": [
              "widget-interact"
            ],
            "_model_module": "@jupyter-widgets/controls",
            "_model_module_version": "1.5.0",
            "_model_name": "VBoxModel",
            "_view_count": null,
            "_view_module": "@jupyter-widgets/controls",
            "_view_module_version": "1.5.0",
            "_view_name": "VBoxView",
            "box_style": "",
            "children": [
              "IPY_MODEL_b582a56915134a98bad45d533bdcc560",
              "IPY_MODEL_1f6396f6c12b4fb88833bc7e8ba6c5e2",
              "IPY_MODEL_b092c82e635f442b855caed712d2bc7f",
              "IPY_MODEL_052efe453c114e1dab0509129d60f87b"
            ],
            "layout": "IPY_MODEL_92f9ef07eb65432b9c1e9fe784733aaa"
          }
        },
        "b582a56915134a98bad45d533bdcc560": {
          "model_module": "@jupyter-widgets/controls",
          "model_name": "FloatSliderModel",
          "model_module_version": "1.5.0",
          "state": {
            "_dom_classes": [],
            "_model_module": "@jupyter-widgets/controls",
            "_model_module_version": "1.5.0",
            "_model_name": "FloatSliderModel",
            "_view_count": null,
            "_view_module": "@jupyter-widgets/controls",
            "_view_module_version": "1.5.0",
            "_view_name": "FloatSliderView",
            "continuous_update": true,
            "description": "a",
            "description_tooltip": null,
            "disabled": false,
            "layout": "IPY_MODEL_3ca39cfedd364e4781efca9452449adb",
            "max": 9,
            "min": -3,
            "orientation": "horizontal",
            "readout": true,
            "readout_format": ".2f",
            "step": 0.1,
            "style": "IPY_MODEL_032f08d3859245a9a3d09ab4426326d6",
            "value": 1.8
          }
        },
        "1f6396f6c12b4fb88833bc7e8ba6c5e2": {
          "model_module": "@jupyter-widgets/controls",
          "model_name": "FloatSliderModel",
          "model_module_version": "1.5.0",
          "state": {
            "_dom_classes": [],
            "_model_module": "@jupyter-widgets/controls",
            "_model_module_version": "1.5.0",
            "_model_name": "FloatSliderModel",
            "_view_count": null,
            "_view_module": "@jupyter-widgets/controls",
            "_view_module_version": "1.5.0",
            "_view_name": "FloatSliderView",
            "continuous_update": true,
            "description": "b",
            "description_tooltip": null,
            "disabled": false,
            "layout": "IPY_MODEL_7df14f3805084968826d5616f0a1554c",
            "max": 6.300000000000001,
            "min": -2.1,
            "orientation": "horizontal",
            "readout": true,
            "readout_format": ".2f",
            "step": 0.1,
            "style": "IPY_MODEL_dc6f3e323f4c49739a32a25aab875c2f",
            "value": 0.8
          }
        },
        "b092c82e635f442b855caed712d2bc7f": {
          "model_module": "@jupyter-widgets/controls",
          "model_name": "FloatSliderModel",
          "model_module_version": "1.5.0",
          "state": {
            "_dom_classes": [],
            "_model_module": "@jupyter-widgets/controls",
            "_model_module_version": "1.5.0",
            "_model_name": "FloatSliderModel",
            "_view_count": null,
            "_view_module": "@jupyter-widgets/controls",
            "_view_module_version": "1.5.0",
            "_view_name": "FloatSliderView",
            "continuous_update": true,
            "description": "c",
            "description_tooltip": null,
            "disabled": false,
            "layout": "IPY_MODEL_3c8bad99686949f097447126088256be",
            "max": 6.300000000000001,
            "min": -2.1,
            "orientation": "horizontal",
            "readout": true,
            "readout_format": ".2f",
            "step": 0.1,
            "style": "IPY_MODEL_d02146c36b7a491e8b1d28ad34ea9dd9",
            "value": 1
          }
        },
        "052efe453c114e1dab0509129d60f87b": {
          "model_module": "@jupyter-widgets/output",
          "model_name": "OutputModel",
          "model_module_version": "1.0.0",
          "state": {
            "_dom_classes": [],
            "_model_module": "@jupyter-widgets/output",
            "_model_module_version": "1.0.0",
            "_model_name": "OutputModel",
            "_view_count": null,
            "_view_module": "@jupyter-widgets/output",
            "_view_module_version": "1.0.0",
            "_view_name": "OutputView",
            "layout": "IPY_MODEL_78cfa73a841c4df596e0447107bfa494",
            "msg_id": "",
            "outputs": [
              {
                "output_type": "display_data",
                "data": {
                  "text/plain": "<Figure size 576x432 with 1 Axes>",
                  "image/png": "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\n"
                },
                "metadata": {}
              }
            ]
          }
        },
        "92f9ef07eb65432b9c1e9fe784733aaa": {
          "model_module": "@jupyter-widgets/base",
          "model_name": "LayoutModel",
          "model_module_version": "1.2.0",
          "state": {
            "_model_module": "@jupyter-widgets/base",
            "_model_module_version": "1.2.0",
            "_model_name": "LayoutModel",
            "_view_count": null,
            "_view_module": "@jupyter-widgets/base",
            "_view_module_version": "1.2.0",
            "_view_name": "LayoutView",
            "align_content": null,
            "align_items": null,
            "align_self": null,
            "border": null,
            "bottom": null,
            "display": null,
            "flex": null,
            "flex_flow": null,
            "grid_area": null,
            "grid_auto_columns": null,
            "grid_auto_flow": null,
            "grid_auto_rows": null,
            "grid_column": null,
            "grid_gap": null,
            "grid_row": null,
            "grid_template_areas": null,
            "grid_template_columns": null,
            "grid_template_rows": null,
            "height": null,
            "justify_content": null,
            "justify_items": null,
            "left": null,
            "margin": null,
            "max_height": null,
            "max_width": null,
            "min_height": null,
            "min_width": null,
            "object_fit": null,
            "object_position": null,
            "order": null,
            "overflow": null,
            "overflow_x": null,
            "overflow_y": null,
            "padding": null,
            "right": null,
            "top": null,
            "visibility": null,
            "width": null
          }
        },
        "3ca39cfedd364e4781efca9452449adb": {
          "model_module": "@jupyter-widgets/base",
          "model_name": "LayoutModel",
          "model_module_version": "1.2.0",
          "state": {
            "_model_module": "@jupyter-widgets/base",
            "_model_module_version": "1.2.0",
            "_model_name": "LayoutModel",
            "_view_count": null,
            "_view_module": "@jupyter-widgets/base",
            "_view_module_version": "1.2.0",
            "_view_name": "LayoutView",
            "align_content": null,
            "align_items": null,
            "align_self": null,
            "border": null,
            "bottom": null,
            "display": null,
            "flex": null,
            "flex_flow": null,
            "grid_area": null,
            "grid_auto_columns": null,
            "grid_auto_flow": null,
            "grid_auto_rows": null,
            "grid_column": null,
            "grid_gap": null,
            "grid_row": null,
            "grid_template_areas": null,
            "grid_template_columns": null,
            "grid_template_rows": null,
            "height": null,
            "justify_content": null,
            "justify_items": null,
            "left": null,
            "margin": null,
            "max_height": null,
            "max_width": null,
            "min_height": null,
            "min_width": null,
            "object_fit": null,
            "object_position": null,
            "order": null,
            "overflow": null,
            "overflow_x": null,
            "overflow_y": null,
            "padding": null,
            "right": null,
            "top": null,
            "visibility": null,
            "width": null
          }
        },
        "032f08d3859245a9a3d09ab4426326d6": {
          "model_module": "@jupyter-widgets/controls",
          "model_name": "SliderStyleModel",
          "model_module_version": "1.5.0",
          "state": {
            "_model_module": "@jupyter-widgets/controls",
            "_model_module_version": "1.5.0",
            "_model_name": "SliderStyleModel",
            "_view_count": null,
            "_view_module": "@jupyter-widgets/base",
            "_view_module_version": "1.2.0",
            "_view_name": "StyleView",
            "description_width": "",
            "handle_color": null
          }
        },
        "7df14f3805084968826d5616f0a1554c": {
          "model_module": "@jupyter-widgets/base",
          "model_name": "LayoutModel",
          "model_module_version": "1.2.0",
          "state": {
            "_model_module": "@jupyter-widgets/base",
            "_model_module_version": "1.2.0",
            "_model_name": "LayoutModel",
            "_view_count": null,
            "_view_module": "@jupyter-widgets/base",
            "_view_module_version": "1.2.0",
            "_view_name": "LayoutView",
            "align_content": null,
            "align_items": null,
            "align_self": null,
            "border": null,
            "bottom": null,
            "display": null,
            "flex": null,
            "flex_flow": null,
            "grid_area": null,
            "grid_auto_columns": null,
            "grid_auto_flow": null,
            "grid_auto_rows": null,
            "grid_column": null,
            "grid_gap": null,
            "grid_row": null,
            "grid_template_areas": null,
            "grid_template_columns": null,
            "grid_template_rows": null,
            "height": null,
            "justify_content": null,
            "justify_items": null,
            "left": null,
            "margin": null,
            "max_height": null,
            "max_width": null,
            "min_height": null,
            "min_width": null,
            "object_fit": null,
            "object_position": null,
            "order": null,
            "overflow": null,
            "overflow_x": null,
            "overflow_y": null,
            "padding": null,
            "right": null,
            "top": null,
            "visibility": null,
            "width": null
          }
        },
        "dc6f3e323f4c49739a32a25aab875c2f": {
          "model_module": "@jupyter-widgets/controls",
          "model_name": "SliderStyleModel",
          "model_module_version": "1.5.0",
          "state": {
            "_model_module": "@jupyter-widgets/controls",
            "_model_module_version": "1.5.0",
            "_model_name": "SliderStyleModel",
            "_view_count": null,
            "_view_module": "@jupyter-widgets/base",
            "_view_module_version": "1.2.0",
            "_view_name": "StyleView",
            "description_width": "",
            "handle_color": null
          }
        },
        "3c8bad99686949f097447126088256be": {
          "model_module": "@jupyter-widgets/base",
          "model_name": "LayoutModel",
          "model_module_version": "1.2.0",
          "state": {
            "_model_module": "@jupyter-widgets/base",
            "_model_module_version": "1.2.0",
            "_model_name": "LayoutModel",
            "_view_count": null,
            "_view_module": "@jupyter-widgets/base",
            "_view_module_version": "1.2.0",
            "_view_name": "LayoutView",
            "align_content": null,
            "align_items": null,
            "align_self": null,
            "border": null,
            "bottom": null,
            "display": null,
            "flex": null,
            "flex_flow": null,
            "grid_area": null,
            "grid_auto_columns": null,
            "grid_auto_flow": null,
            "grid_auto_rows": null,
            "grid_column": null,
            "grid_gap": null,
            "grid_row": null,
            "grid_template_areas": null,
            "grid_template_columns": null,
            "grid_template_rows": null,
            "height": null,
            "justify_content": null,
            "justify_items": null,
            "left": null,
            "margin": null,
            "max_height": null,
            "max_width": null,
            "min_height": null,
            "min_width": null,
            "object_fit": null,
            "object_position": null,
            "order": null,
            "overflow": null,
            "overflow_x": null,
            "overflow_y": null,
            "padding": null,
            "right": null,
            "top": null,
            "visibility": null,
            "width": null
          }
        },
        "d02146c36b7a491e8b1d28ad34ea9dd9": {
          "model_module": "@jupyter-widgets/controls",
          "model_name": "SliderStyleModel",
          "model_module_version": "1.5.0",
          "state": {
            "_model_module": "@jupyter-widgets/controls",
            "_model_module_version": "1.5.0",
            "_model_name": "SliderStyleModel",
            "_view_count": null,
            "_view_module": "@jupyter-widgets/base",
            "_view_module_version": "1.2.0",
            "_view_name": "StyleView",
            "description_width": "",
            "handle_color": null
          }
        },
        "78cfa73a841c4df596e0447107bfa494": {
          "model_module": "@jupyter-widgets/base",
          "model_name": "LayoutModel",
          "model_module_version": "1.2.0",
          "state": {
            "_model_module": "@jupyter-widgets/base",
            "_model_module_version": "1.2.0",
            "_model_name": "LayoutModel",
            "_view_count": null,
            "_view_module": "@jupyter-widgets/base",
            "_view_module_version": "1.2.0",
            "_view_name": "LayoutView",
            "align_content": null,
            "align_items": null,
            "align_self": null,
            "border": null,
            "bottom": null,
            "display": null,
            "flex": null,
            "flex_flow": null,
            "grid_area": null,
            "grid_auto_columns": null,
            "grid_auto_flow": null,
            "grid_auto_rows": null,
            "grid_column": null,
            "grid_gap": null,
            "grid_row": null,
            "grid_template_areas": null,
            "grid_template_columns": null,
            "grid_template_rows": null,
            "height": null,
            "justify_content": null,
            "justify_items": null,
            "left": null,
            "margin": null,
            "max_height": null,
            "max_width": null,
            "min_height": null,
            "min_width": null,
            "object_fit": null,
            "object_position": null,
            "order": null,
            "overflow": null,
            "overflow_x": null,
            "overflow_y": null,
            "padding": null,
            "right": null,
            "top": null,
            "visibility": null,
            "width": null
          }
        },
        "be1f8c153bc44510bfa25bdc798b9a65": {
          "model_module": "@jupyter-widgets/controls",
          "model_name": "VBoxModel",
          "model_module_version": "1.5.0",
          "state": {
            "_dom_classes": [
              "widget-interact"
            ],
            "_model_module": "@jupyter-widgets/controls",
            "_model_module_version": "1.5.0",
            "_model_name": "VBoxModel",
            "_view_count": null,
            "_view_module": "@jupyter-widgets/controls",
            "_view_module_version": "1.5.0",
            "_view_name": "VBoxView",
            "box_style": "",
            "children": [
              "IPY_MODEL_91620cc8d2ff47038c09000bec78dc00",
              "IPY_MODEL_5f3eb3f1d4c746c2a894539562792733",
              "IPY_MODEL_4b81473b190c4b098e24ae6665c2eb40",
              "IPY_MODEL_36a3fc11c5e046a6bc54ea0e894462e2"
            ],
            "layout": "IPY_MODEL_e0516752a13546328ecb155f891ccc71"
          }
        },
        "91620cc8d2ff47038c09000bec78dc00": {
          "model_module": "@jupyter-widgets/controls",
          "model_name": "FloatSliderModel",
          "model_module_version": "1.5.0",
          "state": {
            "_dom_classes": [],
            "_model_module": "@jupyter-widgets/controls",
            "_model_module_version": "1.5.0",
            "_model_name": "FloatSliderModel",
            "_view_count": null,
            "_view_module": "@jupyter-widgets/controls",
            "_view_module_version": "1.5.0",
            "_view_name": "FloatSliderView",
            "continuous_update": true,
            "description": "a",
            "description_tooltip": null,
            "disabled": false,
            "layout": "IPY_MODEL_1c9f2967370347df806e6f193bd78af7",
            "max": 9,
            "min": -3,
            "orientation": "horizontal",
            "readout": true,
            "readout_format": ".2f",
            "step": 0.1,
            "style": "IPY_MODEL_5d1133b67fe54762a6b68bc7fe7751e0",
            "value": 2.2
          }
        },
        "5f3eb3f1d4c746c2a894539562792733": {
          "model_module": "@jupyter-widgets/controls",
          "model_name": "FloatSliderModel",
          "model_module_version": "1.5.0",
          "state": {
            "_dom_classes": [],
            "_model_module": "@jupyter-widgets/controls",
            "_model_module_version": "1.5.0",
            "_model_name": "FloatSliderModel",
            "_view_count": null,
            "_view_module": "@jupyter-widgets/controls",
            "_view_module_version": "1.5.0",
            "_view_name": "FloatSliderView",
            "continuous_update": true,
            "description": "b",
            "description_tooltip": null,
            "disabled": false,
            "layout": "IPY_MODEL_213f2569d5d64d4ab29214b8516fba66",
            "max": 6.300000000000001,
            "min": -2.1,
            "orientation": "horizontal",
            "readout": true,
            "readout_format": ".2f",
            "step": 0.1,
            "style": "IPY_MODEL_cce0879e93e745bd9cada949ed29406b",
            "value": 0.8
          }
        },
        "4b81473b190c4b098e24ae6665c2eb40": {
          "model_module": "@jupyter-widgets/controls",
          "model_name": "FloatSliderModel",
          "model_module_version": "1.5.0",
          "state": {
            "_dom_classes": [],
            "_model_module": "@jupyter-widgets/controls",
            "_model_module_version": "1.5.0",
            "_model_name": "FloatSliderModel",
            "_view_count": null,
            "_view_module": "@jupyter-widgets/controls",
            "_view_module_version": "1.5.0",
            "_view_name": "FloatSliderView",
            "continuous_update": true,
            "description": "c",
            "description_tooltip": null,
            "disabled": false,
            "layout": "IPY_MODEL_e58c33db255c4dee911a6da5dbfa6b14",
            "max": 6.300000000000001,
            "min": -2.1,
            "orientation": "horizontal",
            "readout": true,
            "readout_format": ".2f",
            "step": 0.1,
            "style": "IPY_MODEL_c204a0a0de674819859ff7e829addeda",
            "value": 0.8
          }
        },
        "36a3fc11c5e046a6bc54ea0e894462e2": {
          "model_module": "@jupyter-widgets/output",
          "model_name": "OutputModel",
          "model_module_version": "1.0.0",
          "state": {
            "_dom_classes": [],
            "_model_module": "@jupyter-widgets/output",
            "_model_module_version": "1.0.0",
            "_model_name": "OutputModel",
            "_view_count": null,
            "_view_module": "@jupyter-widgets/output",
            "_view_module_version": "1.0.0",
            "_view_name": "OutputView",
            "layout": "IPY_MODEL_8418500f6211446e9bdc869630a28b0b",
            "msg_id": "",
            "outputs": [
              {
                "output_type": "display_data",
                "data": {
                  "text/plain": "<Figure size 576x432 with 1 Axes>",
                  "image/png": "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\n"
                },
                "metadata": {}
              }
            ]
          }
        },
        "e0516752a13546328ecb155f891ccc71": {
          "model_module": "@jupyter-widgets/base",
          "model_name": "LayoutModel",
          "model_module_version": "1.2.0",
          "state": {
            "_model_module": "@jupyter-widgets/base",
            "_model_module_version": "1.2.0",
            "_model_name": "LayoutModel",
            "_view_count": null,
            "_view_module": "@jupyter-widgets/base",
            "_view_module_version": "1.2.0",
            "_view_name": "LayoutView",
            "align_content": null,
            "align_items": null,
            "align_self": null,
            "border": null,
            "bottom": null,
            "display": null,
            "flex": null,
            "flex_flow": null,
            "grid_area": null,
            "grid_auto_columns": null,
            "grid_auto_flow": null,
            "grid_auto_rows": null,
            "grid_column": null,
            "grid_gap": null,
            "grid_row": null,
            "grid_template_areas": null,
            "grid_template_columns": null,
            "grid_template_rows": null,
            "height": null,
            "justify_content": null,
            "justify_items": null,
            "left": null,
            "margin": null,
            "max_height": null,
            "max_width": null,
            "min_height": null,
            "min_width": null,
            "object_fit": null,
            "object_position": null,
            "order": null,
            "overflow": null,
            "overflow_x": null,
            "overflow_y": null,
            "padding": null,
            "right": null,
            "top": null,
            "visibility": null,
            "width": null
          }
        },
        "1c9f2967370347df806e6f193bd78af7": {
          "model_module": "@jupyter-widgets/base",
          "model_name": "LayoutModel",
          "model_module_version": "1.2.0",
          "state": {
            "_model_module": "@jupyter-widgets/base",
            "_model_module_version": "1.2.0",
            "_model_name": "LayoutModel",
            "_view_count": null,
            "_view_module": "@jupyter-widgets/base",
            "_view_module_version": "1.2.0",
            "_view_name": "LayoutView",
            "align_content": null,
            "align_items": null,
            "align_self": null,
            "border": null,
            "bottom": null,
            "display": null,
            "flex": null,
            "flex_flow": null,
            "grid_area": null,
            "grid_auto_columns": null,
            "grid_auto_flow": null,
            "grid_auto_rows": null,
            "grid_column": null,
            "grid_gap": null,
            "grid_row": null,
            "grid_template_areas": null,
            "grid_template_columns": null,
            "grid_template_rows": null,
            "height": null,
            "justify_content": null,
            "justify_items": null,
            "left": null,
            "margin": null,
            "max_height": null,
            "max_width": null,
            "min_height": null,
            "min_width": null,
            "object_fit": null,
            "object_position": null,
            "order": null,
            "overflow": null,
            "overflow_x": null,
            "overflow_y": null,
            "padding": null,
            "right": null,
            "top": null,
            "visibility": null,
            "width": null
          }
        },
        "5d1133b67fe54762a6b68bc7fe7751e0": {
          "model_module": "@jupyter-widgets/controls",
          "model_name": "SliderStyleModel",
          "model_module_version": "1.5.0",
          "state": {
            "_model_module": "@jupyter-widgets/controls",
            "_model_module_version": "1.5.0",
            "_model_name": "SliderStyleModel",
            "_view_count": null,
            "_view_module": "@jupyter-widgets/base",
            "_view_module_version": "1.2.0",
            "_view_name": "StyleView",
            "description_width": "",
            "handle_color": null
          }
        },
        "213f2569d5d64d4ab29214b8516fba66": {
          "model_module": "@jupyter-widgets/base",
          "model_name": "LayoutModel",
          "model_module_version": "1.2.0",
          "state": {
            "_model_module": "@jupyter-widgets/base",
            "_model_module_version": "1.2.0",
            "_model_name": "LayoutModel",
            "_view_count": null,
            "_view_module": "@jupyter-widgets/base",
            "_view_module_version": "1.2.0",
            "_view_name": "LayoutView",
            "align_content": null,
            "align_items": null,
            "align_self": null,
            "border": null,
            "bottom": null,
            "display": null,
            "flex": null,
            "flex_flow": null,
            "grid_area": null,
            "grid_auto_columns": null,
            "grid_auto_flow": null,
            "grid_auto_rows": null,
            "grid_column": null,
            "grid_gap": null,
            "grid_row": null,
            "grid_template_areas": null,
            "grid_template_columns": null,
            "grid_template_rows": null,
            "height": null,
            "justify_content": null,
            "justify_items": null,
            "left": null,
            "margin": null,
            "max_height": null,
            "max_width": null,
            "min_height": null,
            "min_width": null,
            "object_fit": null,
            "object_position": null,
            "order": null,
            "overflow": null,
            "overflow_x": null,
            "overflow_y": null,
            "padding": null,
            "right": null,
            "top": null,
            "visibility": null,
            "width": null
          }
        },
        "cce0879e93e745bd9cada949ed29406b": {
          "model_module": "@jupyter-widgets/controls",
          "model_name": "SliderStyleModel",
          "model_module_version": "1.5.0",
          "state": {
            "_model_module": "@jupyter-widgets/controls",
            "_model_module_version": "1.5.0",
            "_model_name": "SliderStyleModel",
            "_view_count": null,
            "_view_module": "@jupyter-widgets/base",
            "_view_module_version": "1.2.0",
            "_view_name": "StyleView",
            "description_width": "",
            "handle_color": null
          }
        },
        "e58c33db255c4dee911a6da5dbfa6b14": {
          "model_module": "@jupyter-widgets/base",
          "model_name": "LayoutModel",
          "model_module_version": "1.2.0",
          "state": {
            "_model_module": "@jupyter-widgets/base",
            "_model_module_version": "1.2.0",
            "_model_name": "LayoutModel",
            "_view_count": null,
            "_view_module": "@jupyter-widgets/base",
            "_view_module_version": "1.2.0",
            "_view_name": "LayoutView",
            "align_content": null,
            "align_items": null,
            "align_self": null,
            "border": null,
            "bottom": null,
            "display": null,
            "flex": null,
            "flex_flow": null,
            "grid_area": null,
            "grid_auto_columns": null,
            "grid_auto_flow": null,
            "grid_auto_rows": null,
            "grid_column": null,
            "grid_gap": null,
            "grid_row": null,
            "grid_template_areas": null,
            "grid_template_columns": null,
            "grid_template_rows": null,
            "height": null,
            "justify_content": null,
            "justify_items": null,
            "left": null,
            "margin": null,
            "max_height": null,
            "max_width": null,
            "min_height": null,
            "min_width": null,
            "object_fit": null,
            "object_position": null,
            "order": null,
            "overflow": null,
            "overflow_x": null,
            "overflow_y": null,
            "padding": null,
            "right": null,
            "top": null,
            "visibility": null,
            "width": null
          }
        },
        "c204a0a0de674819859ff7e829addeda": {
          "model_module": "@jupyter-widgets/controls",
          "model_name": "SliderStyleModel",
          "model_module_version": "1.5.0",
          "state": {
            "_model_module": "@jupyter-widgets/controls",
            "_model_module_version": "1.5.0",
            "_model_name": "SliderStyleModel",
            "_view_count": null,
            "_view_module": "@jupyter-widgets/base",
            "_view_module_version": "1.2.0",
            "_view_name": "StyleView",
            "description_width": "",
            "handle_color": null
          }
        },
        "8418500f6211446e9bdc869630a28b0b": {
          "model_module": "@jupyter-widgets/base",
          "model_name": "LayoutModel",
          "model_module_version": "1.2.0",
          "state": {
            "_model_module": "@jupyter-widgets/base",
            "_model_module_version": "1.2.0",
            "_model_name": "LayoutModel",
            "_view_count": null,
            "_view_module": "@jupyter-widgets/base",
            "_view_module_version": "1.2.0",
            "_view_name": "LayoutView",
            "align_content": null,
            "align_items": null,
            "align_self": null,
            "border": null,
            "bottom": null,
            "display": null,
            "flex": null,
            "flex_flow": null,
            "grid_area": null,
            "grid_auto_columns": null,
            "grid_auto_flow": null,
            "grid_auto_rows": null,
            "grid_column": null,
            "grid_gap": null,
            "grid_row": null,
            "grid_template_areas": null,
            "grid_template_columns": null,
            "grid_template_rows": null,
            "height": null,
            "justify_content": null,
            "justify_items": null,
            "left": null,
            "margin": null,
            "max_height": null,
            "max_width": null,
            "min_height": null,
            "min_width": null,
            "object_fit": null,
            "object_position": null,
            "order": null,
            "overflow": null,
            "overflow_x": null,
            "overflow_y": null,
            "padding": null,
            "right": null,
            "top": null,
            "visibility": null,
            "width": null
          }
        },
        "0adc482c0aeb4753a33929245c550045": {
          "model_module": "@jupyter-widgets/controls",
          "model_name": "VBoxModel",
          "model_module_version": "1.5.0",
          "state": {
            "_dom_classes": [
              "widget-interact"
            ],
            "_model_module": "@jupyter-widgets/controls",
            "_model_module_version": "1.5.0",
            "_model_name": "VBoxModel",
            "_view_count": null,
            "_view_module": "@jupyter-widgets/controls",
            "_view_module_version": "1.5.0",
            "_view_name": "VBoxView",
            "box_style": "",
            "children": [
              "IPY_MODEL_7ff22f641a6a4b2cbcad943e70847f12",
              "IPY_MODEL_de76d4938a8d48a79a7fb49809de0bba",
              "IPY_MODEL_f681da0656f54a379cc87fecd364864f"
            ],
            "layout": "IPY_MODEL_4378f9113a47409daf1db5a10f392d30"
          }
        },
        "7ff22f641a6a4b2cbcad943e70847f12": {
          "model_module": "@jupyter-widgets/controls",
          "model_name": "FloatSliderModel",
          "model_module_version": "1.5.0",
          "state": {
            "_dom_classes": [],
            "_model_module": "@jupyter-widgets/controls",
            "_model_module_version": "1.5.0",
            "_model_name": "FloatSliderModel",
            "_view_count": null,
            "_view_module": "@jupyter-widgets/controls",
            "_view_module_version": "1.5.0",
            "_view_name": "FloatSliderView",
            "continuous_update": true,
            "description": "m",
            "description_tooltip": null,
            "disabled": false,
            "layout": "IPY_MODEL_cc8870019b3b49bead46f387ba554791",
            "max": 4.5,
            "min": -1.5,
            "orientation": "horizontal",
            "readout": true,
            "readout_format": ".2f",
            "step": 0.1,
            "style": "IPY_MODEL_fe56f811eaa24440b7ad3141a539da6c",
            "value": 1.5
          }
        },
        "de76d4938a8d48a79a7fb49809de0bba": {
          "model_module": "@jupyter-widgets/controls",
          "model_name": "FloatSliderModel",
          "model_module_version": "1.5.0",
          "state": {
            "_dom_classes": [],
            "_model_module": "@jupyter-widgets/controls",
            "_model_module_version": "1.5.0",
            "_model_name": "FloatSliderModel",
            "_view_count": null,
            "_view_module": "@jupyter-widgets/controls",
            "_view_module_version": "1.5.0",
            "_view_name": "FloatSliderView",
            "continuous_update": true,
            "description": "b",
            "description_tooltip": null,
            "disabled": false,
            "layout": "IPY_MODEL_f3ad70a8c9094d999eb7b7638f01ab4f",
            "max": 4.5,
            "min": -1.5,
            "orientation": "horizontal",
            "readout": true,
            "readout_format": ".2f",
            "step": 0.1,
            "style": "IPY_MODEL_599e1410c11844c58b30a1b4339f2640",
            "value": 1.5
          }
        },
        "f681da0656f54a379cc87fecd364864f": {
          "model_module": "@jupyter-widgets/output",
          "model_name": "OutputModel",
          "model_module_version": "1.0.0",
          "state": {
            "_dom_classes": [],
            "_model_module": "@jupyter-widgets/output",
            "_model_module_version": "1.0.0",
            "_model_name": "OutputModel",
            "_view_count": null,
            "_view_module": "@jupyter-widgets/output",
            "_view_module_version": "1.0.0",
            "_view_name": "OutputView",
            "layout": "IPY_MODEL_c22cb0eb7fde439bb872e691772448a9",
            "msg_id": "",
            "outputs": [
              {
                "output_type": "display_data",
                "data": {
                  "text/plain": "<Figure size 576x432 with 1 Axes>",
                  "image/png": "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\n"
                },
                "metadata": {}
              }
            ]
          }
        },
        "4378f9113a47409daf1db5a10f392d30": {
          "model_module": "@jupyter-widgets/base",
          "model_name": "LayoutModel",
          "model_module_version": "1.2.0",
          "state": {
            "_model_module": "@jupyter-widgets/base",
            "_model_module_version": "1.2.0",
            "_model_name": "LayoutModel",
            "_view_count": null,
            "_view_module": "@jupyter-widgets/base",
            "_view_module_version": "1.2.0",
            "_view_name": "LayoutView",
            "align_content": null,
            "align_items": null,
            "align_self": null,
            "border": null,
            "bottom": null,
            "display": null,
            "flex": null,
            "flex_flow": null,
            "grid_area": null,
            "grid_auto_columns": null,
            "grid_auto_flow": null,
            "grid_auto_rows": null,
            "grid_column": null,
            "grid_gap": null,
            "grid_row": null,
            "grid_template_areas": null,
            "grid_template_columns": null,
            "grid_template_rows": null,
            "height": null,
            "justify_content": null,
            "justify_items": null,
            "left": null,
            "margin": null,
            "max_height": null,
            "max_width": null,
            "min_height": null,
            "min_width": null,
            "object_fit": null,
            "object_position": null,
            "order": null,
            "overflow": null,
            "overflow_x": null,
            "overflow_y": null,
            "padding": null,
            "right": null,
            "top": null,
            "visibility": null,
            "width": null
          }
        },
        "cc8870019b3b49bead46f387ba554791": {
          "model_module": "@jupyter-widgets/base",
          "model_name": "LayoutModel",
          "model_module_version": "1.2.0",
          "state": {
            "_model_module": "@jupyter-widgets/base",
            "_model_module_version": "1.2.0",
            "_model_name": "LayoutModel",
            "_view_count": null,
            "_view_module": "@jupyter-widgets/base",
            "_view_module_version": "1.2.0",
            "_view_name": "LayoutView",
            "align_content": null,
            "align_items": null,
            "align_self": null,
            "border": null,
            "bottom": null,
            "display": null,
            "flex": null,
            "flex_flow": null,
            "grid_area": null,
            "grid_auto_columns": null,
            "grid_auto_flow": null,
            "grid_auto_rows": null,
            "grid_column": null,
            "grid_gap": null,
            "grid_row": null,
            "grid_template_areas": null,
            "grid_template_columns": null,
            "grid_template_rows": null,
            "height": null,
            "justify_content": null,
            "justify_items": null,
            "left": null,
            "margin": null,
            "max_height": null,
            "max_width": null,
            "min_height": null,
            "min_width": null,
            "object_fit": null,
            "object_position": null,
            "order": null,
            "overflow": null,
            "overflow_x": null,
            "overflow_y": null,
            "padding": null,
            "right": null,
            "top": null,
            "visibility": null,
            "width": null
          }
        },
        "fe56f811eaa24440b7ad3141a539da6c": {
          "model_module": "@jupyter-widgets/controls",
          "model_name": "SliderStyleModel",
          "model_module_version": "1.5.0",
          "state": {
            "_model_module": "@jupyter-widgets/controls",
            "_model_module_version": "1.5.0",
            "_model_name": "SliderStyleModel",
            "_view_count": null,
            "_view_module": "@jupyter-widgets/base",
            "_view_module_version": "1.2.0",
            "_view_name": "StyleView",
            "description_width": "",
            "handle_color": null
          }
        },
        "f3ad70a8c9094d999eb7b7638f01ab4f": {
          "model_module": "@jupyter-widgets/base",
          "model_name": "LayoutModel",
          "model_module_version": "1.2.0",
          "state": {
            "_model_module": "@jupyter-widgets/base",
            "_model_module_version": "1.2.0",
            "_model_name": "LayoutModel",
            "_view_count": null,
            "_view_module": "@jupyter-widgets/base",
            "_view_module_version": "1.2.0",
            "_view_name": "LayoutView",
            "align_content": null,
            "align_items": null,
            "align_self": null,
            "border": null,
            "bottom": null,
            "display": null,
            "flex": null,
            "flex_flow": null,
            "grid_area": null,
            "grid_auto_columns": null,
            "grid_auto_flow": null,
            "grid_auto_rows": null,
            "grid_column": null,
            "grid_gap": null,
            "grid_row": null,
            "grid_template_areas": null,
            "grid_template_columns": null,
            "grid_template_rows": null,
            "height": null,
            "justify_content": null,
            "justify_items": null,
            "left": null,
            "margin": null,
            "max_height": null,
            "max_width": null,
            "min_height": null,
            "min_width": null,
            "object_fit": null,
            "object_position": null,
            "order": null,
            "overflow": null,
            "overflow_x": null,
            "overflow_y": null,
            "padding": null,
            "right": null,
            "top": null,
            "visibility": null,
            "width": null
          }
        },
        "599e1410c11844c58b30a1b4339f2640": {
          "model_module": "@jupyter-widgets/controls",
          "model_name": "SliderStyleModel",
          "model_module_version": "1.5.0",
          "state": {
            "_model_module": "@jupyter-widgets/controls",
            "_model_module_version": "1.5.0",
            "_model_name": "SliderStyleModel",
            "_view_count": null,
            "_view_module": "@jupyter-widgets/base",
            "_view_module_version": "1.2.0",
            "_view_name": "StyleView",
            "description_width": "",
            "handle_color": null
          }
        },
        "c22cb0eb7fde439bb872e691772448a9": {
          "model_module": "@jupyter-widgets/base",
          "model_name": "LayoutModel",
          "model_module_version": "1.2.0",
          "state": {
            "_model_module": "@jupyter-widgets/base",
            "_model_module_version": "1.2.0",
            "_model_name": "LayoutModel",
            "_view_count": null,
            "_view_module": "@jupyter-widgets/base",
            "_view_module_version": "1.2.0",
            "_view_name": "LayoutView",
            "align_content": null,
            "align_items": null,
            "align_self": null,
            "border": null,
            "bottom": null,
            "display": null,
            "flex": null,
            "flex_flow": null,
            "grid_area": null,
            "grid_auto_columns": null,
            "grid_auto_flow": null,
            "grid_auto_rows": null,
            "grid_column": null,
            "grid_gap": null,
            "grid_row": null,
            "grid_template_areas": null,
            "grid_template_columns": null,
            "grid_template_rows": null,
            "height": null,
            "justify_content": null,
            "justify_items": null,
            "left": null,
            "margin": null,
            "max_height": null,
            "max_width": null,
            "min_height": null,
            "min_width": null,
            "object_fit": null,
            "object_position": null,
            "order": null,
            "overflow": null,
            "overflow_x": null,
            "overflow_y": null,
            "padding": null,
            "right": null,
            "top": null,
            "visibility": null,
            "width": null
          }
        },
        "d5cde745cc274e30a831c3b38bcbc6e3": {
          "model_module": "@jupyter-widgets/controls",
          "model_name": "VBoxModel",
          "model_module_version": "1.5.0",
          "state": {
            "_dom_classes": [
              "widget-interact"
            ],
            "_model_module": "@jupyter-widgets/controls",
            "_model_module_version": "1.5.0",
            "_model_name": "VBoxModel",
            "_view_count": null,
            "_view_module": "@jupyter-widgets/controls",
            "_view_module_version": "1.5.0",
            "_view_name": "VBoxView",
            "box_style": "",
            "children": [
              "IPY_MODEL_53e54432cbeb40238209afbbbc5f44c0",
              "IPY_MODEL_12de535b590e4d7aa08d22358fbb8a2a",
              "IPY_MODEL_5a03921f25414bed9e688391847ceb29",
              "IPY_MODEL_b37a462a9b4946cf86d0ecc06daf6bcf",
              "IPY_MODEL_0988e8b0af764582b68409d16f376f59"
            ],
            "layout": "IPY_MODEL_0ecc99ed5c6247beba37558693f336ae"
          }
        },
        "53e54432cbeb40238209afbbbc5f44c0": {
          "model_module": "@jupyter-widgets/controls",
          "model_name": "FloatSliderModel",
          "model_module_version": "1.5.0",
          "state": {
            "_dom_classes": [],
            "_model_module": "@jupyter-widgets/controls",
            "_model_module_version": "1.5.0",
            "_model_name": "FloatSliderModel",
            "_view_count": null,
            "_view_module": "@jupyter-widgets/controls",
            "_view_module_version": "1.5.0",
            "_view_name": "FloatSliderView",
            "continuous_update": true,
            "description": "m1",
            "description_tooltip": null,
            "disabled": false,
            "layout": "IPY_MODEL_2616846a85224fa88711646733cfb8ff",
            "max": 1.5,
            "min": -4.5,
            "orientation": "horizontal",
            "readout": true,
            "readout_format": ".2f",
            "step": 0.1,
            "style": "IPY_MODEL_04b8ebe2390b425888ed370f4c08f369",
            "value": -1.5
          }
        },
        "12de535b590e4d7aa08d22358fbb8a2a": {
          "model_module": "@jupyter-widgets/controls",
          "model_name": "FloatSliderModel",
          "model_module_version": "1.5.0",
          "state": {
            "_dom_classes": [],
            "_model_module": "@jupyter-widgets/controls",
            "_model_module_version": "1.5.0",
            "_model_name": "FloatSliderModel",
            "_view_count": null,
            "_view_module": "@jupyter-widgets/controls",
            "_view_module_version": "1.5.0",
            "_view_name": "FloatSliderView",
            "continuous_update": true,
            "description": "b1",
            "description_tooltip": null,
            "disabled": false,
            "layout": "IPY_MODEL_a518bfdc24324bc2a85e905ac7a14b59",
            "max": 1.5,
            "min": -4.5,
            "orientation": "horizontal",
            "readout": true,
            "readout_format": ".2f",
            "step": 0.1,
            "style": "IPY_MODEL_1ea6719cba9744369adb064523535007",
            "value": -1.5
          }
        },
        "5a03921f25414bed9e688391847ceb29": {
          "model_module": "@jupyter-widgets/controls",
          "model_name": "FloatSliderModel",
          "model_module_version": "1.5.0",
          "state": {
            "_dom_classes": [],
            "_model_module": "@jupyter-widgets/controls",
            "_model_module_version": "1.5.0",
            "_model_name": "FloatSliderModel",
            "_view_count": null,
            "_view_module": "@jupyter-widgets/controls",
            "_view_module_version": "1.5.0",
            "_view_name": "FloatSliderView",
            "continuous_update": true,
            "description": "m2",
            "description_tooltip": null,
            "disabled": false,
            "layout": "IPY_MODEL_65b5f5b74f6b4be1b363a2ab5718e5ba",
            "max": 4.5,
            "min": -1.5,
            "orientation": "horizontal",
            "readout": true,
            "readout_format": ".2f",
            "step": 0.1,
            "style": "IPY_MODEL_fe74e24c84fd4e39b8b0047bd0be0492",
            "value": 1.5
          }
        },
        "b37a462a9b4946cf86d0ecc06daf6bcf": {
          "model_module": "@jupyter-widgets/controls",
          "model_name": "FloatSliderModel",
          "model_module_version": "1.5.0",
          "state": {
            "_dom_classes": [],
            "_model_module": "@jupyter-widgets/controls",
            "_model_module_version": "1.5.0",
            "_model_name": "FloatSliderModel",
            "_view_count": null,
            "_view_module": "@jupyter-widgets/controls",
            "_view_module_version": "1.5.0",
            "_view_name": "FloatSliderView",
            "continuous_update": true,
            "description": "b2",
            "description_tooltip": null,
            "disabled": false,
            "layout": "IPY_MODEL_372249d83ad643538ae65656cec17d0a",
            "max": 4.5,
            "min": -1.5,
            "orientation": "horizontal",
            "readout": true,
            "readout_format": ".2f",
            "step": 0.1,
            "style": "IPY_MODEL_b1016ed9f26b465fb7323896ae194642",
            "value": 1.5
          }
        },
        "0988e8b0af764582b68409d16f376f59": {
          "model_module": "@jupyter-widgets/output",
          "model_name": "OutputModel",
          "model_module_version": "1.0.0",
          "state": {
            "_dom_classes": [],
            "_model_module": "@jupyter-widgets/output",
            "_model_module_version": "1.0.0",
            "_model_name": "OutputModel",
            "_view_count": null,
            "_view_module": "@jupyter-widgets/output",
            "_view_module_version": "1.0.0",
            "_view_name": "OutputView",
            "layout": "IPY_MODEL_9bf5ce0105ab476597f84db504234e74",
            "msg_id": "",
            "outputs": [
              {
                "output_type": "display_data",
                "data": {
                  "text/plain": "<Figure size 576x432 with 1 Axes>",
                  "image/png": "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\n"
                },
                "metadata": {}
              }
            ]
          }
        },
        "0ecc99ed5c6247beba37558693f336ae": {
          "model_module": "@jupyter-widgets/base",
          "model_name": "LayoutModel",
          "model_module_version": "1.2.0",
          "state": {
            "_model_module": "@jupyter-widgets/base",
            "_model_module_version": "1.2.0",
            "_model_name": "LayoutModel",
            "_view_count": null,
            "_view_module": "@jupyter-widgets/base",
            "_view_module_version": "1.2.0",
            "_view_name": "LayoutView",
            "align_content": null,
            "align_items": null,
            "align_self": null,
            "border": null,
            "bottom": null,
            "display": null,
            "flex": null,
            "flex_flow": null,
            "grid_area": null,
            "grid_auto_columns": null,
            "grid_auto_flow": null,
            "grid_auto_rows": null,
            "grid_column": null,
            "grid_gap": null,
            "grid_row": null,
            "grid_template_areas": null,
            "grid_template_columns": null,
            "grid_template_rows": null,
            "height": null,
            "justify_content": null,
            "justify_items": null,
            "left": null,
            "margin": null,
            "max_height": null,
            "max_width": null,
            "min_height": null,
            "min_width": null,
            "object_fit": null,
            "object_position": null,
            "order": null,
            "overflow": null,
            "overflow_x": null,
            "overflow_y": null,
            "padding": null,
            "right": null,
            "top": null,
            "visibility": null,
            "width": null
          }
        },
        "2616846a85224fa88711646733cfb8ff": {
          "model_module": "@jupyter-widgets/base",
          "model_name": "LayoutModel",
          "model_module_version": "1.2.0",
          "state": {
            "_model_module": "@jupyter-widgets/base",
            "_model_module_version": "1.2.0",
            "_model_name": "LayoutModel",
            "_view_count": null,
            "_view_module": "@jupyter-widgets/base",
            "_view_module_version": "1.2.0",
            "_view_name": "LayoutView",
            "align_content": null,
            "align_items": null,
            "align_self": null,
            "border": null,
            "bottom": null,
            "display": null,
            "flex": null,
            "flex_flow": null,
            "grid_area": null,
            "grid_auto_columns": null,
            "grid_auto_flow": null,
            "grid_auto_rows": null,
            "grid_column": null,
            "grid_gap": null,
            "grid_row": null,
            "grid_template_areas": null,
            "grid_template_columns": null,
            "grid_template_rows": null,
            "height": null,
            "justify_content": null,
            "justify_items": null,
            "left": null,
            "margin": null,
            "max_height": null,
            "max_width": null,
            "min_height": null,
            "min_width": null,
            "object_fit": null,
            "object_position": null,
            "order": null,
            "overflow": null,
            "overflow_x": null,
            "overflow_y": null,
            "padding": null,
            "right": null,
            "top": null,
            "visibility": null,
            "width": null
          }
        },
        "04b8ebe2390b425888ed370f4c08f369": {
          "model_module": "@jupyter-widgets/controls",
          "model_name": "SliderStyleModel",
          "model_module_version": "1.5.0",
          "state": {
            "_model_module": "@jupyter-widgets/controls",
            "_model_module_version": "1.5.0",
            "_model_name": "SliderStyleModel",
            "_view_count": null,
            "_view_module": "@jupyter-widgets/base",
            "_view_module_version": "1.2.0",
            "_view_name": "StyleView",
            "description_width": "",
            "handle_color": null
          }
        },
        "a518bfdc24324bc2a85e905ac7a14b59": {
          "model_module": "@jupyter-widgets/base",
          "model_name": "LayoutModel",
          "model_module_version": "1.2.0",
          "state": {
            "_model_module": "@jupyter-widgets/base",
            "_model_module_version": "1.2.0",
            "_model_name": "LayoutModel",
            "_view_count": null,
            "_view_module": "@jupyter-widgets/base",
            "_view_module_version": "1.2.0",
            "_view_name": "LayoutView",
            "align_content": null,
            "align_items": null,
            "align_self": null,
            "border": null,
            "bottom": null,
            "display": null,
            "flex": null,
            "flex_flow": null,
            "grid_area": null,
            "grid_auto_columns": null,
            "grid_auto_flow": null,
            "grid_auto_rows": null,
            "grid_column": null,
            "grid_gap": null,
            "grid_row": null,
            "grid_template_areas": null,
            "grid_template_columns": null,
            "grid_template_rows": null,
            "height": null,
            "justify_content": null,
            "justify_items": null,
            "left": null,
            "margin": null,
            "max_height": null,
            "max_width": null,
            "min_height": null,
            "min_width": null,
            "object_fit": null,
            "object_position": null,
            "order": null,
            "overflow": null,
            "overflow_x": null,
            "overflow_y": null,
            "padding": null,
            "right": null,
            "top": null,
            "visibility": null,
            "width": null
          }
        },
        "1ea6719cba9744369adb064523535007": {
          "model_module": "@jupyter-widgets/controls",
          "model_name": "SliderStyleModel",
          "model_module_version": "1.5.0",
          "state": {
            "_model_module": "@jupyter-widgets/controls",
            "_model_module_version": "1.5.0",
            "_model_name": "SliderStyleModel",
            "_view_count": null,
            "_view_module": "@jupyter-widgets/base",
            "_view_module_version": "1.2.0",
            "_view_name": "StyleView",
            "description_width": "",
            "handle_color": null
          }
        },
        "65b5f5b74f6b4be1b363a2ab5718e5ba": {
          "model_module": "@jupyter-widgets/base",
          "model_name": "LayoutModel",
          "model_module_version": "1.2.0",
          "state": {
            "_model_module": "@jupyter-widgets/base",
            "_model_module_version": "1.2.0",
            "_model_name": "LayoutModel",
            "_view_count": null,
            "_view_module": "@jupyter-widgets/base",
            "_view_module_version": "1.2.0",
            "_view_name": "LayoutView",
            "align_content": null,
            "align_items": null,
            "align_self": null,
            "border": null,
            "bottom": null,
            "display": null,
            "flex": null,
            "flex_flow": null,
            "grid_area": null,
            "grid_auto_columns": null,
            "grid_auto_flow": null,
            "grid_auto_rows": null,
            "grid_column": null,
            "grid_gap": null,
            "grid_row": null,
            "grid_template_areas": null,
            "grid_template_columns": null,
            "grid_template_rows": null,
            "height": null,
            "justify_content": null,
            "justify_items": null,
            "left": null,
            "margin": null,
            "max_height": null,
            "max_width": null,
            "min_height": null,
            "min_width": null,
            "object_fit": null,
            "object_position": null,
            "order": null,
            "overflow": null,
            "overflow_x": null,
            "overflow_y": null,
            "padding": null,
            "right": null,
            "top": null,
            "visibility": null,
            "width": null
          }
        },
        "fe74e24c84fd4e39b8b0047bd0be0492": {
          "model_module": "@jupyter-widgets/controls",
          "model_name": "SliderStyleModel",
          "model_module_version": "1.5.0",
          "state": {
            "_model_module": "@jupyter-widgets/controls",
            "_model_module_version": "1.5.0",
            "_model_name": "SliderStyleModel",
            "_view_count": null,
            "_view_module": "@jupyter-widgets/base",
            "_view_module_version": "1.2.0",
            "_view_name": "StyleView",
            "description_width": "",
            "handle_color": null
          }
        },
        "372249d83ad643538ae65656cec17d0a": {
          "model_module": "@jupyter-widgets/base",
          "model_name": "LayoutModel",
          "model_module_version": "1.2.0",
          "state": {
            "_model_module": "@jupyter-widgets/base",
            "_model_module_version": "1.2.0",
            "_model_name": "LayoutModel",
            "_view_count": null,
            "_view_module": "@jupyter-widgets/base",
            "_view_module_version": "1.2.0",
            "_view_name": "LayoutView",
            "align_content": null,
            "align_items": null,
            "align_self": null,
            "border": null,
            "bottom": null,
            "display": null,
            "flex": null,
            "flex_flow": null,
            "grid_area": null,
            "grid_auto_columns": null,
            "grid_auto_flow": null,
            "grid_auto_rows": null,
            "grid_column": null,
            "grid_gap": null,
            "grid_row": null,
            "grid_template_areas": null,
            "grid_template_columns": null,
            "grid_template_rows": null,
            "height": null,
            "justify_content": null,
            "justify_items": null,
            "left": null,
            "margin": null,
            "max_height": null,
            "max_width": null,
            "min_height": null,
            "min_width": null,
            "object_fit": null,
            "object_position": null,
            "order": null,
            "overflow": null,
            "overflow_x": null,
            "overflow_y": null,
            "padding": null,
            "right": null,
            "top": null,
            "visibility": null,
            "width": null
          }
        },
        "b1016ed9f26b465fb7323896ae194642": {
          "model_module": "@jupyter-widgets/controls",
          "model_name": "SliderStyleModel",
          "model_module_version": "1.5.0",
          "state": {
            "_model_module": "@jupyter-widgets/controls",
            "_model_module_version": "1.5.0",
            "_model_name": "SliderStyleModel",
            "_view_count": null,
            "_view_module": "@jupyter-widgets/base",
            "_view_module_version": "1.2.0",
            "_view_name": "StyleView",
            "description_width": "",
            "handle_color": null
          }
        },
        "9bf5ce0105ab476597f84db504234e74": {
          "model_module": "@jupyter-widgets/base",
          "model_name": "LayoutModel",
          "model_module_version": "1.2.0",
          "state": {
            "_model_module": "@jupyter-widgets/base",
            "_model_module_version": "1.2.0",
            "_model_name": "LayoutModel",
            "_view_count": null,
            "_view_module": "@jupyter-widgets/base",
            "_view_module_version": "1.2.0",
            "_view_name": "LayoutView",
            "align_content": null,
            "align_items": null,
            "align_self": null,
            "border": null,
            "bottom": null,
            "display": null,
            "flex": null,
            "flex_flow": null,
            "grid_area": null,
            "grid_auto_columns": null,
            "grid_auto_flow": null,
            "grid_auto_rows": null,
            "grid_column": null,
            "grid_gap": null,
            "grid_row": null,
            "grid_template_areas": null,
            "grid_template_columns": null,
            "grid_template_rows": null,
            "height": null,
            "justify_content": null,
            "justify_items": null,
            "left": null,
            "margin": null,
            "max_height": null,
            "max_width": null,
            "min_height": null,
            "min_width": null,
            "object_fit": null,
            "object_position": null,
            "order": null,
            "overflow": null,
            "overflow_x": null,
            "overflow_y": null,
            "padding": null,
            "right": null,
            "top": null,
            "visibility": null,
            "width": null
          }
        }
      }
    }
  },
  "nbformat_minor": 0,
  "nbformat": 4,
  "cells": [
    {
      "cell_type": "markdown",
      "source": [
        "## Fitting a function with *gradient descent*"
      ],
      "metadata": {
        "id": "yR7r7Z257eN7"
      }
    },
    {
      "cell_type": "markdown",
      "source": [
        "A neural network is just a mathematical function. In the most standard kind of neural network, the function:\n",
        "\n",
        "1. Multiplies each input by a number of values. These values are known as *parameters*\n",
        "1. Adds them up for each group of values\n",
        "1. Replaces the negative numbers with zeros\n",
        "\n",
        "This represents one \"layer\". Then these three steps are repeated, using the outputs of the previous layer as the inputs to the next layer. Initially, the parameters in this function are selected randomly. Therefore a newly created neural network doesn't do anything useful at all -- it's just random!\n",
        "\n",
        "To get the function to \"learn\" to do something useful, we have to change the parameters to make them \"better\" in some way. We do this using *gradient descent*. Let's see how this works..."
      ],
      "metadata": {
        "id": "PQ8qQltM7eN7"
      }
    },
    {
      "cell_type": "code",
      "source": [
        "from ipywidgets import interact\n",
        "from fastai.basics import *\n",
        "\n",
        "plt.rc('figure', dpi=90)\n",
        "\n",
        "def plot_function(f, title=None, min=-2.1, max=2.1, color='r', ylim=None):\n",
        "    x = torch.linspace(min,max, 100)[:,None]\n",
        "    if ylim: plt.ylim(ylim)\n",
        "    plt.plot(x, f(x), color)\n",
        "    if title is not None: plt.title(title)"
      ],
      "metadata": {
        "_kg_hide-input": true,
        "execution": {
          "iopub.status.busy": "2022-04-23T08:54:34.585263Z",
          "iopub.execute_input": "2022-04-23T08:54:34.587766Z",
          "iopub.status.idle": "2022-04-23T08:54:36.961606Z",
          "shell.execute_reply.started": "2022-04-23T08:54:34.587646Z",
          "shell.execute_reply": "2022-04-23T08:54:36.960846Z"
        },
        "trusted": true,
        "id": "ZIGTAt3Z7eN8"
      },
      "execution_count": 40,
      "outputs": []
    },
    {
      "cell_type": "markdown",
      "source": [
        "To learn how gradient descent works, we're going to start by fitting a quadratic, since that's a function most of us are probably more familiar with than a neural network. Here's the quadratic we're going to try to fit:"
      ],
      "metadata": {
        "id": "WA1hr1QY7eN9"
      }
    },
    {
      "cell_type": "code",
      "source": [
        "def f(x): return 2*x**2 + x + 1\n",
        "\n",
        "plot_function(f, \"$2x^2 + x + 1$\")"
      ],
      "metadata": {
        "execution": {
          "iopub.status.busy": "2022-04-23T08:54:36.963135Z",
          "iopub.execute_input": "2022-04-23T08:54:36.96361Z",
          "iopub.status.idle": "2022-04-23T08:54:37.603953Z",
          "shell.execute_reply.started": "2022-04-23T08:54:36.963574Z",
          "shell.execute_reply": "2022-04-23T08:54:37.60309Z"
        },
        "trusted": true,
        "colab": {
          "base_uri": "https://localhost:8080/",
          "height": 412
        },
        "id": "hiiJRuXB7eN-",
        "outputId": "7c950ac9-9ebc-43d3-8074-3dd695e74491"
      },
      "execution_count": 41,
      "outputs": [
        {
          "output_type": "display_data",
          "data": {
            "text/plain": [
              "<Figure size 576x432 with 1 Axes>"
            ],
            "image/png": "[encoded data removed]"
          },
          "metadata": {}
        }
      ]
    },
    {
      "cell_type": "markdown",
      "source": [
        "This quadratic is of the form $ax^2+bx+c$, with parameters $a=2$, $b=1$, $c=1$. To make it easier to try out different quadratics for fitting a model to the data we'll create, let's create a function that calculates the value of a point on any quadratic:"
      ],
      "metadata": {
        "id": "PR8DXt7y7eN-"
      }
    },
    {
      "cell_type": "code",
      "source": [
        "def quad(a, b, c, x): return a*x**2 + b*x + c"
      ],
      "metadata": {
        "execution": {
          "iopub.status.busy": "2022-04-23T08:54:37.605073Z",
          "iopub.execute_input": "2022-04-23T08:54:37.605295Z",
          "iopub.status.idle": "2022-04-23T08:54:37.610024Z",
          "shell.execute_reply.started": "2022-04-23T08:54:37.605268Z",
          "shell.execute_reply": "2022-04-23T08:54:37.609103Z"
        },
        "trusted": true,
        "id": "Gf3ToPHC7eN-"
      },
      "execution_count": 42,
      "outputs": []
    },
    {
      "cell_type": "markdown",
      "source": [
        "If we fix some particular values of a, b, and c, then we'll have made a quadratic. To fix values passed to a function in python, we use the `partial` function, like so:"
      ],
      "metadata": {
        "id": "Ip4jWGvq7eN_"
      }
    },
    {
      "cell_type": "code",
      "source": [
        "def mk_quad(a,b,c): return partial(quad, a,b,c)"
      ],
      "metadata": {
        "execution": {
          "iopub.status.busy": "2022-04-23T08:54:37.611932Z",
          "iopub.execute_input": "2022-04-23T08:54:37.612415Z",
          "iopub.status.idle": "2022-04-23T08:54:37.622926Z",
          "shell.execute_reply.started": "2022-04-23T08:54:37.612377Z",
          "shell.execute_reply": "2022-04-23T08:54:37.622077Z"
        },
        "trusted": true,
        "id": "ALvaAxPF7eOA"
      },
      "execution_count": 43,
      "outputs": []
    },
    {
      "cell_type": "markdown",
      "source": [
        "So for instance, we can recreate our previous quadratic:"
      ],
      "metadata": {
        "id": "J5Mi1bP47eOA"
      }
    },
    {
      "cell_type": "code",
      "source": [
        "f2 = mk_quad(2,1,1)\n",
        "plot_function(f2)"
      ],
      "metadata": {
        "execution": {
          "iopub.status.busy": "2022-04-23T08:54:37.624649Z",
          "iopub.execute_input": "2022-04-23T08:54:37.625357Z",
          "iopub.status.idle": "2022-04-23T08:54:37.829696Z",
          "shell.execute_reply.started": "2022-04-23T08:54:37.62531Z",
          "shell.execute_reply": "2022-04-23T08:54:37.828997Z"
        },
        "trusted": true,
        "colab": {
          "base_uri": "https://localhost:8080/",
          "height": 389
        },
        "id": "Tqz_wGi67eOA",
        "outputId": "482d2ad1-5ab9-44b9-bb46-db6613b0581e"
      },
      "execution_count": 44,
      "outputs": [
        {
          "output_type": "display_data",
          "data": {
            "text/plain": [
              "<Figure size 576x432 with 1 Axes>"
            ],
            "image/png": "[encoded data removed]"
          },
          "metadata": {}
        }
      ]
    },
    {
      "cell_type": "markdown",
      "source": [
        "Now let's simulate making some noisy measurements of our quadratic `f`. We'll then use gradient descent to see if we can recreate the original function from the data.\n",
        "\n",
        "Here's a couple of functions to add some random noise to data:"
      ],
      "metadata": {
        "id": "_nIPzLvP7eOB"
      }
    },
    {
      "cell_type": "code",
      "source": [
        "def noise(x, scale): return np.random.normal(scale=scale, size=x.shape)\n",
        "def add_noise(x, mult, add): return x * (1+noise(x,mult)) + noise(x,add)"
      ],
      "metadata": {
        "execution": {
          "iopub.status.busy": "2022-04-23T08:54:37.831069Z",
          "iopub.execute_input": "2022-04-23T08:54:37.831627Z",
          "iopub.status.idle": "2022-04-23T08:54:37.838391Z",
          "shell.execute_reply.started": "2022-04-23T08:54:37.831581Z",
          "shell.execute_reply": "2022-04-23T08:54:37.837454Z"
        },
        "trusted": true,
        "id": "VRjqzeog7eOB"
      },
      "execution_count": 45,
      "outputs": []
    },
    {
      "cell_type": "markdown",
      "source": [
        "Let's use the now to create our noisy measurements based on the quadratic above:"
      ],
      "metadata": {
        "id": "PQ9WHHJA7eOB"
      }
    },
    {
      "cell_type": "code",
      "source": [
        "np.random.seed(42)\n",
        "\n",
        "x = torch.linspace(-2, 2, steps=20)[:,None]\n",
        "y = add_noise(f(x), 0.15, 0.7)"
      ],
      "metadata": {
        "execution": {
          "iopub.status.busy": "2022-04-23T08:54:37.839727Z",
          "iopub.execute_input": "2022-04-23T08:54:37.83997Z",
          "iopub.status.idle": "2022-04-23T08:54:37.86166Z",
          "shell.execute_reply.started": "2022-04-23T08:54:37.839939Z",
          "shell.execute_reply": "2022-04-23T08:54:37.861067Z"
        },
        "trusted": true,
        "colab": {
          "base_uri": "https://localhost:8080/"
        },
        "id": "I2kDyCoC7eOB",
        "outputId": "0fc24c7c-49f6-4056-a3ea-19679caca332"
      },
      "execution_count": 46,
      "outputs": [
        {
          "output_type": "stream",
          "name": "stderr",
          "text": [
            "/tmp/ipython-input-45-1958766108.py:2: DeprecationWarning: __array_wrap__ must accept context and return_scalar arguments (positionally) in the future. (Deprecated NumPy 2.0)\n",
            "  def add_noise(x, mult, add): return x * (1+noise(x,mult)) + noise(x,add)\n"
          ]
        }
      ]
    },
    {
      "cell_type": "markdown",
      "source": [
        "Here's the first few values of each of `x` and `y`:"
      ],
      "metadata": {
        "id": "VSX7-9_97eOB"
      }
    },
    {
      "cell_type": "code",
      "source": [
        "x[:5],y[:5]"
      ],
      "metadata": {
        "execution": {
          "iopub.status.busy": "2022-04-23T08:54:37.862576Z",
          "iopub.execute_input": "2022-04-23T08:54:37.863311Z",
          "iopub.status.idle": "2022-04-23T08:54:37.901746Z",
          "shell.execute_reply.started": "2022-04-23T08:54:37.863275Z",
          "shell.execute_reply": "2022-04-23T08:54:37.9009Z"
        },
        "trusted": true,
        "colab": {
          "base_uri": "https://localhost:8080/"
        },
        "id": "k4pI2gaZ7eOC",
        "outputId": "781d2ae7-c8dd-4a4c-ce6c-c4cbf1f499a8"
      },
      "execution_count": 47,
      "outputs": [
        {
          "output_type": "execute_result",
          "data": {
            "text/plain": [
              "(tensor([[-2.0000],\n",
              "         [-1.7895],\n",
              "         [-1.5789],\n",
              "         [-1.3684],\n",
              "         [-1.1579]]),\n",
              " tensor([[8.5475],\n",
              "         [5.3405],\n",
              "         [4.8826],\n",
              "         [3.1508],\n",
              "         [2.0538]], dtype=torch.float64))"
            ]
          },
          "metadata": {},
          "execution_count": 47
        }
      ]
    },
    {
      "cell_type": "markdown",
      "source": [
        "As you can see, they're *tensors*. A tensor is just like an `array` in numpy. Furthermore, PyTorch, which most researchers use for deep learning, is modeled closely on numpy.) A tensor can be a single number (a *scalar* or *rank-0 tensor*), a list of numbers (a *vector* or *rank-1 tensor*), a table of numbers (a *matrix* or *rank-2 tensor*), a table of tables of numbers (a *rank-3 tensor*), and so forth.\n",
        "\n",
        "We're not going to learn much about our data by just looking at the raw numbers, so let's draw a picture:"
      ],
      "metadata": {
        "id": "3dVd2Ga97eOC"
      }
    },
    {
      "cell_type": "code",
      "source": [
        "plt.scatter(x,y);"
      ],
      "metadata": {
        "execution": {
          "iopub.status.busy": "2022-04-23T08:54:37.903248Z",
          "iopub.execute_input": "2022-04-23T08:54:37.903736Z",
          "iopub.status.idle": "2022-04-23T08:54:38.141765Z",
          "shell.execute_reply.started": "2022-04-23T08:54:37.903689Z",
          "shell.execute_reply": "2022-04-23T08:54:38.140818Z"
        },
        "trusted": true,
        "colab": {
          "base_uri": "https://localhost:8080/",
          "height": 389
        },
        "id": "YOoZVi4R7eOD",
        "outputId": "902903c2-a289-487f-be47-045e8b19b17b"
      },
      "execution_count": 48,
      "outputs": [
        {
          "output_type": "display_data",
          "data": {
            "text/plain": [
              "<Figure size 576x432 with 1 Axes>"
            ],
            "image/png": "[encoded data removed]"
          },
          "metadata": {}
        }
      ]
    },
    {
      "cell_type": "markdown",
      "source": [
        "How do we find values of a, b, and c which fit this data? One approach is to try a few values and see what fits. Here's a function which overlays a quadratic on top of our data, along with some sliders to change a, b, and c, and see how it looks:"
      ],
      "metadata": {
        "id": "3U7zNOHg7eOD"
      }
    },
    {
      "cell_type": "code",
      "source": [
        "@interact(a=3.0, b=2.1, c=2.1)\n",
        "def plot_quad(a, b, c):\n",
        "    plt.scatter(x,y)\n",
        "    plot_function(mk_quad(a,b,c), ylim=(-3,13))"
      ],
      "metadata": {
        "execution": {
          "iopub.status.busy": "2022-04-23T08:54:38.143544Z",
          "iopub.execute_input": "2022-04-23T08:54:38.143753Z",
          "iopub.status.idle": "2022-04-23T08:54:38.372553Z",
          "shell.execute_reply.started": "2022-04-23T08:54:38.143725Z",
          "shell.execute_reply": "2022-04-23T08:54:38.37172Z"
        },
        "trusted": true,
        "colab": {
          "base_uri": "https://localhost:8080/",
          "height": 485,
          "referenced_widgets": [
            "20754c7b226d4205973295f2bd78f893",
            "b582a56915134a98bad45d533bdcc560",
            "1f6396f6c12b4fb88833bc7e8ba6c5e2",
            "b092c82e635f442b855caed712d2bc7f",
            "052efe453c114e1dab0509129d60f87b",
            "92f9ef07eb65432b9c1e9fe784733aaa",
            "3ca39cfedd364e4781efca9452449adb",
            "032f08d3859245a9a3d09ab4426326d6",
            "7df14f3805084968826d5616f0a1554c",
            "dc6f3e323f4c49739a32a25aab875c2f",
            "3c8bad99686949f097447126088256be",
            "d02146c36b7a491e8b1d28ad34ea9dd9",
            "78cfa73a841c4df596e0447107bfa494"
          ]
        },
        "id": "zZFhgnIa7eOE",
        "outputId": "4da7e76a-54c5-4cb7-e610-0e8624d5a741"
      },
      "execution_count": 49,
      "outputs": [
        {
          "output_type": "display_data",
          "data": {
            "text/plain": [
              "interactive(children=(FloatSlider(value=3.0, description='a', max=9.0, min=-3.0), FloatSlider(value=2.1, descr…"
            ],
            "application/vnd.jupyter.widget-view+json": {
              "version_major": 2,
              "version_minor": 0,
              "model_id": "20754c7b226d4205973295f2bd78f893"
            }
          },
          "metadata": {}
        }
      ]
    },
    {
      "cell_type": "markdown",
      "source": [
        "Try moving slider `a` a bit to the left. Does that look better or worse? How about if you move it a bit to the right? Find out which direction seems to improve the fit of the quadratic to the data, and move the slider a bit in that direction. Next, do the same for slider `b`: first figure out which direction improves the fit, then move it a bit in that direction. Then do the same for `c`.\n",
        "\n",
        "OK, now go back to slider `a` and repeat the process. Do it again for `b` and `c` as well.\n",
        "\n",
        "Did you notice that by going back and doing the sliders a second time that you were able to improve things a bit further? That's an important insight -- it's only after changing `b` and `c`, for instance, that you realise that `a` actually needs some adjustment based on those new values.\n",
        "\n",
        "One thing that's making this tricky is that we don't really have a great sense of whether our fit is really better or worse. It would be easier if we had a numeric measure of that. On easy metric we could use is *mean absolute error* -- which is the distance from each data point to the curve:"
      ],
      "metadata": {
        "id": "uupCDcUl7eOF"
      }
    },
    {
      "cell_type": "code",
      "source": [
        "def mae(preds, acts): return (torch.abs(preds-acts)).mean()"
      ],
      "metadata": {
        "execution": {
          "iopub.status.busy": "2022-04-23T08:55:06.428918Z",
          "iopub.execute_input": "2022-04-23T08:55:06.429237Z",
          "iopub.status.idle": "2022-04-23T08:55:06.433738Z",
          "shell.execute_reply.started": "2022-04-23T08:55:06.429205Z",
          "shell.execute_reply": "2022-04-23T08:55:06.432713Z"
        },
        "trusted": true,
        "id": "shwOGtYX7eOF"
      },
      "execution_count": 50,
      "outputs": []
    },
    {
      "cell_type": "markdown",
      "source": [
        "We'll update our interactive function to print this at the top for us.\n",
        "\n",
        "Use this to repeat the approach we took before to try to find the best fit, but this time just use the value of the metric to decide which direction to move each slider, and how far to move it.\n",
        "\n",
        "This time around, try doing it in the opposite order: `c`, then `b`, then `a`.\n",
        "\n",
        "You'll probably find that you have to go through the set of sliders a couple of times to get the best fit."
      ],
      "metadata": {
        "id": "y6ORuzjb7eOF"
      }
    },
    {
      "cell_type": "code",
      "source": [
        "@interact(a=3.0, b=2.1, c=2.1)\n",
        "def plot_quad(a, b, c):\n",
        "    f = mk_quad(a,b,c)\n",
        "    plt.scatter(x,y)\n",
        "    loss = mae(f(x), y)\n",
        "    plot_function(f, ylim=(-3,12), title=f\"MAE: {loss:.2f}\")"
      ],
      "metadata": {
        "execution": {
          "iopub.status.busy": "2022-04-23T08:55:07.451295Z",
          "iopub.execute_input": "2022-04-23T08:55:07.452152Z",
          "iopub.status.idle": "2022-04-23T08:55:07.701428Z",
          "shell.execute_reply.started": "2022-04-23T08:55:07.452102Z",
          "shell.execute_reply": "2022-04-23T08:55:07.700643Z"
        },
        "trusted": true,
        "colab": {
          "base_uri": "https://localhost:8080/",
          "height": 504,
          "referenced_widgets": [
            "be1f8c153bc44510bfa25bdc798b9a65",
            "91620cc8d2ff47038c09000bec78dc00",
            "5f3eb3f1d4c746c2a894539562792733",
            "4b81473b190c4b098e24ae6665c2eb40",
            "36a3fc11c5e046a6bc54ea0e894462e2",
            "e0516752a13546328ecb155f891ccc71",
            "1c9f2967370347df806e6f193bd78af7",
            "5d1133b67fe54762a6b68bc7fe7751e0",
            "213f2569d5d64d4ab29214b8516fba66",
            "cce0879e93e745bd9cada949ed29406b",
            "e58c33db255c4dee911a6da5dbfa6b14",
            "c204a0a0de674819859ff7e829addeda",
            "8418500f6211446e9bdc869630a28b0b"
          ]
        },
        "id": "z7g_00BR7eOG",
        "outputId": "67d4445f-e54b-4250-8e2b-5fe8dd6aed05"
      },
      "execution_count": 51,
      "outputs": [
        {
          "output_type": "display_data",
          "data": {
            "text/plain": [
              "interactive(children=(FloatSlider(value=3.0, description='a', max=9.0, min=-3.0), FloatSlider(value=2.1, descr…"
            ],
            "application/vnd.jupyter.widget-view+json": {
              "version_major": 2,
              "version_minor": 0,
              "model_id": "be1f8c153bc44510bfa25bdc798b9a65"
            }
          },
          "metadata": {}
        }
      ]
    },
    {
      "cell_type": "markdown",
      "source": [
        "In a modern neural network we'll often have tens of millions of parameters to fit, or more, and thousands or millions of data points to fit them to. We're not going to be able to do that by moving sliders around! We'll need to automate this process.\n",
        "\n",
        "Thankfully, that turns out to be pretty straightforward. We can use calculus to figure out, for each parameter, whether we should increase or decrease it."
      ],
      "metadata": {
        "id": "u31rFAmG7eOG"
      }
    },
    {
      "cell_type": "markdown",
      "source": [
        "## Automating gradient descent"
      ],
      "metadata": {
        "id": "2xtTiSV17eOG"
      }
    },
    {
      "cell_type": "markdown",
      "source": [
        "The basic idea is this: if we know the *gradient* of our `mae()` function *with respect to* our parameters, `a`, `b`, and `c`, then that means we know how adjusting (for instance) `a` will change the value of `mae()`. If, say, `a` has a *negative* gradient, then we know that increasing `a` will decrease `mae()`. Then we know that's what we need to do, since we trying to make `mae()` as low as possible.\n",
        "\n",
        "So, we find the gradient of `mae()` for each of our parameters, and then adjust our parameters a bit in the *opposite* direction to the sign of the gradient.\n",
        "\n",
        "To do this, first we need a function that takes all the parameters `a`, `b`, and `c` as a single vector input, and returns the value `mae()` based on those parameters:"
      ],
      "metadata": {
        "id": "H7b5mR7S7eOG"
      }
    },
    {
      "cell_type": "code",
      "source": [
        "def quad_mae(params):\n",
        "    f = mk_quad(*params)\n",
        "    return mae(f(x), y)"
      ],
      "metadata": {
        "execution": {
          "iopub.status.busy": "2022-04-22T22:28:41.831976Z",
          "iopub.execute_input": "2022-04-22T22:28:41.832211Z",
          "iopub.status.idle": "2022-04-22T22:28:41.837761Z",
          "shell.execute_reply.started": "2022-04-22T22:28:41.832181Z",
          "shell.execute_reply": "2022-04-22T22:28:41.836892Z"
        },
        "trusted": true,
        "id": "sXmo_fXZ7eOH"
      },
      "execution_count": 52,
      "outputs": []
    },
    {
      "cell_type": "markdown",
      "source": [
        "Let's try it:"
      ],
      "metadata": {
        "id": "E_8jo70-7eOH"
      }
    },
    {
      "cell_type": "code",
      "source": [
        "quad_mae([3.0, 2.1, 2.1])"
      ],
      "metadata": {
        "execution": {
          "iopub.status.busy": "2022-04-22T22:28:41.839427Z",
          "iopub.execute_input": "2022-04-22T22:28:41.839663Z",
          "iopub.status.idle": "2022-04-22T22:28:41.853343Z",
          "shell.execute_reply.started": "2022-04-22T22:28:41.839635Z",
          "shell.execute_reply": "2022-04-22T22:28:41.852644Z"
        },
        "trusted": true,
        "colab": {
          "base_uri": "https://localhost:8080/"
        },
        "id": "3CqYIbkW7eOH",
        "outputId": "3c8950f3-1c4c-4199-c7a9-1bb027c091d7"
      },
      "execution_count": 53,
      "outputs": [
        {
          "output_type": "execute_result",
          "data": {
            "text/plain": [
              "tensor(2.9873, dtype=torch.float64)"
            ]
          },
          "metadata": {},
          "execution_count": 53
        }
      ]
    },
    {
      "cell_type": "markdown",
      "source": [
        "Yup, that's the same as the starting `mae()` we had in our plot before.\n",
        "\n",
        "We're first going to do exactly the same thing as we did manually -- pick some arbritrary starting point for our parameters. We'll put them all into a single tensor:"
      ],
      "metadata": {
        "id": "zA0Agqfn7eOI"
      }
    },
    {
      "cell_type": "code",
      "source": [
        "abc = torch.tensor([3.0,2.1,2.1])"
      ],
      "metadata": {
        "execution": {
          "iopub.status.busy": "2022-04-22T22:28:41.854708Z",
          "iopub.execute_input": "2022-04-22T22:28:41.855001Z",
          "iopub.status.idle": "2022-04-22T22:28:41.863677Z",
          "shell.execute_reply.started": "2022-04-22T22:28:41.854965Z",
          "shell.execute_reply": "2022-04-22T22:28:41.862424Z"
        },
        "trusted": true,
        "id": "o-LrLAcQ7eOI"
      },
      "execution_count": 54,
      "outputs": []
    },
    {
      "cell_type": "markdown",
      "source": [
        "To tell PyTorch that we want it to calculate gradients for these parameters, we need to call `requires_grad_()`:"
      ],
      "metadata": {
        "id": "vgTwMWlH7eOI"
      }
    },
    {
      "cell_type": "code",
      "source": [
        "abc.requires_grad_()"
      ],
      "metadata": {
        "execution": {
          "iopub.status.busy": "2022-04-22T22:28:41.865105Z",
          "iopub.execute_input": "2022-04-22T22:28:41.86557Z",
          "iopub.status.idle": "2022-04-22T22:28:41.881016Z",
          "shell.execute_reply.started": "2022-04-22T22:28:41.865497Z",
          "shell.execute_reply": "2022-04-22T22:28:41.879681Z"
        },
        "trusted": true,
        "colab": {
          "base_uri": "https://localhost:8080/"
        },
        "id": "rmNWXqx67eOI",
        "outputId": "6d898850-5e9e-4623-d517-3896ec2cbf7a"
      },
      "execution_count": 55,
      "outputs": [
        {
          "output_type": "execute_result",
          "data": {
            "text/plain": [
              "tensor([3.0000, 2.1000, 2.1000], requires_grad=True)"
            ]
          },
          "metadata": {},
          "execution_count": 55
        }
      ]
    },
    {
      "cell_type": "markdown",
      "source": [
        "We can now calculate `mae()`. Generally, when doing gradient descent, the thing we're trying to minimise is called the *loss*:"
      ],
      "metadata": {
        "id": "K1w4BvrO7eOJ"
      }
    },
    {
      "cell_type": "code",
      "source": [
        "loss = quad_mae(abc)\n",
        "loss"
      ],
      "metadata": {
        "execution": {
          "iopub.status.busy": "2022-04-22T22:28:41.882498Z",
          "iopub.execute_input": "2022-04-22T22:28:41.882908Z",
          "iopub.status.idle": "2022-04-22T22:28:41.894811Z",
          "shell.execute_reply.started": "2022-04-22T22:28:41.882865Z",
          "shell.execute_reply": "2022-04-22T22:28:41.893828Z"
        },
        "trusted": true,
        "colab": {
          "base_uri": "https://localhost:8080/"
        },
        "id": "IvYvWknI7eOJ",
        "outputId": "bf136bad-90ec-43f4-b27b-fc089ab335a1"
      },
      "execution_count": 56,
      "outputs": [
        {
          "output_type": "execute_result",
          "data": {
            "text/plain": [
              "tensor(2.9873, dtype=torch.float64, grad_fn=<MeanBackward0>)"
            ]
          },
          "metadata": {},
          "execution_count": 56
        }
      ]
    },
    {
      "cell_type": "markdown",
      "source": [
        "To get PyTorch to now calculate the gradients, we need to call `backward()`"
      ],
      "metadata": {
        "id": "A6MAI9U97eOJ"
      }
    },
    {
      "cell_type": "code",
      "source": [
        "loss.backward()"
      ],
      "metadata": {
        "execution": {
          "iopub.status.busy": "2022-04-22T22:28:41.896144Z",
          "iopub.execute_input": "2022-04-22T22:28:41.896493Z",
          "iopub.status.idle": "2022-04-22T22:28:41.914719Z",
          "shell.execute_reply.started": "2022-04-22T22:28:41.896462Z",
          "shell.execute_reply": "2022-04-22T22:28:41.913717Z"
        },
        "trusted": true,
        "id": "io812Lye7eOJ"
      },
      "execution_count": 57,
      "outputs": []
    },
    {
      "cell_type": "markdown",
      "source": [
        "The gradients will be stored for us in an attribute called `grad`:"
      ],
      "metadata": {
        "id": "Q7eMGnMb7eOJ"
      }
    },
    {
      "cell_type": "code",
      "source": [
        "abc.grad"
      ],
      "metadata": {
        "execution": {
          "iopub.status.busy": "2022-04-22T22:28:41.916372Z",
          "iopub.execute_input": "2022-04-22T22:28:41.91704Z",
          "iopub.status.idle": "2022-04-22T22:28:41.925299Z",
          "shell.execute_reply.started": "2022-04-22T22:28:41.916988Z",
          "shell.execute_reply": "2022-04-22T22:28:41.924407Z"
        },
        "trusted": true,
        "colab": {
          "base_uri": "https://localhost:8080/"
        },
        "id": "qe94Qak87eOK",
        "outputId": "91492a82-bd25-468d-db53-915e57d607d0"
      },
      "execution_count": 58,
      "outputs": [
        {
          "output_type": "execute_result",
          "data": {
            "text/plain": [
              "tensor([1.4737e+00, 7.4506e-09, 1.0000e+00])"
            ]
          },
          "metadata": {},
          "execution_count": 58
        }
      ]
    },
    {
      "cell_type": "markdown",
      "source": [
        "According to these gradients, all our parameters are a little low. So let's increase them a bit. If we subtract the gradient, multiplied by a small number, that should improve them a bit:"
      ],
      "metadata": {
        "id": "AUzepD1p7eOK"
      }
    },
    {
      "cell_type": "code",
      "source": [
        "with torch.no_grad():\n",
        "    abc -= abc.grad*0.01\n",
        "    loss = quad_mae(abc)\n",
        "\n",
        "print(f'loss={loss:.2f}')"
      ],
      "metadata": {
        "execution": {
          "iopub.status.busy": "2022-04-22T22:28:41.927221Z",
          "iopub.execute_input": "2022-04-22T22:28:41.927714Z",
          "iopub.status.idle": "2022-04-22T22:28:41.941471Z",
          "shell.execute_reply.started": "2022-04-22T22:28:41.927665Z",
          "shell.execute_reply": "2022-04-22T22:28:41.940784Z"
        },
        "trusted": true,
        "colab": {
          "base_uri": "https://localhost:8080/"
        },
        "id": "rHII8vC-7eOK",
        "outputId": "26f9894f-6ea7-49a3-c032-9f37c0bfba98"
      },
      "execution_count": 59,
      "outputs": [
        {
          "output_type": "stream",
          "name": "stdout",
          "text": [
            "loss=2.96\n"
          ]
        }
      ]
    },
    {
      "cell_type": "markdown",
      "source": [
        "Yes, our loss has gone down!\n",
        "\n",
        "The \"small number\" we multiply is called the *learning rate*, and is the most important *hyper-parameter* to set when training a neural network.\n",
        "\n",
        "BTW, you'll see we had to wrap our calculation of the new parameters in `with torch.no_grad()`. That disables the calculation of gradients for any operations inside that context manager. We have to do that, because `abc -= abc.grad*0.01` isn't actually part of our quadratic model, so we don't want derivitives to include that calculation.\n",
        "\n",
        "We can use a loop to do a few more iterations of this:"
      ],
      "metadata": {
        "id": "xmp82RYy7eOK"
      }
    },
    {
      "cell_type": "code",
      "source": [
        "for i in range(10):\n",
        "    loss = quad_mae(abc)\n",
        "    loss.backward()\n",
        "    with torch.no_grad(): abc -= abc.grad*0.01\n",
        "    print(f'step={i}; loss={loss:.2f}')"
      ],
      "metadata": {
        "execution": {
          "iopub.status.busy": "2022-04-22T22:28:41.942822Z",
          "iopub.execute_input": "2022-04-22T22:28:41.943242Z",
          "iopub.status.idle": "2022-04-22T22:28:41.968186Z",
          "shell.execute_reply.started": "2022-04-22T22:28:41.943202Z",
          "shell.execute_reply": "2022-04-22T22:28:41.967081Z"
        },
        "trusted": true,
        "colab": {
          "base_uri": "https://localhost:8080/"
        },
        "id": "JVOqxmvS7eOL",
        "outputId": "4332eb78-9e8d-44c9-bfd3-c505cd258265"
      },
      "execution_count": 60,
      "outputs": [
        {
          "output_type": "stream",
          "name": "stdout",
          "text": [
            "step=0; loss=2.96\n",
            "step=1; loss=2.89\n",
            "step=2; loss=2.80\n",
            "step=3; loss=2.67\n",
            "step=4; loss=2.51\n",
            "step=5; loss=2.33\n",
            "step=6; loss=2.16\n",
            "step=7; loss=2.01\n",
            "step=8; loss=1.87\n",
            "step=9; loss=1.79\n"
          ]
        }
      ]
    },
    {
      "cell_type": "markdown",
      "source": [
        "As you can see, our loss keeps going down!\n",
        "\n",
        "If you keep running this loop for long enough however, you'll see that the loss eventually starts increasing for a while. That's because once the parameters get close to the correct answer, our parameter updates will jump right over the correct answer! To avoid this, we need to decrease our learning rate as we train. This is done using a *learning rate schedule*, and can be automated in most deep learning frameworks, such as fastai and PyTorch."
      ],
      "metadata": {
        "id": "znlhZuAj7eOL"
      }
    },
    {
      "cell_type": "markdown",
      "source": [
        "## How a neural network approximates any given function"
      ],
      "metadata": {
        "id": "RhtNtT_97eOL"
      }
    },
    {
      "cell_type": "markdown",
      "source": [
        "But neural nets are much more convenient and powerful than this example showed, because we can learn much more than just a quadratic with them. How does *that* work?\n",
        "\n",
        "The trick is that a neural network is a very expressive function. In fact -- it's [infinitely expressive](https://en.wikipedia.org/wiki/Universal_approximation_theorem). A neural network can approximate any computable function, given enough parameters. A \"computable function\" can cover just about anything you can imagine: understand and translate human speech; paint a picture; diagnose a disease from medical imaging; write an essay; etc...\n",
        "\n",
        "The way a neural network approximates a function actually turns out to be very simple. The key trick is to combine two extremely basic steps:\n",
        "\n",
        "1. Matrix multiplication, which is just multiplying things together and then adding them up\n",
        "1. The function $max(x,0)$, which simply replaces all negative numbers with zero.\n",
        "\n",
        "In PyTorch, the function $max(x,0)$ is written as `np.clip(x,0)`. The combination of a linear function and this *max()* is called a *rectified linear function*, and it can be implemented like this:"
      ],
      "metadata": {
        "id": "ytSDgjdo7eOL"
      }
    },
    {
      "cell_type": "code",
      "source": [
        "def rectified_linear(m,b,x):\n",
        "    y = m*x+b\n",
        "    return torch.clip(y, 0.)"
      ],
      "metadata": {
        "execution": {
          "iopub.status.busy": "2022-04-22T22:28:41.970051Z",
          "iopub.execute_input": "2022-04-22T22:28:41.970814Z",
          "iopub.status.idle": "2022-04-22T22:28:41.976113Z",
          "shell.execute_reply.started": "2022-04-22T22:28:41.970763Z",
          "shell.execute_reply": "2022-04-22T22:28:41.975338Z"
        },
        "trusted": true,
        "id": "JtIJS9lU7eOL"
      },
      "execution_count": 61,
      "outputs": []
    },
    {
      "cell_type": "markdown",
      "source": [
        "Here's what it looks like:"
      ],
      "metadata": {
        "id": "R3BHmuf57eOL"
      }
    },
    {
      "cell_type": "code",
      "source": [
        "plot_function(partial(rectified_linear, 1,1))"
      ],
      "metadata": {
        "execution": {
          "iopub.status.busy": "2022-04-22T22:28:41.977336Z",
          "iopub.execute_input": "2022-04-22T22:28:41.978052Z",
          "iopub.status.idle": "2022-04-22T22:28:42.197682Z",
          "shell.execute_reply.started": "2022-04-22T22:28:41.978012Z",
          "shell.execute_reply": "2022-04-22T22:28:42.196709Z"
        },
        "trusted": true,
        "colab": {
          "base_uri": "https://localhost:8080/",
          "height": 389
        },
        "id": "t3ll9VG87eOM",
        "outputId": "2c0de8f9-a4f4-4ca3-cc46-75b060e8c761"
      },
      "execution_count": 62,
      "outputs": [
        {
          "output_type": "display_data",
          "data": {
            "text/plain": [
              "<Figure size 576x432 with 1 Axes>"
            ],
            "image/png": "[encoded data removed]"
          },
          "metadata": {}
        }
      ]
    },
    {
      "cell_type": "markdown",
      "source": [
        "BTW, instead of `torch.clip(y, 0.)`, we can instead use `F.relu(x)`, which does exactly the same thing. In PyTorch, `F` refers to the `torch.nn.functional` module."
      ],
      "metadata": {
        "id": "nIjFBkOz7eOM"
      }
    },
    {
      "cell_type": "code",
      "source": [
        "import torch.nn.functional as F\n",
        "def rectified_linear2(m,b,x): return F.relu(m*x+b)\n",
        "plot_function(partial(rectified_linear2, 1,1))"
      ],
      "metadata": {
        "execution": {
          "iopub.status.busy": "2022-04-22T22:28:42.199561Z",
          "iopub.execute_input": "2022-04-22T22:28:42.200133Z",
          "iopub.status.idle": "2022-04-22T22:28:42.40433Z",
          "shell.execute_reply.started": "2022-04-22T22:28:42.200083Z",
          "shell.execute_reply": "2022-04-22T22:28:42.403323Z"
        },
        "trusted": true,
        "colab": {
          "base_uri": "https://localhost:8080/",
          "height": 389
        },
        "id": "eDOtQgo27eOM",
        "outputId": "06152d30-fafb-4514-a304-d9f4517d3947"
      },
      "execution_count": 63,
      "outputs": [
        {
          "output_type": "display_data",
          "data": {
            "text/plain": [
              "<Figure size 576x432 with 1 Axes>"
            ],
            "image/png": "[encoded data removed]"
          },
          "metadata": {}
        }
      ]
    },
    {
      "cell_type": "markdown",
      "source": [
        "To understand how this function works, try using this interactive version to play around with the parameters `m` and `b`:"
      ],
      "metadata": {
        "id": "RNlH-PJD7eOM"
      }
    },
    {
      "cell_type": "code",
      "source": [
        "@interact(m=1.5, b=1.5)\n",
        "def plot_relu(m, b):\n",
        "    plot_function(partial(rectified_linear, m,b), ylim=(-1,4))"
      ],
      "metadata": {
        "execution": {
          "iopub.status.busy": "2022-04-22T22:28:42.405808Z",
          "iopub.execute_input": "2022-04-22T22:28:42.406108Z",
          "iopub.status.idle": "2022-04-22T22:28:42.61219Z",
          "shell.execute_reply.started": "2022-04-22T22:28:42.406071Z",
          "shell.execute_reply": "2022-04-22T22:28:42.61144Z"
        },
        "trusted": true,
        "colab": {
          "base_uri": "https://localhost:8080/",
          "height": 458,
          "referenced_widgets": [
            "0adc482c0aeb4753a33929245c550045",
            "7ff22f641a6a4b2cbcad943e70847f12",
            "de76d4938a8d48a79a7fb49809de0bba",
            "f681da0656f54a379cc87fecd364864f",
            "4378f9113a47409daf1db5a10f392d30",
            "cc8870019b3b49bead46f387ba554791",
            "fe56f811eaa24440b7ad3141a539da6c",
            "f3ad70a8c9094d999eb7b7638f01ab4f",
            "599e1410c11844c58b30a1b4339f2640",
            "c22cb0eb7fde439bb872e691772448a9"
          ]
        },
        "id": "8w7Ah4zV7eOM",
        "outputId": "16183088-25dc-4d65-bdc1-e43279ab18ff"
      },
      "execution_count": 64,
      "outputs": [
        {
          "output_type": "display_data",
          "data": {
            "text/plain": [
              "interactive(children=(FloatSlider(value=1.5, description='m', max=4.5, min=-1.5), FloatSlider(value=1.5, descr…"
            ],
            "application/vnd.jupyter.widget-view+json": {
              "version_major": 2,
              "version_minor": 0,
              "model_id": "0adc482c0aeb4753a33929245c550045"
            }
          },
          "metadata": {}
        }
      ]
    },
    {
      "cell_type": "markdown",
      "source": [
        "As you see, `m` changes the slope, and `b` changes where the \"hook\" appears. This function doesn't do much on its own, but look what happens when we add two of them together:"
      ],
      "metadata": {
        "id": "RD-ShJP_7eON"
      }
    },
    {
      "cell_type": "code",
      "source": [
        "def double_relu(m1,b1,m2,b2,x):\n",
        "    return rectified_linear(m1,b1,x) + rectified_linear(m2,b2,x)\n",
        "\n",
        "@interact(m1=-1.5, b1=-1.5, m2=1.5, b2=1.5)\n",
        "def plot_double_relu(m1, b1, m2, b2):\n",
        "    plot_function(partial(double_relu, m1,b1,m2,b2), ylim=(-1,6))"
      ],
      "metadata": {
        "execution": {
          "iopub.status.busy": "2022-04-22T22:28:42.613745Z",
          "iopub.execute_input": "2022-04-22T22:28:42.614042Z",
          "iopub.status.idle": "2022-04-22T22:28:42.851224Z",
          "shell.execute_reply.started": "2022-04-22T22:28:42.614007Z",
          "shell.execute_reply": "2022-04-22T22:28:42.85035Z"
        },
        "trusted": true,
        "colab": {
          "base_uri": "https://localhost:8080/",
          "height": 522,
          "referenced_widgets": [
            "d5cde745cc274e30a831c3b38bcbc6e3",
            "53e54432cbeb40238209afbbbc5f44c0",
            "12de535b590e4d7aa08d22358fbb8a2a",
            "5a03921f25414bed9e688391847ceb29",
            "b37a462a9b4946cf86d0ecc06daf6bcf",
            "0988e8b0af764582b68409d16f376f59",
            "0ecc99ed5c6247beba37558693f336ae",
            "2616846a85224fa88711646733cfb8ff",
            "04b8ebe2390b425888ed370f4c08f369",
            "a518bfdc24324bc2a85e905ac7a14b59",
            "1ea6719cba9744369adb064523535007",
            "65b5f5b74f6b4be1b363a2ab5718e5ba",
            "fe74e24c84fd4e39b8b0047bd0be0492",
            "372249d83ad643538ae65656cec17d0a",
            "b1016ed9f26b465fb7323896ae194642",
            "9bf5ce0105ab476597f84db504234e74"
          ]
        },
        "id": "KVTYwkVA7eON",
        "outputId": "cc08c84c-4317-41f0-e1ac-a18cef5d205c"
      },
      "execution_count": 65,
      "outputs": [
        {
          "output_type": "display_data",
          "data": {
            "text/plain": [
              "interactive(children=(FloatSlider(value=-1.5, description='m1', max=1.5, min=-4.5), FloatSlider(value=-1.5, de…"
            ],
            "application/vnd.jupyter.widget-view+json": {
              "version_major": 2,
              "version_minor": 0,
              "model_id": "d5cde745cc274e30a831c3b38bcbc6e3"
            }
          },
          "metadata": {}
        }
      ]
    },
    {
      "cell_type": "markdown",
      "source": [
        "If you play around with that for a while, you notice something quite profound: with enough of these rectified linear functions added together, you could approximate any function with a single input, to whatever accuracy you like! Any time the function doesn't quite match, you can just add a few more additions to the mix to make it a bit closer. As an experiment, perhaps you'd like to try creating your own `plot_triple_relu` interactive function, and maybe even include the scatter plot of our data from before, to see how close you can get?\n",
        "\n",
        "This exact same approach can be expanded to functions of 2, 3, or more parameters."
      ],
      "metadata": {
        "id": "4HaF9auG7eON"
      }
    }
  ]
}