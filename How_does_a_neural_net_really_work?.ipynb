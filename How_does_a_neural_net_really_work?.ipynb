{
  "metadata": {
    "kernelspec": {
      "display_name": "Python 3",
      "name": "python3"
    },
    "language_info": {
      "pygments_lexer": "ipython3",
      "nbconvert_exporter": "python",
      "version": "3.6.4",
      "file_extension": ".py",
      "codemirror_mode": {
        "name": "ipython",
        "version": 3
      },
      "name": "python",
      "mimetype": "text/x-python"
    },
    "colab": {
      "name": "How does a neural net really work?",
      "provenance": [],
      "gpuType": "T4",
      "include_colab_link": true
    },
    "accelerator": "GPU",
    "widgets": {
      "application/vnd.jupyter.widget-state+json": {
        "5a14787c192c49d5a270f1ef9040e491": {
          "model_module": "@jupyter-widgets/controls",
          "model_name": "VBoxModel",
          "model_module_version": "1.5.0",
          "state": {
            "_dom_classes": [
              "widget-interact"
            ],
            "_model_module": "@jupyter-widgets/controls",
            "_model_module_version": "1.5.0",
            "_model_name": "VBoxModel",
            "_view_count": null,
            "_view_module": "@jupyter-widgets/controls",
            "_view_module_version": "1.5.0",
            "_view_name": "VBoxView",
            "box_style": "",
            "children": [
              "IPY_MODEL_a7cece6f40ad4411b0dc8810295ccd7a",
              "IPY_MODEL_41975ca3da48494eaf41349d4c8eece4",
              "IPY_MODEL_817e40bccbab450081b476b2ee17dbda",
              "IPY_MODEL_36117ef516aa4046b8d566b240b4cf76"
            ],
            "layout": "IPY_MODEL_0282d027079d4dfcae4c6ebf996d7f24"
          }
        },
        "a7cece6f40ad4411b0dc8810295ccd7a": {
          "model_module": "@jupyter-widgets/controls",
          "model_name": "FloatSliderModel",
          "model_module_version": "1.5.0",
          "state": {
            "_dom_classes": [],
            "_model_module": "@jupyter-widgets/controls",
            "_model_module_version": "1.5.0",
            "_model_name": "FloatSliderModel",
            "_view_count": null,
            "_view_module": "@jupyter-widgets/controls",
            "_view_module_version": "1.5.0",
            "_view_name": "FloatSliderView",
            "continuous_update": true,
            "description": "a",
            "description_tooltip": null,
            "disabled": false,
            "layout": "IPY_MODEL_1b5863968931438aa608cc98e6c263e8",
            "max": 9,
            "min": -3,
            "orientation": "horizontal",
            "readout": true,
            "readout_format": ".2f",
            "step": 0.1,
            "style": "IPY_MODEL_d136091449f948109ca74e6240234e60",
            "value": 1.6
          }
        },
        "41975ca3da48494eaf41349d4c8eece4": {
          "model_module": "@jupyter-widgets/controls",
          "model_name": "FloatSliderModel",
          "model_module_version": "1.5.0",
          "state": {
            "_dom_classes": [],
            "_model_module": "@jupyter-widgets/controls",
            "_model_module_version": "1.5.0",
            "_model_name": "FloatSliderModel",
            "_view_count": null,
            "_view_module": "@jupyter-widgets/controls",
            "_view_module_version": "1.5.0",
            "_view_name": "FloatSliderView",
            "continuous_update": true,
            "description": "b",
            "description_tooltip": null,
            "disabled": false,
            "layout": "IPY_MODEL_746be059bb5c454884837fe998d8154a",
            "max": 6.300000000000001,
            "min": -2.1,
            "orientation": "horizontal",
            "readout": true,
            "readout_format": ".2f",
            "step": 0.1,
            "style": "IPY_MODEL_3732d23841674daf8029a5b651ff26aa",
            "value": 0.9
          }
        },
        "817e40bccbab450081b476b2ee17dbda": {
          "model_module": "@jupyter-widgets/controls",
          "model_name": "FloatSliderModel",
          "model_module_version": "1.5.0",
          "state": {
            "_dom_classes": [],
            "_model_module": "@jupyter-widgets/controls",
            "_model_module_version": "1.5.0",
            "_model_name": "FloatSliderModel",
            "_view_count": null,
            "_view_module": "@jupyter-widgets/controls",
            "_view_module_version": "1.5.0",
            "_view_name": "FloatSliderView",
            "continuous_update": true,
            "description": "c",
            "description_tooltip": null,
            "disabled": false,
            "layout": "IPY_MODEL_011025920bca4314873bcb76816252e9",
            "max": 6.300000000000001,
            "min": -2.1,
            "orientation": "horizontal",
            "readout": true,
            "readout_format": ".2f",
            "step": 0.1,
            "style": "IPY_MODEL_bcf785b396ae42949da03ae24a98e15d",
            "value": 0.8
          }
        },
        "36117ef516aa4046b8d566b240b4cf76": {
          "model_module": "@jupyter-widgets/output",
          "model_name": "OutputModel",
          "model_module_version": "1.0.0",
          "state": {
            "_dom_classes": [],
            "_model_module": "@jupyter-widgets/output",
            "_model_module_version": "1.0.0",
            "_model_name": "OutputModel",
            "_view_count": null,
            "_view_module": "@jupyter-widgets/output",
            "_view_module_version": "1.0.0",
            "_view_name": "OutputView",
            "layout": "IPY_MODEL_f94ec135f8bb4312a5224ba897445a0f",
            "msg_id": "",
            "outputs": [
              {
                "output_type": "display_data",
                "data": {
                  "text/plain": "<Figure size 576x432 with 1 Axes>",
                  "image/png": "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\n"
                },
                "metadata": {}
              }
            ]
          }
        },
        "0282d027079d4dfcae4c6ebf996d7f24": {
          "model_module": "@jupyter-widgets/base",
          "model_name": "LayoutModel",
          "model_module_version": "1.2.0",
          "state": {
            "_model_module": "@jupyter-widgets/base",
            "_model_module_version": "1.2.0",
            "_model_name": "LayoutModel",
            "_view_count": null,
            "_view_module": "@jupyter-widgets/base",
            "_view_module_version": "1.2.0",
            "_view_name": "LayoutView",
            "align_content": null,
            "align_items": null,
            "align_self": null,
            "border": null,
            "bottom": null,
            "display": null,
            "flex": null,
            "flex_flow": null,
            "grid_area": null,
            "grid_auto_columns": null,
            "grid_auto_flow": null,
            "grid_auto_rows": null,
            "grid_column": null,
            "grid_gap": null,
            "grid_row": null,
            "grid_template_areas": null,
            "grid_template_columns": null,
            "grid_template_rows": null,
            "height": null,
            "justify_content": null,
            "justify_items": null,
            "left": null,
            "margin": null,
            "max_height": null,
            "max_width": null,
            "min_height": null,
            "min_width": null,
            "object_fit": null,
            "object_position": null,
            "order": null,
            "overflow": null,
            "overflow_x": null,
            "overflow_y": null,
            "padding": null,
            "right": null,
            "top": null,
            "visibility": null,
            "width": null
          }
        },
        "1b5863968931438aa608cc98e6c263e8": {
          "model_module": "@jupyter-widgets/base",
          "model_name": "LayoutModel",
          "model_module_version": "1.2.0",
          "state": {
            "_model_module": "@jupyter-widgets/base",
            "_model_module_version": "1.2.0",
            "_model_name": "LayoutModel",
            "_view_count": null,
            "_view_module": "@jupyter-widgets/base",
            "_view_module_version": "1.2.0",
            "_view_name": "LayoutView",
            "align_content": null,
            "align_items": null,
            "align_self": null,
            "border": null,
            "bottom": null,
            "display": null,
            "flex": null,
            "flex_flow": null,
            "grid_area": null,
            "grid_auto_columns": null,
            "grid_auto_flow": null,
            "grid_auto_rows": null,
            "grid_column": null,
            "grid_gap": null,
            "grid_row": null,
            "grid_template_areas": null,
            "grid_template_columns": null,
            "grid_template_rows": null,
            "height": null,
            "justify_content": null,
            "justify_items": null,
            "left": null,
            "margin": null,
            "max_height": null,
            "max_width": null,
            "min_height": null,
            "min_width": null,
            "object_fit": null,
            "object_position": null,
            "order": null,
            "overflow": null,
            "overflow_x": null,
            "overflow_y": null,
            "padding": null,
            "right": null,
            "top": null,
            "visibility": null,
            "width": null
          }
        },
        "d136091449f948109ca74e6240234e60": {
          "model_module": "@jupyter-widgets/controls",
          "model_name": "SliderStyleModel",
          "model_module_version": "1.5.0",
          "state": {
            "_model_module": "@jupyter-widgets/controls",
            "_model_module_version": "1.5.0",
            "_model_name": "SliderStyleModel",
            "_view_count": null,
            "_view_module": "@jupyter-widgets/base",
            "_view_module_version": "1.2.0",
            "_view_name": "StyleView",
            "description_width": "",
            "handle_color": null
          }
        },
        "746be059bb5c454884837fe998d8154a": {
          "model_module": "@jupyter-widgets/base",
          "model_name": "LayoutModel",
          "model_module_version": "1.2.0",
          "state": {
            "_model_module": "@jupyter-widgets/base",
            "_model_module_version": "1.2.0",
            "_model_name": "LayoutModel",
            "_view_count": null,
            "_view_module": "@jupyter-widgets/base",
            "_view_module_version": "1.2.0",
            "_view_name": "LayoutView",
            "align_content": null,
            "align_items": null,
            "align_self": null,
            "border": null,
            "bottom": null,
            "display": null,
            "flex": null,
            "flex_flow": null,
            "grid_area": null,
            "grid_auto_columns": null,
            "grid_auto_flow": null,
            "grid_auto_rows": null,
            "grid_column": null,
            "grid_gap": null,
            "grid_row": null,
            "grid_template_areas": null,
            "grid_template_columns": null,
            "grid_template_rows": null,
            "height": null,
            "justify_content": null,
            "justify_items": null,
            "left": null,
            "margin": null,
            "max_height": null,
            "max_width": null,
            "min_height": null,
            "min_width": null,
            "object_fit": null,
            "object_position": null,
            "order": null,
            "overflow": null,
            "overflow_x": null,
            "overflow_y": null,
            "padding": null,
            "right": null,
            "top": null,
            "visibility": null,
            "width": null
          }
        },
        "3732d23841674daf8029a5b651ff26aa": {
          "model_module": "@jupyter-widgets/controls",
          "model_name": "SliderStyleModel",
          "model_module_version": "1.5.0",
          "state": {
            "_model_module": "@jupyter-widgets/controls",
            "_model_module_version": "1.5.0",
            "_model_name": "SliderStyleModel",
            "_view_count": null,
            "_view_module": "@jupyter-widgets/base",
            "_view_module_version": "1.2.0",
            "_view_name": "StyleView",
            "description_width": "",
            "handle_color": null
          }
        },
        "011025920bca4314873bcb76816252e9": {
          "model_module": "@jupyter-widgets/base",
          "model_name": "LayoutModel",
          "model_module_version": "1.2.0",
          "state": {
            "_model_module": "@jupyter-widgets/base",
            "_model_module_version": "1.2.0",
            "_model_name": "LayoutModel",
            "_view_count": null,
            "_view_module": "@jupyter-widgets/base",
            "_view_module_version": "1.2.0",
            "_view_name": "LayoutView",
            "align_content": null,
            "align_items": null,
            "align_self": null,
            "border": null,
            "bottom": null,
            "display": null,
            "flex": null,
            "flex_flow": null,
            "grid_area": null,
            "grid_auto_columns": null,
            "grid_auto_flow": null,
            "grid_auto_rows": null,
            "grid_column": null,
            "grid_gap": null,
            "grid_row": null,
            "grid_template_areas": null,
            "grid_template_columns": null,
            "grid_template_rows": null,
            "height": null,
            "justify_content": null,
            "justify_items": null,
            "left": null,
            "margin": null,
            "max_height": null,
            "max_width": null,
            "min_height": null,
            "min_width": null,
            "object_fit": null,
            "object_position": null,
            "order": null,
            "overflow": null,
            "overflow_x": null,
            "overflow_y": null,
            "padding": null,
            "right": null,
            "top": null,
            "visibility": null,
            "width": null
          }
        },
        "bcf785b396ae42949da03ae24a98e15d": {
          "model_module": "@jupyter-widgets/controls",
          "model_name": "SliderStyleModel",
          "model_module_version": "1.5.0",
          "state": {
            "_model_module": "@jupyter-widgets/controls",
            "_model_module_version": "1.5.0",
            "_model_name": "SliderStyleModel",
            "_view_count": null,
            "_view_module": "@jupyter-widgets/base",
            "_view_module_version": "1.2.0",
            "_view_name": "StyleView",
            "description_width": "",
            "handle_color": null
          }
        },
        "f94ec135f8bb4312a5224ba897445a0f": {
          "model_module": "@jupyter-widgets/base",
          "model_name": "LayoutModel",
          "model_module_version": "1.2.0",
          "state": {
            "_model_module": "@jupyter-widgets/base",
            "_model_module_version": "1.2.0",
            "_model_name": "LayoutModel",
            "_view_count": null,
            "_view_module": "@jupyter-widgets/base",
            "_view_module_version": "1.2.0",
            "_view_name": "LayoutView",
            "align_content": null,
            "align_items": null,
            "align_self": null,
            "border": null,
            "bottom": null,
            "display": null,
            "flex": null,
            "flex_flow": null,
            "grid_area": null,
            "grid_auto_columns": null,
            "grid_auto_flow": null,
            "grid_auto_rows": null,
            "grid_column": null,
            "grid_gap": null,
            "grid_row": null,
            "grid_template_areas": null,
            "grid_template_columns": null,
            "grid_template_rows": null,
            "height": null,
            "justify_content": null,
            "justify_items": null,
            "left": null,
            "margin": null,
            "max_height": null,
            "max_width": null,
            "min_height": null,
            "min_width": null,
            "object_fit": null,
            "object_position": null,
            "order": null,
            "overflow": null,
            "overflow_x": null,
            "overflow_y": null,
            "padding": null,
            "right": null,
            "top": null,
            "visibility": null,
            "width": null
          }
        },
        "7b01a9c4dbd44832ba366f83f96bf29e": {
          "model_module": "@jupyter-widgets/controls",
          "model_name": "VBoxModel",
          "model_module_version": "1.5.0",
          "state": {
            "_dom_classes": [
              "widget-interact"
            ],
            "_model_module": "@jupyter-widgets/controls",
            "_model_module_version": "1.5.0",
            "_model_name": "VBoxModel",
            "_view_count": null,
            "_view_module": "@jupyter-widgets/controls",
            "_view_module_version": "1.5.0",
            "_view_name": "VBoxView",
            "box_style": "",
            "children": [
              "IPY_MODEL_177c8b2889ce4751b097af76df01d29a",
              "IPY_MODEL_80a5613929c04953b0253bfbcb081805",
              "IPY_MODEL_2a4d8729af5d4d73942d4549f3cd0e95",
              "IPY_MODEL_399a8970f90349b48a88497372d59e37"
            ],
            "layout": "IPY_MODEL_69da6ae5086446a5b937a64c0c36c96d"
          }
        },
        "177c8b2889ce4751b097af76df01d29a": {
          "model_module": "@jupyter-widgets/controls",
          "model_name": "FloatSliderModel",
          "model_module_version": "1.5.0",
          "state": {
            "_dom_classes": [],
            "_model_module": "@jupyter-widgets/controls",
            "_model_module_version": "1.5.0",
            "_model_name": "FloatSliderModel",
            "_view_count": null,
            "_view_module": "@jupyter-widgets/controls",
            "_view_module_version": "1.5.0",
            "_view_name": "FloatSliderView",
            "continuous_update": true,
            "description": "a",
            "description_tooltip": null,
            "disabled": false,
            "layout": "IPY_MODEL_40a27c3f1ad648bf84717502f422b9aa",
            "max": 9,
            "min": -3,
            "orientation": "horizontal",
            "readout": true,
            "readout_format": ".2f",
            "step": 0.1,
            "style": "IPY_MODEL_096b5473ed8c4c98929cb0e6e57cfbb6",
            "value": 2.1
          }
        },
        "80a5613929c04953b0253bfbcb081805": {
          "model_module": "@jupyter-widgets/controls",
          "model_name": "FloatSliderModel",
          "model_module_version": "1.5.0",
          "state": {
            "_dom_classes": [],
            "_model_module": "@jupyter-widgets/controls",
            "_model_module_version": "1.5.0",
            "_model_name": "FloatSliderModel",
            "_view_count": null,
            "_view_module": "@jupyter-widgets/controls",
            "_view_module_version": "1.5.0",
            "_view_name": "FloatSliderView",
            "continuous_update": true,
            "description": "b",
            "description_tooltip": null,
            "disabled": false,
            "layout": "IPY_MODEL_dac90bada1284a7f8d14c53e4d44da73",
            "max": 6.300000000000001,
            "min": -2.1,
            "orientation": "horizontal",
            "readout": true,
            "readout_format": ".2f",
            "step": 0.1,
            "style": "IPY_MODEL_a1f3e4586a644a9480c2658e7496f251",
            "value": 0.7
          }
        },
        "2a4d8729af5d4d73942d4549f3cd0e95": {
          "model_module": "@jupyter-widgets/controls",
          "model_name": "FloatSliderModel",
          "model_module_version": "1.5.0",
          "state": {
            "_dom_classes": [],
            "_model_module": "@jupyter-widgets/controls",
            "_model_module_version": "1.5.0",
            "_model_name": "FloatSliderModel",
            "_view_count": null,
            "_view_module": "@jupyter-widgets/controls",
            "_view_module_version": "1.5.0",
            "_view_name": "FloatSliderView",
            "continuous_update": true,
            "description": "c",
            "description_tooltip": null,
            "disabled": false,
            "layout": "IPY_MODEL_b12a785260fe45fea8d3992bb2dbaa1f",
            "max": 6.300000000000001,
            "min": -2.1,
            "orientation": "horizontal",
            "readout": true,
            "readout_format": ".2f",
            "step": 0.1,
            "style": "IPY_MODEL_ede4c52ea7be4b38b2c7669d64bba255",
            "value": 0.9
          }
        },
        "399a8970f90349b48a88497372d59e37": {
          "model_module": "@jupyter-widgets/output",
          "model_name": "OutputModel",
          "model_module_version": "1.0.0",
          "state": {
            "_dom_classes": [],
            "_model_module": "@jupyter-widgets/output",
            "_model_module_version": "1.0.0",
            "_model_name": "OutputModel",
            "_view_count": null,
            "_view_module": "@jupyter-widgets/output",
            "_view_module_version": "1.0.0",
            "_view_name": "OutputView",
            "layout": "IPY_MODEL_3241e44e7f8e4967b8455ba89c896217",
            "msg_id": "",
            "outputs": [
              {
                "output_type": "display_data",
                "data": {
                  "text/plain": "<Figure size 576x432 with 1 Axes>",
                  "image/png": "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\n"
                },
                "metadata": {}
              }
            ]
          }
        },
        "69da6ae5086446a5b937a64c0c36c96d": {
          "model_module": "@jupyter-widgets/base",
          "model_name": "LayoutModel",
          "model_module_version": "1.2.0",
          "state": {
            "_model_module": "@jupyter-widgets/base",
            "_model_module_version": "1.2.0",
            "_model_name": "LayoutModel",
            "_view_count": null,
            "_view_module": "@jupyter-widgets/base",
            "_view_module_version": "1.2.0",
            "_view_name": "LayoutView",
            "align_content": null,
            "align_items": null,
            "align_self": null,
            "border": null,
            "bottom": null,
            "display": null,
            "flex": null,
            "flex_flow": null,
            "grid_area": null,
            "grid_auto_columns": null,
            "grid_auto_flow": null,
            "grid_auto_rows": null,
            "grid_column": null,
            "grid_gap": null,
            "grid_row": null,
            "grid_template_areas": null,
            "grid_template_columns": null,
            "grid_template_rows": null,
            "height": null,
            "justify_content": null,
            "justify_items": null,
            "left": null,
            "margin": null,
            "max_height": null,
            "max_width": null,
            "min_height": null,
            "min_width": null,
            "object_fit": null,
            "object_position": null,
            "order": null,
            "overflow": null,
            "overflow_x": null,
            "overflow_y": null,
            "padding": null,
            "right": null,
            "top": null,
            "visibility": null,
            "width": null
          }
        },
        "40a27c3f1ad648bf84717502f422b9aa": {
          "model_module": "@jupyter-widgets/base",
          "model_name": "LayoutModel",
          "model_module_version": "1.2.0",
          "state": {
            "_model_module": "@jupyter-widgets/base",
            "_model_module_version": "1.2.0",
            "_model_name": "LayoutModel",
            "_view_count": null,
            "_view_module": "@jupyter-widgets/base",
            "_view_module_version": "1.2.0",
            "_view_name": "LayoutView",
            "align_content": null,
            "align_items": null,
            "align_self": null,
            "border": null,
            "bottom": null,
            "display": null,
            "flex": null,
            "flex_flow": null,
            "grid_area": null,
            "grid_auto_columns": null,
            "grid_auto_flow": null,
            "grid_auto_rows": null,
            "grid_column": null,
            "grid_gap": null,
            "grid_row": null,
            "grid_template_areas": null,
            "grid_template_columns": null,
            "grid_template_rows": null,
            "height": null,
            "justify_content": null,
            "justify_items": null,
            "left": null,
            "margin": null,
            "max_height": null,
            "max_width": null,
            "min_height": null,
            "min_width": null,
            "object_fit": null,
            "object_position": null,
            "order": null,
            "overflow": null,
            "overflow_x": null,
            "overflow_y": null,
            "padding": null,
            "right": null,
            "top": null,
            "visibility": null,
            "width": null
          }
        },
        "096b5473ed8c4c98929cb0e6e57cfbb6": {
          "model_module": "@jupyter-widgets/controls",
          "model_name": "SliderStyleModel",
          "model_module_version": "1.5.0",
          "state": {
            "_model_module": "@jupyter-widgets/controls",
            "_model_module_version": "1.5.0",
            "_model_name": "SliderStyleModel",
            "_view_count": null,
            "_view_module": "@jupyter-widgets/base",
            "_view_module_version": "1.2.0",
            "_view_name": "StyleView",
            "description_width": "",
            "handle_color": null
          }
        },
        "dac90bada1284a7f8d14c53e4d44da73": {
          "model_module": "@jupyter-widgets/base",
          "model_name": "LayoutModel",
          "model_module_version": "1.2.0",
          "state": {
            "_model_module": "@jupyter-widgets/base",
            "_model_module_version": "1.2.0",
            "_model_name": "LayoutModel",
            "_view_count": null,
            "_view_module": "@jupyter-widgets/base",
            "_view_module_version": "1.2.0",
            "_view_name": "LayoutView",
            "align_content": null,
            "align_items": null,
            "align_self": null,
            "border": null,
            "bottom": null,
            "display": null,
            "flex": null,
            "flex_flow": null,
            "grid_area": null,
            "grid_auto_columns": null,
            "grid_auto_flow": null,
            "grid_auto_rows": null,
            "grid_column": null,
            "grid_gap": null,
            "grid_row": null,
            "grid_template_areas": null,
            "grid_template_columns": null,
            "grid_template_rows": null,
            "height": null,
            "justify_content": null,
            "justify_items": null,
            "left": null,
            "margin": null,
            "max_height": null,
            "max_width": null,
            "min_height": null,
            "min_width": null,
            "object_fit": null,
            "object_position": null,
            "order": null,
            "overflow": null,
            "overflow_x": null,
            "overflow_y": null,
            "padding": null,
            "right": null,
            "top": null,
            "visibility": null,
            "width": null
          }
        },
        "a1f3e4586a644a9480c2658e7496f251": {
          "model_module": "@jupyter-widgets/controls",
          "model_name": "SliderStyleModel",
          "model_module_version": "1.5.0",
          "state": {
            "_model_module": "@jupyter-widgets/controls",
            "_model_module_version": "1.5.0",
            "_model_name": "SliderStyleModel",
            "_view_count": null,
            "_view_module": "@jupyter-widgets/base",
            "_view_module_version": "1.2.0",
            "_view_name": "StyleView",
            "description_width": "",
            "handle_color": null
          }
        },
        "b12a785260fe45fea8d3992bb2dbaa1f": {
          "model_module": "@jupyter-widgets/base",
          "model_name": "LayoutModel",
          "model_module_version": "1.2.0",
          "state": {
            "_model_module": "@jupyter-widgets/base",
            "_model_module_version": "1.2.0",
            "_model_name": "LayoutModel",
            "_view_count": null,
            "_view_module": "@jupyter-widgets/base",
            "_view_module_version": "1.2.0",
            "_view_name": "LayoutView",
            "align_content": null,
            "align_items": null,
            "align_self": null,
            "border": null,
            "bottom": null,
            "display": null,
            "flex": null,
            "flex_flow": null,
            "grid_area": null,
            "grid_auto_columns": null,
            "grid_auto_flow": null,
            "grid_auto_rows": null,
            "grid_column": null,
            "grid_gap": null,
            "grid_row": null,
            "grid_template_areas": null,
            "grid_template_columns": null,
            "grid_template_rows": null,
            "height": null,
            "justify_content": null,
            "justify_items": null,
            "left": null,
            "margin": null,
            "max_height": null,
            "max_width": null,
            "min_height": null,
            "min_width": null,
            "object_fit": null,
            "object_position": null,
            "order": null,
            "overflow": null,
            "overflow_x": null,
            "overflow_y": null,
            "padding": null,
            "right": null,
            "top": null,
            "visibility": null,
            "width": null
          }
        },
        "ede4c52ea7be4b38b2c7669d64bba255": {
          "model_module": "@jupyter-widgets/controls",
          "model_name": "SliderStyleModel",
          "model_module_version": "1.5.0",
          "state": {
            "_model_module": "@jupyter-widgets/controls",
            "_model_module_version": "1.5.0",
            "_model_name": "SliderStyleModel",
            "_view_count": null,
            "_view_module": "@jupyter-widgets/base",
            "_view_module_version": "1.2.0",
            "_view_name": "StyleView",
            "description_width": "",
            "handle_color": null
          }
        },
        "3241e44e7f8e4967b8455ba89c896217": {
          "model_module": "@jupyter-widgets/base",
          "model_name": "LayoutModel",
          "model_module_version": "1.2.0",
          "state": {
            "_model_module": "@jupyter-widgets/base",
            "_model_module_version": "1.2.0",
            "_model_name": "LayoutModel",
            "_view_count": null,
            "_view_module": "@jupyter-widgets/base",
            "_view_module_version": "1.2.0",
            "_view_name": "LayoutView",
            "align_content": null,
            "align_items": null,
            "align_self": null,
            "border": null,
            "bottom": null,
            "display": null,
            "flex": null,
            "flex_flow": null,
            "grid_area": null,
            "grid_auto_columns": null,
            "grid_auto_flow": null,
            "grid_auto_rows": null,
            "grid_column": null,
            "grid_gap": null,
            "grid_row": null,
            "grid_template_areas": null,
            "grid_template_columns": null,
            "grid_template_rows": null,
            "height": null,
            "justify_content": null,
            "justify_items": null,
            "left": null,
            "margin": null,
            "max_height": null,
            "max_width": null,
            "min_height": null,
            "min_width": null,
            "object_fit": null,
            "object_position": null,
            "order": null,
            "overflow": null,
            "overflow_x": null,
            "overflow_y": null,
            "padding": null,
            "right": null,
            "top": null,
            "visibility": null,
            "width": null
          }
        },
        "ae3324e947bb452cb9dc63ab0e2dd15f": {
          "model_module": "@jupyter-widgets/controls",
          "model_name": "VBoxModel",
          "model_module_version": "1.5.0",
          "state": {
            "_dom_classes": [
              "widget-interact"
            ],
            "_model_module": "@jupyter-widgets/controls",
            "_model_module_version": "1.5.0",
            "_model_name": "VBoxModel",
            "_view_count": null,
            "_view_module": "@jupyter-widgets/controls",
            "_view_module_version": "1.5.0",
            "_view_name": "VBoxView",
            "box_style": "",
            "children": [
              "IPY_MODEL_8b50e103a8a7486884b33e49c1881b79",
              "IPY_MODEL_f9cb39ee2d2f41e8b2b2c384a54c2c71",
              "IPY_MODEL_148ce513cc654584b1d1e6832da18920"
            ],
            "layout": "IPY_MODEL_f1e0ae68747f49cd8f4ee23b292431d5"
          }
        },
        "8b50e103a8a7486884b33e49c1881b79": {
          "model_module": "@jupyter-widgets/controls",
          "model_name": "FloatSliderModel",
          "model_module_version": "1.5.0",
          "state": {
            "_dom_classes": [],
            "_model_module": "@jupyter-widgets/controls",
            "_model_module_version": "1.5.0",
            "_model_name": "FloatSliderModel",
            "_view_count": null,
            "_view_module": "@jupyter-widgets/controls",
            "_view_module_version": "1.5.0",
            "_view_name": "FloatSliderView",
            "continuous_update": true,
            "description": "m",
            "description_tooltip": null,
            "disabled": false,
            "layout": "IPY_MODEL_9cc6e8f835dd48ffbf6fbed83db742c5",
            "max": 4.5,
            "min": -1.5,
            "orientation": "horizontal",
            "readout": true,
            "readout_format": ".2f",
            "step": 0.1,
            "style": "IPY_MODEL_e6a4c0439f5d4eb6b01e064d14fb094a",
            "value": 1.5
          }
        },
        "f9cb39ee2d2f41e8b2b2c384a54c2c71": {
          "model_module": "@jupyter-widgets/controls",
          "model_name": "FloatSliderModel",
          "model_module_version": "1.5.0",
          "state": {
            "_dom_classes": [],
            "_model_module": "@jupyter-widgets/controls",
            "_model_module_version": "1.5.0",
            "_model_name": "FloatSliderModel",
            "_view_count": null,
            "_view_module": "@jupyter-widgets/controls",
            "_view_module_version": "1.5.0",
            "_view_name": "FloatSliderView",
            "continuous_update": true,
            "description": "b",
            "description_tooltip": null,
            "disabled": false,
            "layout": "IPY_MODEL_a98bbf48d5f94ff3bd4cd31f91db283a",
            "max": 4.5,
            "min": -1.5,
            "orientation": "horizontal",
            "readout": true,
            "readout_format": ".2f",
            "step": 0.1,
            "style": "IPY_MODEL_3bd4b0b28ee74d06b2d743b7a7c6c293",
            "value": 1.5
          }
        },
        "148ce513cc654584b1d1e6832da18920": {
          "model_module": "@jupyter-widgets/output",
          "model_name": "OutputModel",
          "model_module_version": "1.0.0",
          "state": {
            "_dom_classes": [],
            "_model_module": "@jupyter-widgets/output",
            "_model_module_version": "1.0.0",
            "_model_name": "OutputModel",
            "_view_count": null,
            "_view_module": "@jupyter-widgets/output",
            "_view_module_version": "1.0.0",
            "_view_name": "OutputView",
            "layout": "IPY_MODEL_a51e9137858a49e0943780799700a63c",
            "msg_id": "",
            "outputs": [
              {
                "output_type": "display_data",
                "data": {
                  "text/plain": "<Figure size 576x432 with 1 Axes>",
                  "image/png": "iVBORw0KGgoAAAANSUhEUgAAAesAAAF5CAYAAAC/XQLpAAAAOnRFWHRTb2Z0d2FyZQBNYXRwbG90bGliIHZlcnNpb24zLjEwLjAsIGh0dHBzOi8vbWF0cGxvdGxpYi5vcmcvlHJYcgAAAAlwSFlzAAAN1wAADdcBQiibeAAAIwNJREFUeJzt3XmQlOW99vFvgzAsggwgKoLiQhQ1iie+GksLIpsoRAFxSeREEXBBIbjFqOgZPCyJVCQqblRA0QNHg4obyDIgGixLSg/ggnrQEBQFjcoamGGG6feP+4RIIgxL99xPd38/VVPVNDDPVQzMxbPc9y+VTqfTSJKkxKoVO4AkSdo1y1qSpISzrCVJSjjLWpKkhLOsJUlKOMtakqSEs6wlSUo4y1qSpISzrCVJSrislvWWLVs4+uijadKkSTYPI0lSXstqWd95550cfvjh2TyEJEl5L2tl/fbbbzNr1ixuueWWbB1CkqSCsF82PmllZSWDBg3igQceoKqqKhuHkCSpYGSlrMeOHcvJJ59Mhw4dWLBgwS5/bUlJCSNGjMhGDEmScsauhmCmMj0i8+OPP6Zz584sXryYpk2bsmDBAnr16sW6det26/enUqldBpYk5YktW6BHD3jlFTj1VJg7Fxo3jp0qiuq6L+Nn1gsXLuTLL7/kBz/4AQAVFRVs3LiR5s2bM2PGDE477bRMH1KSlGvKy6FPn1DU7dvDrFkFW9S7I+Nn1ps3b+bbb7/d/uM33niDgQMH8v7779OiRQvq1q2760CeWUtSfquogL594YUX4PjjYcECaN48dqqoavzMukGDBjRo0GD7jw888EBSqRStWrXK9KEkSbmmshIuvTQU9THHwLx5BV/UuyPjZ9b7yjNrScpT27bBZZfBlClw5JHw2mtw6KGxUyVCdd3ndqOSpOyrqoKrrgpFfdhhMH++Rb0HLGtJUnal0zBkCEycCC1bhqJ2d8s9YllLkrInnYabboIHH4SDDgpFfdRRsVPlHMtakpQ9d9wB99wDzZpBaWl4qEx7zLKWJGXHyJEwahQ0aRI2PDnhhNiJcpZlLUnKvLFjw1l1o0Zhw5OTT46dKKdZ1pKkzLr/fvjVr6BBA5g5E9y5cp9Z1pKkzJkwAYYOhXr14MUX4cwzYyfKC5a1JCkzJk+Gq6+GunVh+nTo1Cl2orxhWUuS9t2TT8IVV0Dt2jBtGnTvHjtRXrGsJUn7Zvp06NcvvJ46Fc47L26ePJTxQR6SpAIyYwZcfHHYTvSJJ+DCC2MnykuWtSRp75SWwgUXhJGXf/hDmKalrPAyuCRpz732WrjcXV4ODzwAAwbETpTXLGtJ0p554w3o0QO2bIHf/Q4GD46dKO9Z1pKk3ffWW+FJ702bYPRouOGG2IkKgmUtSdo9S5dCt26wYUPYSvTWW2MnKhipdDqdjh3iu1KpFAmLJEn64APo2BH++le4+Wb47W8hlYqdKm9U132eWUuSdm35cujcORT1kCEWdQSeWUuSdm7FCujQAVatgkGD4JFHLOos8MxakrR3PvssnFGvWgWXXQYPP2xRR2JZS5L+1erVoahXrIBLLoGJE6GWlRGLf/KSpB199VUo6uXLoXdvePzxMKBD0VjWkqR/+PZb6No1PP3do0eYplWnTuxUBc+yliQF69eHddTvvANdusDTT4fZ1IrOspYkwcaNcM458Pbb4env55+HevVip9L/sawlqdBt3gw9e4Y9v08/HV56CRo0iJ1K32FZS1IhKyuD888PU7ROOQVefhkaNYqdSv/EspakQrV1a5hHXVoKJ54Is2fDAQfETqXvYVlLUiGqqAjrp2fOhOOOC4XdtGnsVNoJy1qSCs22bfCLX8D06XD00aGoDzwwdirtgmUtSYWkqgoGDAjrp9u0gfnz4ZBDYqdSNSxrSSoU6TRccw1MngytWoWibt06dirtBstakgpBOg3DhsGECXDwwaGojzgidirtJstakvJdOg2//jXcdx80bw7z5kHbtrFTaQ9Y1pKU70pK4O67obg4PEx23HGxE2kPWdaSlM9Gj4a77oLGjWHOHDjppNiJtBcsa0nKV+PGwe23Q8OGMGtW2KFMOcmylqR89NBDcMMNUL8+zJgR9vxWzrKsJSnfTJoEgwdDUVGYntWxY+xE2keWtSTlkylTYOBAqFMHnnkGunaNnUgZYFlLUr6YNi1sI1qrFjz1FPToETuRMsSylqR88MIL8POfh9dTpkDv3nHzKKP2ix1AkrSPZs+GCy8MAzoeewwuvjh2ImWYZS1JueyVV6BXrzCb+pFHwmVw5R0vg0tSrlq4EHr2hLKysJXolVfGTqQssawlKRctWgTnngubN8PYsTBkSOxEyiLLWpJyzeLFcPbZsHEj/Od/wk03xU6kLLOsJSmXvPdeWDu9bh3cdhsMHx47kWqAZS1JueLDD6FzZ/jmm7CV6MiRsROphqTS6XQ6dojvSqVSJCySJMX3ySfQoQN88UXYSnT8eEilYqdShlTXfZ5ZS1LSrVwJnTqFoh4wAO6/36IuMJa1JCXZ55+Hov70U7j00rCWupbfuguNX3FJSqovvwz3qP/8Z+jbN+xOVrt27FSKwLKWpCT6+mvo0gU++gjOOw+mToX93HSyUFnWkpQ0a9dCt25hmVb37vDHP4aRlypYlrUkJcmGDaGgFy+Gs86CZ5+FoqLYqRRZVsp6yJAhtG7dmsaNG3PooYcybNgwtm7dmo1DSVL+2LQpbCG6aBGccUYYe1m/fuxUSoCslPXgwYP58MMP2bBhA0uXLmXp0qXcfffd2TiUJOWHLVvCvenXX4dTT4WZM2H//WOnUkJk5WmFdu3abX+dTqepVasWy5cvz8ahJCn3lZdD795h3GX79jBrFjRuHDuVEiRr96x/85vfsP/++9OiRQuWLl3KkJ1MhCkpKSGVSm3/kKSCUlEBF10Es2fD8cfD3LlQXBw7lRIm69uNfvDBB0yZMoWrr76aVq1aVR/I7UYlFYrKSvj5z2HaNDjmGFiwAA4+OHYqRRB9u9F27dpx0kkncfnll2f7UJKUO7Ztg8svD0V95JEwb55FrZ2qkaVbFRUV3rOWpL+rqoKrroIpU+Cww2D+fDj00NiplGAZL+tNmzbx6KOPsm7dOtLpNO+++y4jR47k7LPPzvShJCn3pNMwZAhMnAgtW4aiPvzw2KmUcBm/Z/23v/2NXr168T//8z+Ul5fTokULLrjgAkaMGEGDBg2qD+Q9a0n5Kp2GG2+EcePgoIPCPepjj42dSglQXfc5z1qSakI6DbffDmPGQLNmoahPOCF2KiVE9AfMJEnAyJGhqJs0CcuzLGrtActakrJt7Fi4805o1Cispz755NiJlGMsa0nKpvvug1/9Cho2DFuInnpq7ETKQZa1JGXLhAnwy19CvXrw4otw5pmxEylHWdaSlA2TJ8PVV0PduvDcc2HcpbSXLGtJyrQnn4QrroDatcMOZe4zoX1kWUtSJk2fDv36hddTp4axl9I+ysqITEkqSDNmwMUXh+1En3gCLrwwdiLlCctakjKhtBQuuCCMvJw4ES69NHYi5REvg0vSvnrttXC5u7wcHngg3K+WMsiylqR98cYb0KMHbNkC99wDgwfHTqQ8ZFlL0t566y3o3h02bYLRo+H662MnUp6yrCVpbyxdCt26wYYNYSvRW2+NnUh5zLKWpD21bBl07Qpr14atREtKYidSnnNEpiTtieXLoUMHWLMGhg6F3/8eUqnYqZTjHJEpSZmyYgV06hSK+sorLWrVGMtaknbHZ5+Fol61Ci6/HB56yKJWjbGsJak6q1dD587wl7/AJZfAH/4Atfz2qZrj3zZJ2pWvvgpFvXw59O4Njz8eBnRINciylqSd+fbb8NT3Bx/AueeGaVp16sROpQJkWUvS91m/Pqyjfucd6NIFnnkmzKaWIrCsJemfbdwI55wDb78dlmk9/zzUqxc7lQqYZS1J37V5M/z0p2HP79NPh5deggYNYqdSgbOsJenvysrg/PPh1VfhRz+Cl1+GRo1ip5Isa0kCYOvWMI+6tBROPBFmz4YDDoidSgIsa0mCioqwfnrmTGjXDubOhWbNYqeStrOsJRW2bdvgF7+A6dPh6KNh3jxo0SJ2KmkHlrWkwlVVBVdcEdZPt2kD8+fDIYfETiX9C8taUmFKp+Gaa8KOZK1ahaJu3Tp2Kul7WdaSCk86DcOGwYQJcPDBoaiPOCJ2KmmnLGtJhSWdhl//Gu67D5o3D/eo27aNnUraJctaUmEpKYG774bi4rBM67jjYieSqmVZSyocY8bAXXdB48YwZw6cdFLsRNJusawlFYZx4+C226BhQ5g1C045JXYiabdZ1pLy34MPwg03QP36MGNG2PNbyiGWtaT89uijcO21UFQEL7wAHTvGTiTtMctaUv6aOhUGDIA6dcI86i5dYieS9oplLSk/Pf102Ea0Vi146ino0SN2Immv7Rc7gCRl3Isvws9+FtZUT5kCvXvHTiTtE8taUn6ZPRv69oXKSnjssTBNS8pxXgaXlD9eeQV69QqzqR9+GC67LHYiKSMsa0n5YeFC6NkTysrg3nvhqqtiJ5IyxrKWlPsWLYJzz4XNm8NWokOHxk4kZZRlLSm3LV4MZ58NGzeGrURvvjl2IinjLGtJueu996BrV1i3Dm69FYYPj51IygrLWlJu+vBD6NwZvvkmbCU6ahSkUrFTSVmRSqfT6dghviuVSpGwSJKS5pNPoEMH+OILGDwYxo+3qJXTqus+z6wl5ZaVK6FTp1DUAwbA/fdb1Mp7lrWk3PH556GoP/0U+vWDRx4J24lKec6/5ZJyw5o1oaj//OewQ9mjj0Lt2rFTSTXCspaUfF9/HSZm/e//wnnnhWla+7lbsgqHZS0p2dauhW7d4P33oXt3+OMfw8hLqYBY1pKSa8OGUNCLF8NZZ8Gzz0JRUexUUo2zrCUl09/+FmZQL1oEZ5wBL7wA9evHTiVFYVlLSp4tW8K96YUL4dRTYeZM2H//2KmkaCxrSclSXg59+sD8+dC+PcyaBY0bx04lRZXxsi4vL2fQoEEcccQRNGrUiGOPPZZJkyZl+jCS8lFFBVx8cSjo44+HuXOhuDh2Kim6jK99qKys5JBDDqG0tJQjjzySN998k3POOYdWrVrRrVu3TB9OUr6orIRLL4Xnn4djjoF586B589ippESokb3B+/TpwwknnMBdd91VfSD3BpcKz7ZtcNllMGUKHHkkvPYaHHpo7FRSjYm+N3hZWRmLFi3ixBNPzPahJOWiqiq46qpQ1IcdFu5VW9TSDrJa1ul0moEDB9K2bVv69Onzvb+mpKSEVCq1/UNSAUmnYcgQmDgRWrYMRX344bFTSYmTtcvg6XSawYMH89Zbb1FaWsoBBxywe4G8DC4VhnQabrwRxo2DFi3g1Vfh2GNjp5KiqK77srK5bjqd5tprr+XNN99k3rx5u13UkgpEOg233x6Kulmz8DCZRS3tVFbK+rrrruP1119n/vz5FLvsQtI/GzkSxoyBJk1gzhw44YTYiaREy/hl8JUrV9KmTRuKiorY7ztTcfr168fDDz9cfSAvg0v5bexY+NWvoFGjsI76tNNiJ5Kiq677amTp1p6wrKU8dt998MtfQoMGMHs2nHlm7ERSIkRfuiVJAEyYEIq6Xj148UWLWtoDlrWk7Js8Ga6+GurWhenToVOn2ImknGJZS8quJ5+EK66A2rVh2rQwn1rSHrGsJWXP9OnQr194/d//HcZeStpjWVm6JUnMmBEmaFVVwRNPQN++sRNJOcuylpR5c+fCBReEkZcTJ4ZpWpL2mpfBJWXWq6/C+edDeTk88EC4Xy1pn1jWkjLnjTegZ0/YsgXuuQcGD46dSMoLlrWkzHjrrfCk96ZNMGoUXH997ERS3rCsJe27pUuhWzfYsAHuvBNuuy12IimvWNaS9s2yZdC1K6xdG/b8LimJnUjKO+4NLmnvLV8OHTvC6tUwdCj8/veQSsVOJeUcB3lIyo4VK6BDB1i1Cq68Eh5+2KKW9pKDPCRl3mefQefOoagvuwweesiilrLIspa0Z1avDkW9YgVccknY9KSW30qkbPJfmKTd99e/Qpcu4V51797w+ONhQIekrLKsJe2eb78NRb1sGZx7bpimVadO7FRSQbCsJVVv/fqwjvqdd0JhP/NMmE0tqUZY1pJ2beNGOOccePvt8PT3c89BvXqxU0kFxbKWtHObN4e9vt94A378Y3jpJWjYMHYqqeBY1pK+X1lZmJ712mvwox/Byy9Do0axU0kFybKW9K+2bg3zqEtL4cQTYfZsaNIkdiqpYFnWknZUURHWT8+cCe3awdy50KxZ7FRSQbOsJf3Dtm3w7/8O06fD0UfDvHnQokXsVFLBs6wlBVVVMGAAPPUUtGkD8+fDIYfETiUJy1oSQDoN11wDkydDq1ahqFu3jp1K0v+xrKVCl07DsGEwYQIcfHAo6iOOiJ1K0ndY1lIhS6fhllvgvvvgwAPDPeq2bWOnkvRPLGupkJWUwNixUFwcnvo+7rjYiSR9D8taKlRjxsBdd0HjxjBnDpx0UuxEknbCspYK0bhxcNttYevQWbPglFNiJ5K0C5a1VGgefBBuuAHq14cZM+D002MnklQNy1oqJJMmwbXXQlERPP88dOwYO5Gk3WBZS4ViyhQYOBDq1IGnn4auXWMnkrSbLGupEDz9NFx2GdSqBU8+GcZeSsoZ+8UOICnLXnwRfvazsKZ6yhTo0yd2Ikl7yLKW8tns2dC3L1RWwmOPhWlaknKOl8GlfPXKK9CrV5hN/cgj4TK4pJxkWUv5aOHCcF+6rAzuvReuvDJ2Ikn7wLKW8s2iRXDuubB5M9x9NwwdGjuRpH1kWUv5ZPFiOPts2LgxbCV6882xE0nKAMtayhfvvRfWTq9bF7YSHT48diJJGZJKp9Pp2CG+K5VKkbBIUvJ9+GHYjeyrr+D66+F3v4NUKnYqSbupuu7zzFrKdZ98Ap07h6IePNiilvKQZS3lspUroVMn+OILGDAA7r/fopbykGUt5arPPw9n1J9+Cv36hbXUtfwnLeUj/2VLuejLL0NRf/JJ2KHs0Uehdu3YqSRliWUt5Zqvv4YuXeCjj+C882DqVNjPnYOlfGZZS7lk7Vro1i0s0+reHf74xzDyUlJes6ylXLFhQyjoxYvhrLPg2WehqCh2Kkk1wLKWcsGmTWEL0UWL4IwzwtjL+vVjp5JUQyxrKem2bAn3pl9/HU49FWbOhIYNY6eSVIMsaynJysuhT58w7rJ9e5g1Cxo3jp1KUg2zrKWkqqiAiy8OBX388TB3LhQXx04lKQLLWkqiykq49FJ4/nn4wQ9g3jxo3jx2KkmRWNZS0mzbBpdfDtOmwZFHhqI+6KDYqSRFZFlLSVJVBVddBVOmwGGHwfz50KpV7FSSIstKWY8fP55TTjmFoqIievXqlY1DSPknnYYhQ2DiRGjZMpxRH3547FSSEiArexS2bNmS4cOHU1payqpVq7JxCCm/pNNw003w4IPQokUo6qOPjp1KUkJkpaz79OkDwJIlSyxrqTrpNNx+O9xzDzRrBqWlcOyxsVNJSpDo96xLSkpIpVLbP6SCM3IkjBkDTZrAnDnwwx/GTiQpYRJR1ul0evuHVFDuvhvuvBMaNQrrqf/t32InkpRA0ctaKlj33w+33AINGoQtRE87LXYiSQllWUsxTJgAQ4dCvXphKMeZZ8ZOJCnBsvKAWWVl5faPqqoqysrKqFWrFnXr1s3G4aTcMnkyXH011K0L06dDp06xE0lKuFQ6CzeKS0pKGDFixA7vdezYkQULFlQfKJXy3rXy15NPhm1Ea9WCZ54J07QkFbzqui8rZb0vLGvlrenT4cILw1Ktp56Cvn1jJ5KUENV1X1Yug0v6JzNnhglaVVXwxBMWtaQ9YllL2VZaGmZSV1SErUQvvTR2Ikk5xqfBpWx67bVwX7q8HB54AK64InYiSTnIspay5Y03oEcP2LIlbCU6eHDsRJJylGUtZcNbb0H37rBpE4weDddfHzuRpBxmWUuZtnQpdOsGGzaErURvvTV2Ikk5zqVbUiYtWwY/+Qn89a9w883w29+CA2okVcN11lJNWb4cOnaE1athyBC4916LWtJuqa77vAwuZcKKFWHb0NWr4corLWpJGWVZS/vqs8+gc2dYtQp+8Qt46CGLWlJGWdbSvli9OhT1ihVwySUwaVLY91uSMsjvKtLe+uqrUNTLl0Pv3vD441C7duxUkvKQZS3tjW+/ha5d4YMPwsYnTz4JderETiUpT1nW0p5avz6so37nHejSBZ5+OsymlqQssaylPbFxI5xzDrz9NnToAM8/D/XqxU4lKc9Z1tLu2rwZevYMe37/+Mfw0kvQoEHsVJIKgGUt7Y6yMjj//DBF60c/gpdfhkaNYqeSVCAsa6k6W7fCBReEudQnngizZ0OTJrFTSSoglrW0KxUVYf30zJnQrh3MnQvNmsVOJanAWNbSzmzbFnYkmz4djj4a5s2DFi1ip5JUgCxr6ftUVcGAAWH9dJs2MH8+HHJI7FSSCpRlLf2zdBquuQYmT4ZWrUJRt24dO5WkAmZZS9+VTsOwYTBhAhx8cCjqI46InUpSgbOspb9Lp+GWW+C+++DAA8M96rZtY6eSJMta2q6kBMaOheLi8NT3ccfFTiRJgGUtBWPGwF13QePGMGcOnHRS7ESStJ1lLY0bB7fdBg0bwqxZcMopsRNJ0g4saxW2Bx+EG26A+vVhxgw4/fTYiSTpX1jWKlyTJsG110JRUZie1bFj7ESS9L0saxWmqVNh4ECoUyfMo+7aNXYiSdopy1qF5+mnwzaitWqFHcp69oydSJJ2ab/YAaQa9eKL8LOfhTXVU6ZAnz6xE0lStSxrFY7Zs6FvX6ishMceC9O0JCkHeBlcheGVV6BXrzCb+pFH4LLLYieSpN1mWSv/LVwY7kuXlcG998KVV8ZOJEl7xLJWflu0CM49FzZvhrvvhqFDYyeSpD1mWSt/LV4MZ58NGzeGrURvvjl2IknaK5a18tN774W10+vWha1Ehw+PnUiS9loqnU6nY4f4rlQqRcIiKdd8+GHYjeyrr+D66+F3v4NUKnYqSdqp6rrPM2vll08+gc6dQ1EPHmxRS8oLlrXyx8qV0KkTfPEFXHEF3H+/RS0pL1jWyg+ffx7OqD/9FC69FCZMCNuJSlIe8LuZct+XX4ai/uSTsEPZY49B7dqxU0lSxljWym1ffw1dusBHH8FPfxr2+97PXXQl5RfLWrlr7Vro1i0s0+reHaZNg7p1Y6eSpIyzrJWbNmwIBb14MZx1Fjz7LBQVxU4lSVlhWSv3bNoEPXqErUTPOCOMvaxfP3YqScoay1q5ZcsWOO+8MJzj//0/mDkTGjaMnUqSssqyVu4oL4fevcO4y/btw3zqxo1jp5KkrLOslRsqKuCii0JBH388zJ0LxcWxU0lSjbCslXyVlWGjkxdegGOOgXnzoHnz2KkkqcZY1kq2bdugf/+wLOvII0NRH3RQ7FSSVKMsayVXVRVcfTX813/BYYfB/Plw6KGxU0lSjbOslUzpNAwdCn/4A7RsGYr68MNjp5KkKCxrJU86DTffDA88EC55z58PRx0VO5UkRWNZK3nuuCPMoW7WDEpLw0NlklTAslLWFRUVXHfddRQXF9O0aVOGDBlCZWVlNg6lfDNyJIwaBU2ahOVZJ5wQO5EkRZeVsh45ciQLFy5k2bJlvP/++/zpT39i9OjR2TiU8snYseGsulEjmDULTj45diJJSoRUOp1OZ/qTtm7dmnHjxtG3b18Apk2bxk033cTKlSurD5RKkbFIn30GX3yRmc+lzEqnwx7f33wTPj74AMaPhwYNwsYnZ54ZO6Ek1Zjqui/jg3/Xrl3LqlWraN++/fb32rdvz6effsr69es54IADMn3InXvoIRgzpuaOp31Tr14YymFRS9IOMl7WmzZtAqBJkybb3/v7640bN/5LWZeUlDBixIhMxwh++MOwRaWSqWHD8BBZs2bQtCl06ADHHhs7lSQlTsYvg69du5amTZvy8ccfc9T/Lbf5+OOPadu2LevWrav2zDqjl8ElScoB1XVfxh8wKy4uplWrVixZsmT7e0uWLKF169Y1ewlckqQ8kZWnwfv378+oUaNYs2YNa9asYfTo0QwcODAbh5IkKe9l/J41wB133ME333xDu3btAOjXrx+33XZbNg4lSVLey8rSrX3hPWtJUqGp8XvWkiQpsyxrSZISzrKWJCnhLGtJkhLOspYkKeEsa0mSEs6yliQp4SxrSZISzrKWJCnhLGtJkhLOspYkKeEsa0mSEs6yliQp4SxrSZISzrKWJCnhLGtJkhLOspYkKeEsa0mSEs6yliQp4SxrSZISzrKWJCnhLGtJkhLOspYkKeEsa0mSEs6yliQp4SxrSZISzrKWJCnhLGtJkhLOspYkKeEsa0mSEs6yliQp4SxrSZISzrKWJCnhLGtJkhLOspYkKeEsa0mSEs6yliQp4SxrSZISzrKWJCnhLGtJkhLOspYkKeEsa0mSEs6yliQp4SxrSZISzrKWJCnhLGtJkhLOspYkKeEsa0mSEs6yliQp4SxrSZISzrKWJCnhLGtJkhLOspYkKeEsa0mSEs6yliQp4SxrSZISzrKWJCnhMlrWq1ev5rzzzqNly5akUimWLFmSyU8vSVJBymhZ16pVi+7du/Pcc89l8tNKklTQUul0Op2VT5xKsXjxYtq3b7/Hvy9LkSRJSqTqum+/GszyvUpKShgxYsQO76VSqUhpJElKnt0+s+7ZsyczZszY6c+vWLGCNm3a/OMT7+WZdSye0cfn1yAu//zj82sQX1K/Brt9Zj116lS2bt26059v2rRpRgJJkqQd7XZZN27cOJs5JEnSTmT8nnVZWdn211u3bqWsrIy6detSq1ayl3T/x3/8R+wIBc+vQVz++cfn1yC+pH4NMv40+Pc9HPbKK6/wk5/8JJOHkSSpYGT8zDqJN+YlScplyb42LUmSLGtJkpLOspYkKeEs6++YMWMGHTp0oLi4mBYtWtC3b19WrVoVO1ZBcRhMzauoqOC6666juLiYpk2bMmTIECorK2PHKhjjx4/nlFNOoaioiF69esWOU5DKy8sZNGgQRxxxBI0aNeLYY49l0qRJsWPtwLL+jvXr13PLLbfw2WefsWLFCho3bsxFF10UO1ZBcRhMzRs5ciQLFy5k2bJlvP/++/zpT39i9OjRsWMVjJYtWzJ8+HAGDRoUO0rBqqys5JBDDqG0tJQNGzbw2GOPceONNzJnzpzY0bbL2iCPfPDOO+9w8sknU15ezn77Rd9GveDk2pa1uap169aMGzeOvn37AjBt2jRuuukmVq5cGTlZYSkpKWHJkiX+RzUh+vTpwwknnMBdd90VOwrgmfUuvfrqq7Rr186iVt5au3Ytq1at2uE/RO3bt+fTTz9l/fr18YJJEZWVlbFo0SJOPPHE2FG2K5iy7tmzJ6lUaqcff/nLX3b49YsXL+aOO+5g3LhxcQLnoT39Gij7Nm3aBECTJk22v/f31xs3boyQSIornU4zcOBA2rZtS58+fWLH2a5gThn3ZBDJu+++yznnnMP48ePp2rVrTcQrCA6DSZ79998fCM9rNG/efPtrgEaNGkXLJcWQTqcZPHgwH330EaWlpYnaJrtgynp3B5G8++67dOnShd/85jf069cvy6kKi8Ngkqe4uJhWrVqxZMkSjjrqKACWLFlC69atOeCAAyKnk2pOOp3m2muv5c0332TevHmJ+/ufnP82JMD7779Ply5dGDlyJP37948dp2CVlZVtHwjz92EwVVVVkVPlr/79+zNq1CjWrFnDmjVrGD16NAMHDowdq2BUVlZSVlZGZWUlVVVVlJWV7fIKlLLjuuuu4/XXX2fu3LkUFxfHjvMvfBr8O/r378/kyZNp0KDBDu8vW7aMww47LFKqwuMwmJpVUVHBsGHDmDp1KgD9+vVj3LhxPlhZQ0pKShgxYsQO73Xs2JEFCxbECVSAVq5cSZs2bSgqKtrh732/fv14+OGHIyb7B8takqSE8zK4JEkJZ1lLkpRwlrUkSQlnWUuSlHCWtSRJCWdZS5KUcJa1JEkJZ1lLkpRwlrUkSQlnWUuSlHCWtSRJCff/ARzgqlz2q8UqAAAAAElFTkSuQmCC\n"
                },
                "metadata": {}
              }
            ]
          }
        },
        "f1e0ae68747f49cd8f4ee23b292431d5": {
          "model_module": "@jupyter-widgets/base",
          "model_name": "LayoutModel",
          "model_module_version": "1.2.0",
          "state": {
            "_model_module": "@jupyter-widgets/base",
            "_model_module_version": "1.2.0",
            "_model_name": "LayoutModel",
            "_view_count": null,
            "_view_module": "@jupyter-widgets/base",
            "_view_module_version": "1.2.0",
            "_view_name": "LayoutView",
            "align_content": null,
            "align_items": null,
            "align_self": null,
            "border": null,
            "bottom": null,
            "display": null,
            "flex": null,
            "flex_flow": null,
            "grid_area": null,
            "grid_auto_columns": null,
            "grid_auto_flow": null,
            "grid_auto_rows": null,
            "grid_column": null,
            "grid_gap": null,
            "grid_row": null,
            "grid_template_areas": null,
            "grid_template_columns": null,
            "grid_template_rows": null,
            "height": null,
            "justify_content": null,
            "justify_items": null,
            "left": null,
            "margin": null,
            "max_height": null,
            "max_width": null,
            "min_height": null,
            "min_width": null,
            "object_fit": null,
            "object_position": null,
            "order": null,
            "overflow": null,
            "overflow_x": null,
            "overflow_y": null,
            "padding": null,
            "right": null,
            "top": null,
            "visibility": null,
            "width": null
          }
        },
        "9cc6e8f835dd48ffbf6fbed83db742c5": {
          "model_module": "@jupyter-widgets/base",
          "model_name": "LayoutModel",
          "model_module_version": "1.2.0",
          "state": {
            "_model_module": "@jupyter-widgets/base",
            "_model_module_version": "1.2.0",
            "_model_name": "LayoutModel",
            "_view_count": null,
            "_view_module": "@jupyter-widgets/base",
            "_view_module_version": "1.2.0",
            "_view_name": "LayoutView",
            "align_content": null,
            "align_items": null,
            "align_self": null,
            "border": null,
            "bottom": null,
            "display": null,
            "flex": null,
            "flex_flow": null,
            "grid_area": null,
            "grid_auto_columns": null,
            "grid_auto_flow": null,
            "grid_auto_rows": null,
            "grid_column": null,
            "grid_gap": null,
            "grid_row": null,
            "grid_template_areas": null,
            "grid_template_columns": null,
            "grid_template_rows": null,
            "height": null,
            "justify_content": null,
            "justify_items": null,
            "left": null,
            "margin": null,
            "max_height": null,
            "max_width": null,
            "min_height": null,
            "min_width": null,
            "object_fit": null,
            "object_position": null,
            "order": null,
            "overflow": null,
            "overflow_x": null,
            "overflow_y": null,
            "padding": null,
            "right": null,
            "top": null,
            "visibility": null,
            "width": null
          }
        },
        "e6a4c0439f5d4eb6b01e064d14fb094a": {
          "model_module": "@jupyter-widgets/controls",
          "model_name": "SliderStyleModel",
          "model_module_version": "1.5.0",
          "state": {
            "_model_module": "@jupyter-widgets/controls",
            "_model_module_version": "1.5.0",
            "_model_name": "SliderStyleModel",
            "_view_count": null,
            "_view_module": "@jupyter-widgets/base",
            "_view_module_version": "1.2.0",
            "_view_name": "StyleView",
            "description_width": "",
            "handle_color": null
          }
        },
        "a98bbf48d5f94ff3bd4cd31f91db283a": {
          "model_module": "@jupyter-widgets/base",
          "model_name": "LayoutModel",
          "model_module_version": "1.2.0",
          "state": {
            "_model_module": "@jupyter-widgets/base",
            "_model_module_version": "1.2.0",
            "_model_name": "LayoutModel",
            "_view_count": null,
            "_view_module": "@jupyter-widgets/base",
            "_view_module_version": "1.2.0",
            "_view_name": "LayoutView",
            "align_content": null,
            "align_items": null,
            "align_self": null,
            "border": null,
            "bottom": null,
            "display": null,
            "flex": null,
            "flex_flow": null,
            "grid_area": null,
            "grid_auto_columns": null,
            "grid_auto_flow": null,
            "grid_auto_rows": null,
            "grid_column": null,
            "grid_gap": null,
            "grid_row": null,
            "grid_template_areas": null,
            "grid_template_columns": null,
            "grid_template_rows": null,
            "height": null,
            "justify_content": null,
            "justify_items": null,
            "left": null,
            "margin": null,
            "max_height": null,
            "max_width": null,
            "min_height": null,
            "min_width": null,
            "object_fit": null,
            "object_position": null,
            "order": null,
            "overflow": null,
            "overflow_x": null,
            "overflow_y": null,
            "padding": null,
            "right": null,
            "top": null,
            "visibility": null,
            "width": null
          }
        },
        "3bd4b0b28ee74d06b2d743b7a7c6c293": {
          "model_module": "@jupyter-widgets/controls",
          "model_name": "SliderStyleModel",
          "model_module_version": "1.5.0",
          "state": {
            "_model_module": "@jupyter-widgets/controls",
            "_model_module_version": "1.5.0",
            "_model_name": "SliderStyleModel",
            "_view_count": null,
            "_view_module": "@jupyter-widgets/base",
            "_view_module_version": "1.2.0",
            "_view_name": "StyleView",
            "description_width": "",
            "handle_color": null
          }
        },
        "a51e9137858a49e0943780799700a63c": {
          "model_module": "@jupyter-widgets/base",
          "model_name": "LayoutModel",
          "model_module_version": "1.2.0",
          "state": {
            "_model_module": "@jupyter-widgets/base",
            "_model_module_version": "1.2.0",
            "_model_name": "LayoutModel",
            "_view_count": null,
            "_view_module": "@jupyter-widgets/base",
            "_view_module_version": "1.2.0",
            "_view_name": "LayoutView",
            "align_content": null,
            "align_items": null,
            "align_self": null,
            "border": null,
            "bottom": null,
            "display": null,
            "flex": null,
            "flex_flow": null,
            "grid_area": null,
            "grid_auto_columns": null,
            "grid_auto_flow": null,
            "grid_auto_rows": null,
            "grid_column": null,
            "grid_gap": null,
            "grid_row": null,
            "grid_template_areas": null,
            "grid_template_columns": null,
            "grid_template_rows": null,
            "height": null,
            "justify_content": null,
            "justify_items": null,
            "left": null,
            "margin": null,
            "max_height": null,
            "max_width": null,
            "min_height": null,
            "min_width": null,
            "object_fit": null,
            "object_position": null,
            "order": null,
            "overflow": null,
            "overflow_x": null,
            "overflow_y": null,
            "padding": null,
            "right": null,
            "top": null,
            "visibility": null,
            "width": null
          }
        },
        "1a31ab3e62474848b183b4325ee0ca08": {
          "model_module": "@jupyter-widgets/controls",
          "model_name": "VBoxModel",
          "model_module_version": "1.5.0",
          "state": {
            "_dom_classes": [
              "widget-interact"
            ],
            "_model_module": "@jupyter-widgets/controls",
            "_model_module_version": "1.5.0",
            "_model_name": "VBoxModel",
            "_view_count": null,
            "_view_module": "@jupyter-widgets/controls",
            "_view_module_version": "1.5.0",
            "_view_name": "VBoxView",
            "box_style": "",
            "children": [
              "IPY_MODEL_d7c997b9597c412780333173eacff91d",
              "IPY_MODEL_8bbe8f5a14524b73bbf3cd79856fca24",
              "IPY_MODEL_98236bb73a7d4c0fb8231cfd2f788dd9",
              "IPY_MODEL_e3cce56b00cd4e0d8af17c1229a1dff3",
              "IPY_MODEL_fc3f3fd19f08488d802d063e158b340d"
            ],
            "layout": "IPY_MODEL_cceddfb5a61240e884d37d3ed146cf1e"
          }
        },
        "d7c997b9597c412780333173eacff91d": {
          "model_module": "@jupyter-widgets/controls",
          "model_name": "FloatSliderModel",
          "model_module_version": "1.5.0",
          "state": {
            "_dom_classes": [],
            "_model_module": "@jupyter-widgets/controls",
            "_model_module_version": "1.5.0",
            "_model_name": "FloatSliderModel",
            "_view_count": null,
            "_view_module": "@jupyter-widgets/controls",
            "_view_module_version": "1.5.0",
            "_view_name": "FloatSliderView",
            "continuous_update": true,
            "description": "m1",
            "description_tooltip": null,
            "disabled": false,
            "layout": "IPY_MODEL_abbd0002158e46f79cdfbb891e24be26",
            "max": 1.5,
            "min": -4.5,
            "orientation": "horizontal",
            "readout": true,
            "readout_format": ".2f",
            "step": 0.1,
            "style": "IPY_MODEL_05ce7beab18a4f2fbeb0c0ebe820b63c",
            "value": -1.5
          }
        },
        "8bbe8f5a14524b73bbf3cd79856fca24": {
          "model_module": "@jupyter-widgets/controls",
          "model_name": "FloatSliderModel",
          "model_module_version": "1.5.0",
          "state": {
            "_dom_classes": [],
            "_model_module": "@jupyter-widgets/controls",
            "_model_module_version": "1.5.0",
            "_model_name": "FloatSliderModel",
            "_view_count": null,
            "_view_module": "@jupyter-widgets/controls",
            "_view_module_version": "1.5.0",
            "_view_name": "FloatSliderView",
            "continuous_update": true,
            "description": "b1",
            "description_tooltip": null,
            "disabled": false,
            "layout": "IPY_MODEL_cf9ab7011fde4e5c82e77c4af261ddda",
            "max": 1.5,
            "min": -4.5,
            "orientation": "horizontal",
            "readout": true,
            "readout_format": ".2f",
            "step": 0.1,
            "style": "IPY_MODEL_6d9b3a19158c491f8dead78f53097b19",
            "value": -1.5
          }
        },
        "98236bb73a7d4c0fb8231cfd2f788dd9": {
          "model_module": "@jupyter-widgets/controls",
          "model_name": "FloatSliderModel",
          "model_module_version": "1.5.0",
          "state": {
            "_dom_classes": [],
            "_model_module": "@jupyter-widgets/controls",
            "_model_module_version": "1.5.0",
            "_model_name": "FloatSliderModel",
            "_view_count": null,
            "_view_module": "@jupyter-widgets/controls",
            "_view_module_version": "1.5.0",
            "_view_name": "FloatSliderView",
            "continuous_update": true,
            "description": "m2",
            "description_tooltip": null,
            "disabled": false,
            "layout": "IPY_MODEL_1a88126643f8437c9430855ddd39f989",
            "max": 4.5,
            "min": -1.5,
            "orientation": "horizontal",
            "readout": true,
            "readout_format": ".2f",
            "step": 0.1,
            "style": "IPY_MODEL_c1d4d7f11bc54ac3af7babe5fb3c6a2a",
            "value": 1.5
          }
        },
        "e3cce56b00cd4e0d8af17c1229a1dff3": {
          "model_module": "@jupyter-widgets/controls",
          "model_name": "FloatSliderModel",
          "model_module_version": "1.5.0",
          "state": {
            "_dom_classes": [],
            "_model_module": "@jupyter-widgets/controls",
            "_model_module_version": "1.5.0",
            "_model_name": "FloatSliderModel",
            "_view_count": null,
            "_view_module": "@jupyter-widgets/controls",
            "_view_module_version": "1.5.0",
            "_view_name": "FloatSliderView",
            "continuous_update": true,
            "description": "b2",
            "description_tooltip": null,
            "disabled": false,
            "layout": "IPY_MODEL_3ca10c98e5e242f99976809299d6f086",
            "max": 4.5,
            "min": -1.5,
            "orientation": "horizontal",
            "readout": true,
            "readout_format": ".2f",
            "step": 0.1,
            "style": "IPY_MODEL_14ae5bf6c9704ff0a1074e15bf7d2d71",
            "value": 1.5
          }
        },
        "fc3f3fd19f08488d802d063e158b340d": {
          "model_module": "@jupyter-widgets/output",
          "model_name": "OutputModel",
          "model_module_version": "1.0.0",
          "state": {
            "_dom_classes": [],
            "_model_module": "@jupyter-widgets/output",
            "_model_module_version": "1.0.0",
            "_model_name": "OutputModel",
            "_view_count": null,
            "_view_module": "@jupyter-widgets/output",
            "_view_module_version": "1.0.0",
            "_view_name": "OutputView",
            "layout": "IPY_MODEL_57b2b3eca52040b68e13eb0faa76d91c",
            "msg_id": "",
            "outputs": [
              {
                "output_type": "display_data",
                "data": {
                  "text/plain": "<Figure size 576x432 with 1 Axes>",
                  "image/png": "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\n"
                },
                "metadata": {}
              }
            ]
          }
        },
        "cceddfb5a61240e884d37d3ed146cf1e": {
          "model_module": "@jupyter-widgets/base",
          "model_name": "LayoutModel",
          "model_module_version": "1.2.0",
          "state": {
            "_model_module": "@jupyter-widgets/base",
            "_model_module_version": "1.2.0",
            "_model_name": "LayoutModel",
            "_view_count": null,
            "_view_module": "@jupyter-widgets/base",
            "_view_module_version": "1.2.0",
            "_view_name": "LayoutView",
            "align_content": null,
            "align_items": null,
            "align_self": null,
            "border": null,
            "bottom": null,
            "display": null,
            "flex": null,
            "flex_flow": null,
            "grid_area": null,
            "grid_auto_columns": null,
            "grid_auto_flow": null,
            "grid_auto_rows": null,
            "grid_column": null,
            "grid_gap": null,
            "grid_row": null,
            "grid_template_areas": null,
            "grid_template_columns": null,
            "grid_template_rows": null,
            "height": null,
            "justify_content": null,
            "justify_items": null,
            "left": null,
            "margin": null,
            "max_height": null,
            "max_width": null,
            "min_height": null,
            "min_width": null,
            "object_fit": null,
            "object_position": null,
            "order": null,
            "overflow": null,
            "overflow_x": null,
            "overflow_y": null,
            "padding": null,
            "right": null,
            "top": null,
            "visibility": null,
            "width": null
          }
        },
        "abbd0002158e46f79cdfbb891e24be26": {
          "model_module": "@jupyter-widgets/base",
          "model_name": "LayoutModel",
          "model_module_version": "1.2.0",
          "state": {
            "_model_module": "@jupyter-widgets/base",
            "_model_module_version": "1.2.0",
            "_model_name": "LayoutModel",
            "_view_count": null,
            "_view_module": "@jupyter-widgets/base",
            "_view_module_version": "1.2.0",
            "_view_name": "LayoutView",
            "align_content": null,
            "align_items": null,
            "align_self": null,
            "border": null,
            "bottom": null,
            "display": null,
            "flex": null,
            "flex_flow": null,
            "grid_area": null,
            "grid_auto_columns": null,
            "grid_auto_flow": null,
            "grid_auto_rows": null,
            "grid_column": null,
            "grid_gap": null,
            "grid_row": null,
            "grid_template_areas": null,
            "grid_template_columns": null,
            "grid_template_rows": null,
            "height": null,
            "justify_content": null,
            "justify_items": null,
            "left": null,
            "margin": null,
            "max_height": null,
            "max_width": null,
            "min_height": null,
            "min_width": null,
            "object_fit": null,
            "object_position": null,
            "order": null,
            "overflow": null,
            "overflow_x": null,
            "overflow_y": null,
            "padding": null,
            "right": null,
            "top": null,
            "visibility": null,
            "width": null
          }
        },
        "05ce7beab18a4f2fbeb0c0ebe820b63c": {
          "model_module": "@jupyter-widgets/controls",
          "model_name": "SliderStyleModel",
          "model_module_version": "1.5.0",
          "state": {
            "_model_module": "@jupyter-widgets/controls",
            "_model_module_version": "1.5.0",
            "_model_name": "SliderStyleModel",
            "_view_count": null,
            "_view_module": "@jupyter-widgets/base",
            "_view_module_version": "1.2.0",
            "_view_name": "StyleView",
            "description_width": "",
            "handle_color": null
          }
        },
        "cf9ab7011fde4e5c82e77c4af261ddda": {
          "model_module": "@jupyter-widgets/base",
          "model_name": "LayoutModel",
          "model_module_version": "1.2.0",
          "state": {
            "_model_module": "@jupyter-widgets/base",
            "_model_module_version": "1.2.0",
            "_model_name": "LayoutModel",
            "_view_count": null,
            "_view_module": "@jupyter-widgets/base",
            "_view_module_version": "1.2.0",
            "_view_name": "LayoutView",
            "align_content": null,
            "align_items": null,
            "align_self": null,
            "border": null,
            "bottom": null,
            "display": null,
            "flex": null,
            "flex_flow": null,
            "grid_area": null,
            "grid_auto_columns": null,
            "grid_auto_flow": null,
            "grid_auto_rows": null,
            "grid_column": null,
            "grid_gap": null,
            "grid_row": null,
            "grid_template_areas": null,
            "grid_template_columns": null,
            "grid_template_rows": null,
            "height": null,
            "justify_content": null,
            "justify_items": null,
            "left": null,
            "margin": null,
            "max_height": null,
            "max_width": null,
            "min_height": null,
            "min_width": null,
            "object_fit": null,
            "object_position": null,
            "order": null,
            "overflow": null,
            "overflow_x": null,
            "overflow_y": null,
            "padding": null,
            "right": null,
            "top": null,
            "visibility": null,
            "width": null
          }
        },
        "6d9b3a19158c491f8dead78f53097b19": {
          "model_module": "@jupyter-widgets/controls",
          "model_name": "SliderStyleModel",
          "model_module_version": "1.5.0",
          "state": {
            "_model_module": "@jupyter-widgets/controls",
            "_model_module_version": "1.5.0",
            "_model_name": "SliderStyleModel",
            "_view_count": null,
            "_view_module": "@jupyter-widgets/base",
            "_view_module_version": "1.2.0",
            "_view_name": "StyleView",
            "description_width": "",
            "handle_color": null
          }
        },
        "1a88126643f8437c9430855ddd39f989": {
          "model_module": "@jupyter-widgets/base",
          "model_name": "LayoutModel",
          "model_module_version": "1.2.0",
          "state": {
            "_model_module": "@jupyter-widgets/base",
            "_model_module_version": "1.2.0",
            "_model_name": "LayoutModel",
            "_view_count": null,
            "_view_module": "@jupyter-widgets/base",
            "_view_module_version": "1.2.0",
            "_view_name": "LayoutView",
            "align_content": null,
            "align_items": null,
            "align_self": null,
            "border": null,
            "bottom": null,
            "display": null,
            "flex": null,
            "flex_flow": null,
            "grid_area": null,
            "grid_auto_columns": null,
            "grid_auto_flow": null,
            "grid_auto_rows": null,
            "grid_column": null,
            "grid_gap": null,
            "grid_row": null,
            "grid_template_areas": null,
            "grid_template_columns": null,
            "grid_template_rows": null,
            "height": null,
            "justify_content": null,
            "justify_items": null,
            "left": null,
            "margin": null,
            "max_height": null,
            "max_width": null,
            "min_height": null,
            "min_width": null,
            "object_fit": null,
            "object_position": null,
            "order": null,
            "overflow": null,
            "overflow_x": null,
            "overflow_y": null,
            "padding": null,
            "right": null,
            "top": null,
            "visibility": null,
            "width": null
          }
        },
        "c1d4d7f11bc54ac3af7babe5fb3c6a2a": {
          "model_module": "@jupyter-widgets/controls",
          "model_name": "SliderStyleModel",
          "model_module_version": "1.5.0",
          "state": {
            "_model_module": "@jupyter-widgets/controls",
            "_model_module_version": "1.5.0",
            "_model_name": "SliderStyleModel",
            "_view_count": null,
            "_view_module": "@jupyter-widgets/base",
            "_view_module_version": "1.2.0",
            "_view_name": "StyleView",
            "description_width": "",
            "handle_color": null
          }
        },
        "3ca10c98e5e242f99976809299d6f086": {
          "model_module": "@jupyter-widgets/base",
          "model_name": "LayoutModel",
          "model_module_version": "1.2.0",
          "state": {
            "_model_module": "@jupyter-widgets/base",
            "_model_module_version": "1.2.0",
            "_model_name": "LayoutModel",
            "_view_count": null,
            "_view_module": "@jupyter-widgets/base",
            "_view_module_version": "1.2.0",
            "_view_name": "LayoutView",
            "align_content": null,
            "align_items": null,
            "align_self": null,
            "border": null,
            "bottom": null,
            "display": null,
            "flex": null,
            "flex_flow": null,
            "grid_area": null,
            "grid_auto_columns": null,
            "grid_auto_flow": null,
            "grid_auto_rows": null,
            "grid_column": null,
            "grid_gap": null,
            "grid_row": null,
            "grid_template_areas": null,
            "grid_template_columns": null,
            "grid_template_rows": null,
            "height": null,
            "justify_content": null,
            "justify_items": null,
            "left": null,
            "margin": null,
            "max_height": null,
            "max_width": null,
            "min_height": null,
            "min_width": null,
            "object_fit": null,
            "object_position": null,
            "order": null,
            "overflow": null,
            "overflow_x": null,
            "overflow_y": null,
            "padding": null,
            "right": null,
            "top": null,
            "visibility": null,
            "width": null
          }
        },
        "14ae5bf6c9704ff0a1074e15bf7d2d71": {
          "model_module": "@jupyter-widgets/controls",
          "model_name": "SliderStyleModel",
          "model_module_version": "1.5.0",
          "state": {
            "_model_module": "@jupyter-widgets/controls",
            "_model_module_version": "1.5.0",
            "_model_name": "SliderStyleModel",
            "_view_count": null,
            "_view_module": "@jupyter-widgets/base",
            "_view_module_version": "1.2.0",
            "_view_name": "StyleView",
            "description_width": "",
            "handle_color": null
          }
        },
        "57b2b3eca52040b68e13eb0faa76d91c": {
          "model_module": "@jupyter-widgets/base",
          "model_name": "LayoutModel",
          "model_module_version": "1.2.0",
          "state": {
            "_model_module": "@jupyter-widgets/base",
            "_model_module_version": "1.2.0",
            "_model_name": "LayoutModel",
            "_view_count": null,
            "_view_module": "@jupyter-widgets/base",
            "_view_module_version": "1.2.0",
            "_view_name": "LayoutView",
            "align_content": null,
            "align_items": null,
            "align_self": null,
            "border": null,
            "bottom": null,
            "display": null,
            "flex": null,
            "flex_flow": null,
            "grid_area": null,
            "grid_auto_columns": null,
            "grid_auto_flow": null,
            "grid_auto_rows": null,
            "grid_column": null,
            "grid_gap": null,
            "grid_row": null,
            "grid_template_areas": null,
            "grid_template_columns": null,
            "grid_template_rows": null,
            "height": null,
            "justify_content": null,
            "justify_items": null,
            "left": null,
            "margin": null,
            "max_height": null,
            "max_width": null,
            "min_height": null,
            "min_width": null,
            "object_fit": null,
            "object_position": null,
            "order": null,
            "overflow": null,
            "overflow_x": null,
            "overflow_y": null,
            "padding": null,
            "right": null,
            "top": null,
            "visibility": null,
            "width": null
          }
        }
      }
    }
  },
  "nbformat_minor": 0,
  "nbformat": 4,
  "cells": [
    {
      "cell_type": "markdown",
      "metadata": {
        "id": "view-in-github",
        "colab_type": "text"
      },
      "source": [
        "<a href=\"https://colab.research.google.com/github/V-Vedant-V/Simulating-Neural-network-s-Workings./blob/main/How_does_a_neural_net_really_work%3F.ipynb\" target=\"_parent\"><img src=\"https://colab.research.google.com/assets/colab-badge.svg\" alt=\"Open In Colab\"/></a>"
      ]
    },
    {
      "cell_type": "markdown",
      "source": [
        "## Fitting a function with *gradient descent*"
      ],
      "metadata": {
        "id": "yR7r7Z257eN7"
      }
    },
    {
      "cell_type": "markdown",
      "source": [
        "A neural network is just a mathematical function. In the most standard kind of neural network, the function:\n",
        "\n",
        "1. Multiplies each input by a number of values. These values are known as *parameters*\n",
        "1. Adds them up for each group of values\n",
        "1. Replaces the negative numbers with zeros\n",
        "\n",
        "This represents one \"layer\". Then these three steps are repeated, using the outputs of the previous layer as the inputs to the next layer. Initially, the parameters in this function are selected randomly. Therefore a newly created neural network doesn't do anything useful at all -- it's just random!\n",
        "\n",
        "To get the function to \"learn\" to do something useful, we have to change the parameters to make them \"better\" in some way. We do this using *gradient descent*. Let's see how this works..."
      ],
      "metadata": {
        "id": "PQ8qQltM7eN7"
      }
    },
    {
      "cell_type": "code",
      "source": [
        "from ipywidgets import interact\n",
        "from fastai.basics import *\n",
        "\n",
        "plt.rc('figure', dpi=90)\n",
        "\n",
        "def plot_function(f, title=None, min=-2.1, max=2.1, color='r', ylim=None):\n",
        "    x = torch.linspace(min,max, 100)[:,None]\n",
        "    if ylim: plt.ylim(ylim)\n",
        "    plt.plot(x, f(x), color)\n",
        "    if title is not None: plt.title(title)"
      ],
      "metadata": {
        "_kg_hide-input": true,
        "execution": {
          "iopub.status.busy": "2022-04-23T08:54:34.585263Z",
          "iopub.execute_input": "2022-04-23T08:54:34.587766Z",
          "iopub.status.idle": "2022-04-23T08:54:36.961606Z",
          "shell.execute_reply.started": "2022-04-23T08:54:34.587646Z",
          "shell.execute_reply": "2022-04-23T08:54:36.960846Z"
        },
        "trusted": true,
        "id": "ZIGTAt3Z7eN8"
      },
      "execution_count": 1,
      "outputs": []
    },
    {
      "cell_type": "markdown",
      "source": [
        "To learn how gradient descent works, we're going to start by fitting a quadratic, since that's a function most of us are probably more familiar with than a neural network. Here's the quadratic we're going to try to fit:"
      ],
      "metadata": {
        "id": "WA1hr1QY7eN9"
      }
    },
    {
      "cell_type": "code",
      "source": [
        "def f(x): return 2*x**2 + x + 1\n",
        "\n",
        "plot_function(f, \"$2x^2 + x + 1$\")"
      ],
      "metadata": {
        "execution": {
          "iopub.status.busy": "2022-04-23T08:54:36.963135Z",
          "iopub.execute_input": "2022-04-23T08:54:36.96361Z",
          "iopub.status.idle": "2022-04-23T08:54:37.603953Z",
          "shell.execute_reply.started": "2022-04-23T08:54:36.963574Z",
          "shell.execute_reply": "2022-04-23T08:54:37.60309Z"
        },
        "trusted": true,
        "id": "hiiJRuXB7eN-",
        "outputId": "1346352c-0fc0-4082-acab-fae139b3fc57",
        "colab": {
          "base_uri": "https://localhost:8080/",
          "height": 412
        }
      },
      "execution_count": 2,
      "outputs": [
        {
          "output_type": "display_data",
          "data": {
            "text/plain": [
              "<Figure size 576x432 with 1 Axes>"
            ],
            "image/png": "[encoded data removed]"
          },
          "metadata": {}
        }
      ]
    },
    {
      "cell_type": "markdown",
      "source": [
        "This quadratic is of the form $ax^2+bx+c$, with parameters $a=2$, $b=1$, $c=1$. To make it easier to try out different quadratics for fitting a model to the data we'll create, let's create a function that calculates the value of a point on any quadratic:"
      ],
      "metadata": {
        "id": "PR8DXt7y7eN-"
      }
    },
    {
      "cell_type": "code",
      "source": [
        "def quad(a, b, c, x): return a*x**2 + b*x + c"
      ],
      "metadata": {
        "execution": {
          "iopub.status.busy": "2022-04-23T08:54:37.605073Z",
          "iopub.execute_input": "2022-04-23T08:54:37.605295Z",
          "iopub.status.idle": "2022-04-23T08:54:37.610024Z",
          "shell.execute_reply.started": "2022-04-23T08:54:37.605268Z",
          "shell.execute_reply": "2022-04-23T08:54:37.609103Z"
        },
        "trusted": true,
        "id": "Gf3ToPHC7eN-"
      },
      "execution_count": 3,
      "outputs": []
    },
    {
      "cell_type": "markdown",
      "source": [
        "If we fix some particular values of a, b, and c, then we'll have made a quadratic. To fix values passed to a function in python, we use the `partial` function, like so:"
      ],
      "metadata": {
        "id": "Ip4jWGvq7eN_"
      }
    },
    {
      "cell_type": "code",
      "source": [
        "def mk_quad(a,b,c): return partial(quad, a,b,c)"
      ],
      "metadata": {
        "execution": {
          "iopub.status.busy": "2022-04-23T08:54:37.611932Z",
          "iopub.execute_input": "2022-04-23T08:54:37.612415Z",
          "iopub.status.idle": "2022-04-23T08:54:37.622926Z",
          "shell.execute_reply.started": "2022-04-23T08:54:37.612377Z",
          "shell.execute_reply": "2022-04-23T08:54:37.622077Z"
        },
        "trusted": true,
        "id": "ALvaAxPF7eOA"
      },
      "execution_count": 4,
      "outputs": []
    },
    {
      "cell_type": "markdown",
      "source": [
        "So for instance, we can recreate our previous quadratic:"
      ],
      "metadata": {
        "id": "J5Mi1bP47eOA"
      }
    },
    {
      "cell_type": "code",
      "source": [
        "f2 = mk_quad(2,1,1)\n",
        "plot_function(f2)"
      ],
      "metadata": {
        "execution": {
          "iopub.status.busy": "2022-04-23T08:54:37.624649Z",
          "iopub.execute_input": "2022-04-23T08:54:37.625357Z",
          "iopub.status.idle": "2022-04-23T08:54:37.829696Z",
          "shell.execute_reply.started": "2022-04-23T08:54:37.62531Z",
          "shell.execute_reply": "2022-04-23T08:54:37.828997Z"
        },
        "trusted": true,
        "id": "Tqz_wGi67eOA",
        "outputId": "4115dff5-c7e5-439f-8ce4-582a9b65bc2f",
        "colab": {
          "base_uri": "https://localhost:8080/",
          "height": 389
        }
      },
      "execution_count": 6,
      "outputs": [
        {
          "output_type": "display_data",
          "data": {
            "text/plain": [
              "<Figure size 576x432 with 1 Axes>"
            ],
            "image/png": "[encoded data removed]"
          },
          "metadata": {}
        }
      ]
    },
    {
      "cell_type": "markdown",
      "source": [
        "Now let's simulate making some noisy measurements of our quadratic `f`. We'll then use gradient descent to see if we can recreate the original function from the data.\n",
        "\n",
        "Here's a couple of functions to add some random noise to data:"
      ],
      "metadata": {
        "id": "_nIPzLvP7eOB"
      }
    },
    {
      "cell_type": "code",
      "source": [
        "def noise(x, scale): return np.random.normal(scale=scale, size=x.shape)\n",
        "def add_noise(x, mult, add): return x * (1+noise(x,mult)) + noise(x,add)"
      ],
      "metadata": {
        "execution": {
          "iopub.status.busy": "2022-04-23T08:54:37.831069Z",
          "iopub.execute_input": "2022-04-23T08:54:37.831627Z",
          "iopub.status.idle": "2022-04-23T08:54:37.838391Z",
          "shell.execute_reply.started": "2022-04-23T08:54:37.831581Z",
          "shell.execute_reply": "2022-04-23T08:54:37.837454Z"
        },
        "trusted": true,
        "id": "VRjqzeog7eOB"
      },
      "execution_count": 7,
      "outputs": []
    },
    {
      "cell_type": "markdown",
      "source": [
        "Let's use the now to create our noisy measurements based on the quadratic above:"
      ],
      "metadata": {
        "id": "PQ9WHHJA7eOB"
      }
    },
    {
      "cell_type": "code",
      "source": [
        "np.random.seed(42)\n",
        "\n",
        "x = torch.linspace(-2, 2, steps=20)[:,None]\n",
        "y = add_noise(f(x), 0.15, 0.7)"
      ],
      "metadata": {
        "execution": {
          "iopub.status.busy": "2022-04-23T08:54:37.839727Z",
          "iopub.execute_input": "2022-04-23T08:54:37.83997Z",
          "iopub.status.idle": "2022-04-23T08:54:37.86166Z",
          "shell.execute_reply.started": "2022-04-23T08:54:37.839939Z",
          "shell.execute_reply": "2022-04-23T08:54:37.861067Z"
        },
        "trusted": true,
        "id": "I2kDyCoC7eOB",
        "outputId": "1efd2c70-31c5-4729-cc77-b806a563c1c6",
        "colab": {
          "base_uri": "https://localhost:8080/"
        }
      },
      "execution_count": 13,
      "outputs": [
        {
          "output_type": "stream",
          "name": "stderr",
          "text": [
            "/tmp/ipython-input-7-1958766108.py:2: DeprecationWarning: __array_wrap__ must accept context and return_scalar arguments (positionally) in the future. (Deprecated NumPy 2.0)\n",
            "  def add_noise(x, mult, add): return x * (1+noise(x,mult)) + noise(x,add)\n"
          ]
        }
      ]
    },
    {
      "cell_type": "markdown",
      "source": [
        "Here's the first few values of each of `x` and `y`:"
      ],
      "metadata": {
        "id": "VSX7-9_97eOB"
      }
    },
    {
      "cell_type": "code",
      "source": [
        "x[:5],y[:5]"
      ],
      "metadata": {
        "execution": {
          "iopub.status.busy": "2022-04-23T08:54:37.862576Z",
          "iopub.execute_input": "2022-04-23T08:54:37.863311Z",
          "iopub.status.idle": "2022-04-23T08:54:37.901746Z",
          "shell.execute_reply.started": "2022-04-23T08:54:37.863275Z",
          "shell.execute_reply": "2022-04-23T08:54:37.9009Z"
        },
        "trusted": true,
        "id": "k4pI2gaZ7eOC",
        "outputId": "2bedef9f-a9ab-44b6-a2fb-7b64bc893b16",
        "colab": {
          "base_uri": "https://localhost:8080/"
        }
      },
      "execution_count": 9,
      "outputs": [
        {
          "output_type": "execute_result",
          "data": {
            "text/plain": [
              "(tensor([[-2.0000],\n",
              "         [-1.7895],\n",
              "         [-1.5789],\n",
              "         [-1.3684],\n",
              "         [-1.1579]]),\n",
              " tensor([[9.7200],\n",
              "         [5.1598],\n",
              "         [4.9367],\n",
              "         [2.0110],\n",
              "         [1.6183]], dtype=torch.float64))"
            ]
          },
          "metadata": {},
          "execution_count": 9
        }
      ]
    },
    {
      "cell_type": "markdown",
      "source": [
        "As you can see, they're *tensors*. A tensor is just like an `array` in numpy. Furthermore, PyTorch, which most researchers use for deep learning, is modeled closely on numpy.) A tensor can be a single number (a *scalar* or *rank-0 tensor*), a list of numbers (a *vector* or *rank-1 tensor*), a table of numbers (a *matrix* or *rank-2 tensor*), a table of tables of numbers (a *rank-3 tensor*), and so forth.\n",
        "\n",
        "We're not going to learn much about our data by just looking at the raw numbers, so let's draw a picture:"
      ],
      "metadata": {
        "id": "3dVd2Ga97eOC"
      }
    },
    {
      "cell_type": "code",
      "source": [
        "plt.scatter(x,y);"
      ],
      "metadata": {
        "execution": {
          "iopub.status.busy": "2022-04-23T08:54:37.903248Z",
          "iopub.execute_input": "2022-04-23T08:54:37.903736Z",
          "iopub.status.idle": "2022-04-23T08:54:38.141765Z",
          "shell.execute_reply.started": "2022-04-23T08:54:37.903689Z",
          "shell.execute_reply": "2022-04-23T08:54:38.140818Z"
        },
        "trusted": true,
        "id": "YOoZVi4R7eOD",
        "outputId": "9cfce317-09d8-4790-f695-4332d31720db",
        "colab": {
          "base_uri": "https://localhost:8080/",
          "height": 389
        }
      },
      "execution_count": 14,
      "outputs": [
        {
          "output_type": "display_data",
          "data": {
            "text/plain": [
              "<Figure size 576x432 with 1 Axes>"
            ],
            "image/png": "[encoded data removed]"
          },
          "metadata": {}
        }
      ]
    },
    {
      "cell_type": "markdown",
      "source": [
        "How do we find values of a, b, and c which fit this data? One approach is to try a few values and see what fits. Here's a function which overlays a quadratic on top of our data, along with some sliders to change a, b, and c, and see how it looks:"
      ],
      "metadata": {
        "id": "3U7zNOHg7eOD"
      }
    },
    {
      "cell_type": "code",
      "source": [
        "@interact(a=3.0, b=2.1, c=2.1)\n",
        "def plot_quad(a, b, c):\n",
        "    plt.scatter(x,y)\n",
        "    plot_function(mk_quad(a,b,c), ylim=(-3,13))"
      ],
      "metadata": {
        "execution": {
          "iopub.status.busy": "2022-04-23T08:54:38.143544Z",
          "iopub.execute_input": "2022-04-23T08:54:38.143753Z",
          "iopub.status.idle": "2022-04-23T08:54:38.372553Z",
          "shell.execute_reply.started": "2022-04-23T08:54:38.143725Z",
          "shell.execute_reply": "2022-04-23T08:54:38.37172Z"
        },
        "trusted": true,
        "id": "zZFhgnIa7eOE",
        "outputId": "c689da6d-e46f-478f-f1e5-cbb0b0509be5",
        "colab": {
          "base_uri": "https://localhost:8080/",
          "height": 485,
          "referenced_widgets": [
            "5a14787c192c49d5a270f1ef9040e491",
            "a7cece6f40ad4411b0dc8810295ccd7a",
            "41975ca3da48494eaf41349d4c8eece4",
            "817e40bccbab450081b476b2ee17dbda",
            "36117ef516aa4046b8d566b240b4cf76",
            "0282d027079d4dfcae4c6ebf996d7f24",
            "1b5863968931438aa608cc98e6c263e8",
            "d136091449f948109ca74e6240234e60",
            "746be059bb5c454884837fe998d8154a",
            "3732d23841674daf8029a5b651ff26aa",
            "011025920bca4314873bcb76816252e9",
            "bcf785b396ae42949da03ae24a98e15d",
            "f94ec135f8bb4312a5224ba897445a0f"
          ]
        }
      },
      "execution_count": 39,
      "outputs": [
        {
          "output_type": "display_data",
          "data": {
            "text/plain": [
              "interactive(children=(FloatSlider(value=3.0, description='a', max=9.0, min=-3.0), FloatSlider(value=2.1, descr…"
            ],
            "application/vnd.jupyter.widget-view+json": {
              "version_major": 2,
              "version_minor": 0,
              "model_id": "5a14787c192c49d5a270f1ef9040e491"
            }
          },
          "metadata": {}
        }
      ]
    },
    {
      "cell_type": "markdown",
      "source": [
        "Try moving slider `a` a bit to the left. Does that look better or worse? How about if you move it a bit to the right? Find out which direction seems to improve the fit of the quadratic to the data, and move the slider a bit in that direction. Next, do the same for slider `b`: first figure out which direction improves the fit, then move it a bit in that direction. Then do the same for `c`.\n",
        "\n",
        "OK, now go back to slider `a` and repeat the process. Do it again for `b` and `c` as well.\n",
        "\n",
        "Did you notice that by going back and doing the sliders a second time that you were able to improve things a bit further? That's an important insight -- it's only after changing `b` and `c`, for instance, that you realise that `a` actually needs some adjustment based on those new values.\n",
        "\n",
        "One thing that's making this tricky is that we don't really have a great sense of whether our fit is really better or worse. It would be easier if we had a numeric measure of that. On easy metric we could use is *mean absolute error* -- which is the distance from each data point to the curve:"
      ],
      "metadata": {
        "id": "uupCDcUl7eOF"
      }
    },
    {
      "cell_type": "code",
      "source": [
        "def mae(preds, acts): return (torch.abs(preds-acts)).mean()"
      ],
      "metadata": {
        "execution": {
          "iopub.status.busy": "2022-04-23T08:55:06.428918Z",
          "iopub.execute_input": "2022-04-23T08:55:06.429237Z",
          "iopub.status.idle": "2022-04-23T08:55:06.433738Z",
          "shell.execute_reply.started": "2022-04-23T08:55:06.429205Z",
          "shell.execute_reply": "2022-04-23T08:55:06.432713Z"
        },
        "trusted": true,
        "id": "shwOGtYX7eOF"
      },
      "execution_count": 16,
      "outputs": []
    },
    {
      "cell_type": "markdown",
      "source": [
        "We'll update our interactive function to print this at the top for us.\n",
        "\n",
        "Use this to repeat the approach we took before to try to find the best fit, but this time just use the value of the metric to decide which direction to move each slider, and how far to move it.\n",
        "\n",
        "This time around, try doing it in the opposite order: `c`, then `b`, then `a`.\n",
        "\n",
        "You'll probably find that you have to go through the set of sliders a couple of times to get the best fit."
      ],
      "metadata": {
        "id": "y6ORuzjb7eOF"
      }
    },
    {
      "cell_type": "code",
      "source": [
        "@interact(a=3.0, b=2.1, c=2.1)\n",
        "def plot_quad(a, b, c):\n",
        "    f = mk_quad(a,b,c)\n",
        "    plt.scatter(x,y)\n",
        "    loss = mae(f(x), y)\n",
        "    plot_function(f, ylim=(-3,12), title=f\"MAE: {loss:.2f}\")"
      ],
      "metadata": {
        "execution": {
          "iopub.status.busy": "2022-04-23T08:55:07.451295Z",
          "iopub.execute_input": "2022-04-23T08:55:07.452152Z",
          "iopub.status.idle": "2022-04-23T08:55:07.701428Z",
          "shell.execute_reply.started": "2022-04-23T08:55:07.452102Z",
          "shell.execute_reply": "2022-04-23T08:55:07.700643Z"
        },
        "trusted": true,
        "id": "z7g_00BR7eOG",
        "outputId": "e91ff7f8-b281-435b-c864-5222f892487c",
        "colab": {
          "base_uri": "https://localhost:8080/",
          "height": 504,
          "referenced_widgets": [
            "7b01a9c4dbd44832ba366f83f96bf29e",
            "177c8b2889ce4751b097af76df01d29a",
            "80a5613929c04953b0253bfbcb081805",
            "2a4d8729af5d4d73942d4549f3cd0e95",
            "399a8970f90349b48a88497372d59e37",
            "69da6ae5086446a5b937a64c0c36c96d",
            "40a27c3f1ad648bf84717502f422b9aa",
            "096b5473ed8c4c98929cb0e6e57cfbb6",
            "dac90bada1284a7f8d14c53e4d44da73",
            "a1f3e4586a644a9480c2658e7496f251",
            "b12a785260fe45fea8d3992bb2dbaa1f",
            "ede4c52ea7be4b38b2c7669d64bba255",
            "3241e44e7f8e4967b8455ba89c896217"
          ]
        }
      },
      "execution_count": 38,
      "outputs": [
        {
          "output_type": "display_data",
          "data": {
            "text/plain": [
              "interactive(children=(FloatSlider(value=3.0, description='a', max=9.0, min=-3.0), FloatSlider(value=2.1, descr…"
            ],
            "application/vnd.jupyter.widget-view+json": {
              "version_major": 2,
              "version_minor": 0,
              "model_id": "7b01a9c4dbd44832ba366f83f96bf29e"
            }
          },
          "metadata": {}
        }
      ]
    },
    {
      "cell_type": "markdown",
      "source": [
        "In a modern neural network we'll often have tens of millions of parameters to fit, or more, and thousands or millions of data points to fit them to. We're not going to be able to do that by moving sliders around! We'll need to automate this process.\n",
        "\n",
        "Thankfully, that turns out to be pretty straightforward. We can use calculus to figure out, for each parameter, whether we should increase or decrease it."
      ],
      "metadata": {
        "id": "u31rFAmG7eOG"
      }
    },
    {
      "cell_type": "markdown",
      "source": [
        "## Automating gradient descent"
      ],
      "metadata": {
        "id": "2xtTiSV17eOG"
      }
    },
    {
      "cell_type": "markdown",
      "source": [
        "The basic idea is this: if we know the *gradient* of our `mae()` function *with respect to* our parameters, `a`, `b`, and `c`, then that means we know how adjusting (for instance) `a` will change the value of `mae()`. If, say, `a` has a *negative* gradient, then we know that increasing `a` will decrease `mae()`. Then we know that's what we need to do, since we trying to make `mae()` as low as possible.\n",
        "\n",
        "So, we find the gradient of `mae()` for each of our parameters, and then adjust our parameters a bit in the *opposite* direction to the sign of the gradient.\n",
        "\n",
        "To do this, first we need a function that takes all the parameters `a`, `b`, and `c` as a single vector input, and returns the value `mae()` based on those parameters:"
      ],
      "metadata": {
        "id": "H7b5mR7S7eOG"
      }
    },
    {
      "cell_type": "code",
      "source": [
        "def quad_mae(params):\n",
        "    f = mk_quad(*params)\n",
        "    return mae(f(x), y)"
      ],
      "metadata": {
        "execution": {
          "iopub.status.busy": "2022-04-22T22:28:41.831976Z",
          "iopub.execute_input": "2022-04-22T22:28:41.832211Z",
          "iopub.status.idle": "2022-04-22T22:28:41.837761Z",
          "shell.execute_reply.started": "2022-04-22T22:28:41.832181Z",
          "shell.execute_reply": "2022-04-22T22:28:41.836892Z"
        },
        "trusted": true,
        "id": "sXmo_fXZ7eOH"
      },
      "execution_count": 18,
      "outputs": []
    },
    {
      "cell_type": "markdown",
      "source": [
        "Let's try it:"
      ],
      "metadata": {
        "id": "E_8jo70-7eOH"
      }
    },
    {
      "cell_type": "code",
      "source": [
        "quad_mae([3.0, 2.1, 2.1])"
      ],
      "metadata": {
        "execution": {
          "iopub.status.busy": "2022-04-22T22:28:41.839427Z",
          "iopub.execute_input": "2022-04-22T22:28:41.839663Z",
          "iopub.status.idle": "2022-04-22T22:28:41.853343Z",
          "shell.execute_reply.started": "2022-04-22T22:28:41.839635Z",
          "shell.execute_reply": "2022-04-22T22:28:41.852644Z"
        },
        "trusted": true,
        "id": "3CqYIbkW7eOH",
        "outputId": "1a4383a5-492d-4c54-809a-28a50c8436b6",
        "colab": {
          "base_uri": "https://localhost:8080/"
        }
      },
      "execution_count": 25,
      "outputs": [
        {
          "output_type": "execute_result",
          "data": {
            "text/plain": [
              "tensor(2.9873, dtype=torch.float64)"
            ]
          },
          "metadata": {},
          "execution_count": 25
        }
      ]
    },
    {
      "cell_type": "markdown",
      "source": [
        "Yup, that's the same as the starting `mae()` we had in our plot before.\n",
        "\n",
        "We're first going to do exactly the same thing as we did manually -- pick some arbritrary starting point for our parameters. We'll put them all into a single tensor:"
      ],
      "metadata": {
        "id": "zA0Agqfn7eOI"
      }
    },
    {
      "cell_type": "code",
      "source": [
        "abc = torch.tensor([3.0,2.1,2.1])"
      ],
      "metadata": {
        "execution": {
          "iopub.status.busy": "2022-04-22T22:28:41.854708Z",
          "iopub.execute_input": "2022-04-22T22:28:41.855001Z",
          "iopub.status.idle": "2022-04-22T22:28:41.863677Z",
          "shell.execute_reply.started": "2022-04-22T22:28:41.854965Z",
          "shell.execute_reply": "2022-04-22T22:28:41.862424Z"
        },
        "trusted": true,
        "id": "o-LrLAcQ7eOI"
      },
      "execution_count": 26,
      "outputs": []
    },
    {
      "cell_type": "markdown",
      "source": [
        "To tell PyTorch that we want it to calculate gradients for these parameters, we need to call `requires_grad_()`:"
      ],
      "metadata": {
        "id": "vgTwMWlH7eOI"
      }
    },
    {
      "cell_type": "code",
      "source": [
        "abc.requires_grad_()"
      ],
      "metadata": {
        "execution": {
          "iopub.status.busy": "2022-04-22T22:28:41.865105Z",
          "iopub.execute_input": "2022-04-22T22:28:41.86557Z",
          "iopub.status.idle": "2022-04-22T22:28:41.881016Z",
          "shell.execute_reply.started": "2022-04-22T22:28:41.865497Z",
          "shell.execute_reply": "2022-04-22T22:28:41.879681Z"
        },
        "trusted": true,
        "id": "rmNWXqx67eOI",
        "outputId": "7e7b0a5b-84d0-4daa-9f88-7385e08d9e73",
        "colab": {
          "base_uri": "https://localhost:8080/"
        }
      },
      "execution_count": 27,
      "outputs": [
        {
          "output_type": "execute_result",
          "data": {
            "text/plain": [
              "tensor([3.0000, 2.1000, 2.1000], requires_grad=True)"
            ]
          },
          "metadata": {},
          "execution_count": 27
        }
      ]
    },
    {
      "cell_type": "markdown",
      "source": [
        "We can now calculate `mae()`. Generally, when doing gradient descent, the thing we're trying to minimise is called the *loss*:"
      ],
      "metadata": {
        "id": "K1w4BvrO7eOJ"
      }
    },
    {
      "cell_type": "code",
      "source": [
        "loss = quad_mae(abc)\n",
        "loss"
      ],
      "metadata": {
        "execution": {
          "iopub.status.busy": "2022-04-22T22:28:41.882498Z",
          "iopub.execute_input": "2022-04-22T22:28:41.882908Z",
          "iopub.status.idle": "2022-04-22T22:28:41.894811Z",
          "shell.execute_reply.started": "2022-04-22T22:28:41.882865Z",
          "shell.execute_reply": "2022-04-22T22:28:41.893828Z"
        },
        "trusted": true,
        "id": "IvYvWknI7eOJ",
        "outputId": "71cd08ef-0337-41b5-a98e-fe5cf1772166",
        "colab": {
          "base_uri": "https://localhost:8080/"
        }
      },
      "execution_count": 28,
      "outputs": [
        {
          "output_type": "execute_result",
          "data": {
            "text/plain": [
              "tensor(2.9873, dtype=torch.float64, grad_fn=<MeanBackward0>)"
            ]
          },
          "metadata": {},
          "execution_count": 28
        }
      ]
    },
    {
      "cell_type": "markdown",
      "source": [
        "To get PyTorch to now calculate the gradients, we need to call `backward()`"
      ],
      "metadata": {
        "id": "A6MAI9U97eOJ"
      }
    },
    {
      "cell_type": "code",
      "source": [
        "loss.backward()"
      ],
      "metadata": {
        "execution": {
          "iopub.status.busy": "2022-04-22T22:28:41.896144Z",
          "iopub.execute_input": "2022-04-22T22:28:41.896493Z",
          "iopub.status.idle": "2022-04-22T22:28:41.914719Z",
          "shell.execute_reply.started": "2022-04-22T22:28:41.896462Z",
          "shell.execute_reply": "2022-04-22T22:28:41.913717Z"
        },
        "trusted": true,
        "id": "io812Lye7eOJ"
      },
      "execution_count": 29,
      "outputs": []
    },
    {
      "cell_type": "markdown",
      "source": [
        "The gradients will be stored for us in an attribute called `grad`:"
      ],
      "metadata": {
        "id": "Q7eMGnMb7eOJ"
      }
    },
    {
      "cell_type": "code",
      "source": [
        "abc.grad"
      ],
      "metadata": {
        "execution": {
          "iopub.status.busy": "2022-04-22T22:28:41.916372Z",
          "iopub.execute_input": "2022-04-22T22:28:41.91704Z",
          "iopub.status.idle": "2022-04-22T22:28:41.925299Z",
          "shell.execute_reply.started": "2022-04-22T22:28:41.916988Z",
          "shell.execute_reply": "2022-04-22T22:28:41.924407Z"
        },
        "trusted": true,
        "id": "qe94Qak87eOK",
        "outputId": "d32c6d9d-893e-4eb7-9fa6-372dcc91460e",
        "colab": {
          "base_uri": "https://localhost:8080/"
        }
      },
      "execution_count": 30,
      "outputs": [
        {
          "output_type": "execute_result",
          "data": {
            "text/plain": [
              "tensor([1.4737e+00, 7.4506e-09, 1.0000e+00])"
            ]
          },
          "metadata": {},
          "execution_count": 30
        }
      ]
    },
    {
      "cell_type": "markdown",
      "source": [
        "According to these gradients, all our parameters are a little low. So let's increase them a bit. If we subtract the gradient, multiplied by a small number, that should improve them a bit:"
      ],
      "metadata": {
        "id": "AUzepD1p7eOK"
      }
    },
    {
      "cell_type": "code",
      "source": [
        "with torch.no_grad():\n",
        "    abc -= abc.grad*0.01\n",
        "    loss = quad_mae(abc)\n",
        "\n",
        "print(f'loss={loss:.2f}')"
      ],
      "metadata": {
        "execution": {
          "iopub.status.busy": "2022-04-22T22:28:41.927221Z",
          "iopub.execute_input": "2022-04-22T22:28:41.927714Z",
          "iopub.status.idle": "2022-04-22T22:28:41.941471Z",
          "shell.execute_reply.started": "2022-04-22T22:28:41.927665Z",
          "shell.execute_reply": "2022-04-22T22:28:41.940784Z"
        },
        "trusted": true,
        "id": "rHII8vC-7eOK",
        "outputId": "ddef3dbd-d48f-4163-e19e-a635ce88150b",
        "colab": {
          "base_uri": "https://localhost:8080/"
        }
      },
      "execution_count": 31,
      "outputs": [
        {
          "output_type": "stream",
          "name": "stdout",
          "text": [
            "loss=2.96\n"
          ]
        }
      ]
    },
    {
      "cell_type": "markdown",
      "source": [
        "Yes, our loss has gone down!\n",
        "\n",
        "The \"small number\" we multiply is called the *learning rate*, and is the most important *hyper-parameter* to set when training a neural network.\n",
        "\n",
        "BTW, you'll see we had to wrap our calculation of the new parameters in `with torch.no_grad()`. That disables the calculation of gradients for any operations inside that context manager. We have to do that, because `abc -= abc.grad*0.01` isn't actually part of our quadratic model, so we don't want derivitives to include that calculation.\n",
        "\n",
        "We can use a loop to do a few more iterations of this:"
      ],
      "metadata": {
        "id": "xmp82RYy7eOK"
      }
    },
    {
      "cell_type": "code",
      "source": [
        "for i in range(10):\n",
        "    loss = quad_mae(abc)\n",
        "    loss.backward()\n",
        "    with torch.no_grad(): abc -= abc.grad*0.01\n",
        "    print(f'step={i}; loss={loss:.2f}')"
      ],
      "metadata": {
        "execution": {
          "iopub.status.busy": "2022-04-22T22:28:41.942822Z",
          "iopub.execute_input": "2022-04-22T22:28:41.943242Z",
          "iopub.status.idle": "2022-04-22T22:28:41.968186Z",
          "shell.execute_reply.started": "2022-04-22T22:28:41.943202Z",
          "shell.execute_reply": "2022-04-22T22:28:41.967081Z"
        },
        "trusted": true,
        "id": "JVOqxmvS7eOL",
        "outputId": "2c48022f-d617-43de-d830-6b2d84249687",
        "colab": {
          "base_uri": "https://localhost:8080/"
        }
      },
      "execution_count": 32,
      "outputs": [
        {
          "output_type": "stream",
          "name": "stdout",
          "text": [
            "step=0; loss=2.96\n",
            "step=1; loss=2.89\n",
            "step=2; loss=2.80\n",
            "step=3; loss=2.67\n",
            "step=4; loss=2.51\n",
            "step=5; loss=2.33\n",
            "step=6; loss=2.16\n",
            "step=7; loss=2.01\n",
            "step=8; loss=1.87\n",
            "step=9; loss=1.79\n"
          ]
        }
      ]
    },
    {
      "cell_type": "markdown",
      "source": [
        "As you can see, our loss keeps going down!\n",
        "\n",
        "If you keep running this loop for long enough however, you'll see that the loss eventually starts increasing for a while. That's because once the parameters get close to the correct answer, our parameter updates will jump right over the correct answer! To avoid this, we need to decrease our learning rate as we train. This is done using a *learning rate schedule*, and can be automated in most deep learning frameworks, such as fastai and PyTorch."
      ],
      "metadata": {
        "id": "znlhZuAj7eOL"
      }
    },
    {
      "cell_type": "markdown",
      "source": [
        "## How a neural network approximates any given function"
      ],
      "metadata": {
        "id": "RhtNtT_97eOL"
      }
    },
    {
      "cell_type": "markdown",
      "source": [
        "But neural nets are much more convenient and powerful than this example showed, because we can learn much more than just a quadratic with them. How does *that* work?\n",
        "\n",
        "The trick is that a neural network is a very expressive function. In fact -- it's [infinitely expressive](https://en.wikipedia.org/wiki/Universal_approximation_theorem). A neural network can approximate any computable function, given enough parameters. A \"computable function\" can cover just about anything you can imagine: understand and translate human speech; paint a picture; diagnose a disease from medical imaging; write an essay; etc...\n",
        "\n",
        "The way a neural network approximates a function actually turns out to be very simple. The key trick is to combine two extremely basic steps:\n",
        "\n",
        "1. Matrix multiplication, which is just multiplying things together and then adding them up\n",
        "1. The function $max(x,0)$, which simply replaces all negative numbers with zero.\n",
        "\n",
        "In PyTorch, the function $max(x,0)$ is written as `np.clip(x,0)`. The combination of a linear function and this *max()* is called a *rectified linear function*, and it can be implemented like this:"
      ],
      "metadata": {
        "id": "ytSDgjdo7eOL"
      }
    },
    {
      "cell_type": "code",
      "source": [
        "def rectified_linear(m,b,x):\n",
        "    y = m*x+b\n",
        "    return torch.clip(y, 0.)"
      ],
      "metadata": {
        "execution": {
          "iopub.status.busy": "2022-04-22T22:28:41.970051Z",
          "iopub.execute_input": "2022-04-22T22:28:41.970814Z",
          "iopub.status.idle": "2022-04-22T22:28:41.976113Z",
          "shell.execute_reply.started": "2022-04-22T22:28:41.970763Z",
          "shell.execute_reply": "2022-04-22T22:28:41.975338Z"
        },
        "trusted": true,
        "id": "JtIJS9lU7eOL"
      },
      "execution_count": 33,
      "outputs": []
    },
    {
      "cell_type": "markdown",
      "source": [
        "Here's what it looks like:"
      ],
      "metadata": {
        "id": "R3BHmuf57eOL"
      }
    },
    {
      "cell_type": "code",
      "source": [
        "plot_function(partial(rectified_linear, 1,1))"
      ],
      "metadata": {
        "execution": {
          "iopub.status.busy": "2022-04-22T22:28:41.977336Z",
          "iopub.execute_input": "2022-04-22T22:28:41.978052Z",
          "iopub.status.idle": "2022-04-22T22:28:42.197682Z",
          "shell.execute_reply.started": "2022-04-22T22:28:41.978012Z",
          "shell.execute_reply": "2022-04-22T22:28:42.196709Z"
        },
        "trusted": true,
        "id": "t3ll9VG87eOM",
        "outputId": "36683b4c-e649-4cb2-9175-432117a2a897",
        "colab": {
          "base_uri": "https://localhost:8080/",
          "height": 389
        }
      },
      "execution_count": 34,
      "outputs": [
        {
          "output_type": "display_data",
          "data": {
            "text/plain": [
              "<Figure size 576x432 with 1 Axes>"
            ],
            "image/png": "[encoded data removed]"
          },
          "metadata": {}
        }
      ]
    },
    {
      "cell_type": "markdown",
      "source": [
        "BTW, instead of `torch.clip(y, 0.)`, we can instead use `F.relu(x)`, which does exactly the same thing. In PyTorch, `F` refers to the `torch.nn.functional` module."
      ],
      "metadata": {
        "id": "nIjFBkOz7eOM"
      }
    },
    {
      "cell_type": "code",
      "source": [
        "import torch.nn.functional as F\n",
        "def rectified_linear2(m,b,x): return F.relu(m*x+b)\n",
        "plot_function(partial(rectified_linear2, 1,1))"
      ],
      "metadata": {
        "execution": {
          "iopub.status.busy": "2022-04-22T22:28:42.199561Z",
          "iopub.execute_input": "2022-04-22T22:28:42.200133Z",
          "iopub.status.idle": "2022-04-22T22:28:42.40433Z",
          "shell.execute_reply.started": "2022-04-22T22:28:42.200083Z",
          "shell.execute_reply": "2022-04-22T22:28:42.403323Z"
        },
        "trusted": true,
        "id": "eDOtQgo27eOM",
        "outputId": "997d54f7-a703-4455-e68e-084b6d9ead0e",
        "colab": {
          "base_uri": "https://localhost:8080/",
          "height": 389
        }
      },
      "execution_count": 35,
      "outputs": [
        {
          "output_type": "display_data",
          "data": {
            "text/plain": [
              "<Figure size 576x432 with 1 Axes>"
            ],
            "image/png": "[encoded data removed]"
          },
          "metadata": {}
        }
      ]
    },
    {
      "cell_type": "markdown",
      "source": [
        "To understand how this function works, try using this interactive version to play around with the parameters `m` and `b`:"
      ],
      "metadata": {
        "id": "RNlH-PJD7eOM"
      }
    },
    {
      "cell_type": "code",
      "source": [
        "@interact(m=1.5, b=1.5)\n",
        "def plot_relu(m, b):\n",
        "    plot_function(partial(rectified_linear, m,b), ylim=(-1,4))"
      ],
      "metadata": {
        "execution": {
          "iopub.status.busy": "2022-04-22T22:28:42.405808Z",
          "iopub.execute_input": "2022-04-22T22:28:42.406108Z",
          "iopub.status.idle": "2022-04-22T22:28:42.61219Z",
          "shell.execute_reply.started": "2022-04-22T22:28:42.406071Z",
          "shell.execute_reply": "2022-04-22T22:28:42.61144Z"
        },
        "trusted": true,
        "id": "8w7Ah4zV7eOM",
        "outputId": "e0826dd0-ed7d-42a8-b86b-81749d2a2ce2",
        "colab": {
          "base_uri": "https://localhost:8080/",
          "height": 458,
          "referenced_widgets": [
            "ae3324e947bb452cb9dc63ab0e2dd15f",
            "8b50e103a8a7486884b33e49c1881b79",
            "f9cb39ee2d2f41e8b2b2c384a54c2c71",
            "148ce513cc654584b1d1e6832da18920",
            "f1e0ae68747f49cd8f4ee23b292431d5",
            "9cc6e8f835dd48ffbf6fbed83db742c5",
            "e6a4c0439f5d4eb6b01e064d14fb094a",
            "a98bbf48d5f94ff3bd4cd31f91db283a",
            "3bd4b0b28ee74d06b2d743b7a7c6c293",
            "a51e9137858a49e0943780799700a63c"
          ]
        }
      },
      "execution_count": 36,
      "outputs": [
        {
          "output_type": "display_data",
          "data": {
            "text/plain": [
              "interactive(children=(FloatSlider(value=1.5, description='m', max=4.5, min=-1.5), FloatSlider(value=1.5, descr…"
            ],
            "application/vnd.jupyter.widget-view+json": {
              "version_major": 2,
              "version_minor": 0,
              "model_id": "ae3324e947bb452cb9dc63ab0e2dd15f"
            }
          },
          "metadata": {}
        }
      ]
    },
    {
      "cell_type": "markdown",
      "source": [
        "As you see, `m` changes the slope, and `b` changes where the \"hook\" appears. This function doesn't do much on its own, but look what happens when we add two of them together:"
      ],
      "metadata": {
        "id": "RD-ShJP_7eON"
      }
    },
    {
      "cell_type": "code",
      "source": [
        "def double_relu(m1,b1,m2,b2,x):\n",
        "    return rectified_linear(m1,b1,x) + rectified_linear(m2,b2,x)\n",
        "\n",
        "@interact(m1=-1.5, b1=-1.5, m2=1.5, b2=1.5)\n",
        "def plot_double_relu(m1, b1, m2, b2):\n",
        "    plot_function(partial(double_relu, m1,b1,m2,b2), ylim=(-1,6))"
      ],
      "metadata": {
        "execution": {
          "iopub.status.busy": "2022-04-22T22:28:42.613745Z",
          "iopub.execute_input": "2022-04-22T22:28:42.614042Z",
          "iopub.status.idle": "2022-04-22T22:28:42.851224Z",
          "shell.execute_reply.started": "2022-04-22T22:28:42.614007Z",
          "shell.execute_reply": "2022-04-22T22:28:42.85035Z"
        },
        "trusted": true,
        "id": "KVTYwkVA7eON",
        "outputId": "37517c6e-6562-48e2-ef04-74e4c97f9c8f",
        "colab": {
          "base_uri": "https://localhost:8080/",
          "height": 522,
          "referenced_widgets": [
            "1a31ab3e62474848b183b4325ee0ca08",
            "d7c997b9597c412780333173eacff91d",
            "8bbe8f5a14524b73bbf3cd79856fca24",
            "98236bb73a7d4c0fb8231cfd2f788dd9",
            "e3cce56b00cd4e0d8af17c1229a1dff3",
            "fc3f3fd19f08488d802d063e158b340d",
            "cceddfb5a61240e884d37d3ed146cf1e",
            "abbd0002158e46f79cdfbb891e24be26",
            "05ce7beab18a4f2fbeb0c0ebe820b63c",
            "cf9ab7011fde4e5c82e77c4af261ddda",
            "6d9b3a19158c491f8dead78f53097b19",
            "1a88126643f8437c9430855ddd39f989",
            "c1d4d7f11bc54ac3af7babe5fb3c6a2a",
            "3ca10c98e5e242f99976809299d6f086",
            "14ae5bf6c9704ff0a1074e15bf7d2d71",
            "57b2b3eca52040b68e13eb0faa76d91c"
          ]
        }
      },
      "execution_count": 37,
      "outputs": [
        {
          "output_type": "display_data",
          "data": {
            "text/plain": [
              "interactive(children=(FloatSlider(value=-1.5, description='m1', max=1.5, min=-4.5), FloatSlider(value=-1.5, de…"
            ],
            "application/vnd.jupyter.widget-view+json": {
              "version_major": 2,
              "version_minor": 0,
              "model_id": "1a31ab3e62474848b183b4325ee0ca08"
            }
          },
          "metadata": {}
        }
      ]
    },
    {
      "cell_type": "markdown",
      "source": [
        "If you play around with that for a while, you notice something quite profound: with enough of these rectified linear functions added together, you could approximate any function with a single input, to whatever accuracy you like! Any time the function doesn't quite match, you can just add a few more additions to the mix to make it a bit closer. As an experiment, perhaps you'd like to try creating your own `plot_triple_relu` interactive function, and maybe even include the scatter plot of our data from before, to see how close you can get?\n",
        "\n",
        "This exact same approach can be expanded to functions of 2, 3, or more parameters."
      ],
      "metadata": {
        "id": "4HaF9auG7eON"
      }
    }
  ]
}